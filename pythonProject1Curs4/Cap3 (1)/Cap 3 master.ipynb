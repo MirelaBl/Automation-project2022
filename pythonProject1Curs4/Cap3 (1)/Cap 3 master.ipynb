{
 "cells": [
  {
   "cell_type": "code",
   "execution_count": 16,
   "id": "73d7f25a",
   "metadata": {},
   "outputs": [
    {
     "data": {
      "text/html": [
       "\n",
       "<style>\n",
       "     .blue {\n",
       "         color: blue;\n",
       "     }\n",
       "     \n",
       "     .red {\n",
       "         color: red;\n",
       "     }\n",
       "\n",
       "     .trcz {\n",
       "         color:#48CAE4;\n",
       "     }\n",
       "\n",
       "     .trcz a {\n",
       "         color: inherit;\n",
       "     }\n",
       "\n",
       "     .green {\n",
       "         color: green;\n",
       "     }\n",
       "\n",
       "     .ita {\n",
       "         font-style: italic;\n",
       "     }\n",
       "     \n",
       "     .vio {\n",
       "        font-style: violet;\n",
       "     }\n",
       "\n",
       "\n",
       "</style>\n"
      ],
      "text/plain": [
       "<IPython.core.display.HTML object>"
      ]
     },
     "execution_count": 16,
     "metadata": {},
     "output_type": "execute_result"
    }
   ],
   "source": [
    "from ipythoncss import HTML, STILURI\n",
    "HTML(STILURI)"
   ]
  },
  {
   "cell_type": "code",
   "execution_count": 14,
   "id": "d348dbdc",
   "metadata": {},
   "outputs": [],
   "source": [
    "import sys\n",
    "sys.path\n",
    "sys.path.extend(['C:\\\\Users\\\\paul\\\\OneDrive\\\\Documents\\\\__PyThOn'\n",
    "            'C:\\\\Users\\\\paul\\\\OneDrive\\\\Documents\\\\__PyThOn\\\\0 PyP\\\\_module',\n",
    "            'C:\\\\Users\\\\paul\\\\OneDrive\\\\Documents\\\\__PyThOn\\\\venv\\\\Lib\\\\site-packages'])"
   ]
  },
  {
   "cell_type": "markdown",
   "id": "1c16d6fc",
   "metadata": {},
   "source": [
    "# <span class=\"blue\">3. Structuri de date"
   ]
  },
  {
   "cell_type": "markdown",
   "id": "e842fc30",
   "metadata": {},
   "source": [
    "# <span class=\"blue\">3.1. Introducere"
   ]
  },
  {
   "cell_type": "markdown",
   "id": "c51af015",
   "metadata": {},
   "source": [
    "## <span class=\"trcz\">3.1.1. Indexare, recapitulare"
   ]
  },
  {
   "attachments": {},
   "cell_type": "markdown",
   "id": "a0750133",
   "metadata": {},
   "source": [
    "### - <ins>Indexare pozitiva</ins>, de la stanga la dreapta, incepand cu 0;\n",
    "\n",
    "### -<ins> Indexare negativa</ins>, de la dreapta la stanga, incepand cu -1;\n",
    "\n",
    "### - Putem identifica in mod unic un anumit caracter: sir[index];\n",
    "\n",
    "### - Putem identifica indexul unui caracter sau al unui subsir."
   ]
  },
  {
   "cell_type": "code",
   "execution_count": null,
   "id": "2d346fa7",
   "metadata": {},
   "outputs": [],
   "source": []
  },
  {
   "cell_type": "markdown",
   "id": "74eafaa2",
   "metadata": {},
   "source": [
    "## <span class=\"trcz\">3.1.2. Prelucrarea datelor intr-o bucla"
   ]
  },
  {
   "cell_type": "markdown",
   "id": "f38a21a5",
   "metadata": {},
   "source": [
    "### <span class=\"ita\"> <span class=\"green\"> Prelucrarea caracterelor printr-o bucla while"
   ]
  },
  {
   "cell_type": "code",
   "execution_count": null,
   "id": "0a375195",
   "metadata": {},
   "outputs": [],
   "source": []
  },
  {
   "cell_type": "markdown",
   "id": "181b5452",
   "metadata": {},
   "source": [
    "### <span class=\"ita\"> <span class=\"green\">  Prelucrarea caracterelor printr-o bucla for"
   ]
  },
  {
   "cell_type": "code",
   "execution_count": null,
   "id": "9388435a",
   "metadata": {},
   "outputs": [],
   "source": []
  },
  {
   "cell_type": "markdown",
   "id": "e1faece1",
   "metadata": {},
   "source": [
    "### <span class=\"ita\"> <span class=\"green\">  Prelucrarea cuvintelor printr-o bucla for"
   ]
  },
  {
   "cell_type": "code",
   "execution_count": null,
   "id": "b54ad8a0",
   "metadata": {},
   "outputs": [],
   "source": []
  },
  {
   "cell_type": "markdown",
   "id": "af8fccc3",
   "metadata": {},
   "source": [
    "## <span class=\"trcz\">3.1.3. Slice-ing"
   ]
  },
  {
   "cell_type": "markdown",
   "id": "4a3632d0",
   "metadata": {},
   "source": [
    "### - Utilizeaza indexarea pentru a extrage un subsir;\n",
    "\n",
    "### <span class=\"ita\"> <span class=\"green\"> Extragerea unui subsir de la inceputul sirului:\n",
    "        sir[start: end] - end egal cu numarul de caractere dorit"
   ]
  },
  {
   "cell_type": "code",
   "execution_count": null,
   "id": "43ec631e",
   "metadata": {},
   "outputs": [],
   "source": []
  },
  {
   "cell_type": "markdown",
   "id": "49b4cb9b",
   "metadata": {},
   "source": [
    "### <span class=\"ita\"> <span class=\"green\"> Extragerea unui subsir de la sfarsitul sirului:\n",
    "        sir[start: end] - end mai mare sau egal cu len(sir)"
   ]
  },
  {
   "cell_type": "code",
   "execution_count": null,
   "id": "2dcd9c5e",
   "metadata": {},
   "outputs": [],
   "source": []
  },
  {
   "cell_type": "markdown",
   "id": "661f8d63",
   "metadata": {},
   "source": [
    "### <span class=\"ita\"> <span class=\"green\"> Extragerea unui subsir din mijlocul sirului:\n",
    "        sir[start: end]  "
   ]
  },
  {
   "cell_type": "code",
   "execution_count": null,
   "id": "a2f499a7",
   "metadata": {},
   "outputs": [],
   "source": []
  },
  {
   "cell_type": "markdown",
   "id": "db3f56d9",
   "metadata": {},
   "source": [
    "### <span class=\"ita\"> <span class=\"green\"> Slice cu pas:\n",
    "        sir[start: end: pass]  "
   ]
  },
  {
   "cell_type": "code",
   "execution_count": null,
   "id": "de9c4ac2",
   "metadata": {},
   "outputs": [],
   "source": []
  },
  {
   "cell_type": "markdown",
   "id": "c94861bd",
   "metadata": {},
   "source": [
    "### <span class=\"ita\"> <span class=\"green\"> Sir invers utilizand slice: \n",
    "        sir[: : -1]  "
   ]
  },
  {
   "cell_type": "code",
   "execution_count": null,
   "id": "0846a5cc",
   "metadata": {},
   "outputs": [],
   "source": []
  },
  {
   "cell_type": "markdown",
   "id": "5115b39c",
   "metadata": {},
   "source": [
    "## <span class=\"trcz\">3.1.4. type"
   ]
  },
  {
   "cell_type": "markdown",
   "id": "af148539",
   "metadata": {},
   "source": [
    "### - Cu ajutorul type determinam tipul de date al unei variabile\n",
    "\n",
    "### - Putem face transformari de tip de date cu functiile adecvate: <span class=\"red\">str</span>(), <span class=\"red\">int</span>(), <span class=\"red\">float</span>()\n",
    "\n",
    "### - Putem utiliza tipul variabilei in conditionare (instructiuni decizionale)"
   ]
  },
  {
   "cell_type": "code",
   "execution_count": null,
   "id": "49e06d75",
   "metadata": {},
   "outputs": [],
   "source": [
    "# determinam tipul de date pentru diferite variabile\n"
   ]
  },
  {
   "cell_type": "code",
   "execution_count": null,
   "id": "0e16c298",
   "metadata": {},
   "outputs": [],
   "source": [
    "# utilizam type in decizii\n"
   ]
  },
  {
   "cell_type": "markdown",
   "id": "848a9708",
   "metadata": {},
   "source": [
    "## <span class=\"trcz\">3.1.5. Data structure"
   ]
  },
  {
   "cell_type": "markdown",
   "id": "eb4def4d",
   "metadata": {},
   "source": [
    "### - tuple\t- (val1, [val2, ...])\n",
    "\n",
    "### - list ---- [val1 [, val2 , ...]\n",
    "\n",
    "### - set ---- {val1 [, val2 , ...]}\n",
    "\n",
    "### - dict --- { key1: val1 [, key2: val2 , ...] }"
   ]
  },
  {
   "cell_type": "markdown",
   "id": "7ca59bf3",
   "metadata": {},
   "source": [
    "# <span class=\"blue\">3.2. Tuple"
   ]
  },
  {
   "cell_type": "markdown",
   "id": "3619982b",
   "metadata": {},
   "source": [
    "\n",
    "### - un tip de date care poate contine diferite elemente, omogene sau eterogene, unice sau duplicat, cu elementele delimitate de ();\n",
    "\n",
    "### - este imutabil;\n",
    "\n",
    "### - i se aplica <em>for, in, is</em>;\n",
    "\n",
    "### - este o structura simpla si eficienta, preferata pentru variabile care nu-si modifica valoarea;\n",
    "\n",
    "### - i se pot aplica operatorii de comparare, concatenare, multiplicare;\n",
    "\n",
    "### - i se aplica <span class=\"red\">len</span>(tuple), <span class=\"red\">dir</span>(tuple), <span class=\"red\">type</span>(tuple);\n",
    "\n",
    "### - elementele unui tuplu sunt indexabile si numarabile;\n",
    "\n",
    "     tuple.count(valoare) - numara cate aparitii are \"valoare\"\n",
    "\n",
    "     tuple.index(valoare [, start, stop]) - ce index are \"valoare\"\n"
   ]
  },
  {
   "cell_type": "code",
   "execution_count": null,
   "id": "130668e6",
   "metadata": {},
   "outputs": [],
   "source": []
  },
  {
   "cell_type": "markdown",
   "id": "c3dedfd6",
   "metadata": {},
   "source": [
    "## <span class=\"trcz\">3.2.1. for/while in tuple"
   ]
  },
  {
   "cell_type": "code",
   "execution_count": null,
   "id": "b67f163d",
   "metadata": {},
   "outputs": [],
   "source": []
  },
  {
   "cell_type": "markdown",
   "id": "e1e56620",
   "metadata": {},
   "source": [
    "## <span class=\"trcz\">3.2.2. Compare tuples"
   ]
  },
  {
   "cell_type": "code",
   "execution_count": null,
   "id": "e6aae71f",
   "metadata": {},
   "outputs": [],
   "source": [
    "t1 = ('ana', 'lia', 'eva')\n",
    "t2 = ('ala', 7, 10, 20)\n",
    "t3 = ('ala', 7, 10, 'ina')"
   ]
  },
  {
   "cell_type": "markdown",
   "id": "c6f08c26",
   "metadata": {},
   "source": [
    "## <span class=\"trcz\">3.2.3. Tuple concatenate/myltiply"
   ]
  },
  {
   "cell_type": "code",
   "execution_count": null,
   "id": "a7b0cd3f",
   "metadata": {},
   "outputs": [],
   "source": []
  },
  {
   "cell_type": "markdown",
   "id": "ff217aa8",
   "metadata": {},
   "source": [
    "## <span class=\"trcz\">3.2.4. Assignment and destructuring of tuples"
   ]
  },
  {
   "cell_type": "code",
   "execution_count": null,
   "id": "c6fa2f68",
   "metadata": {},
   "outputs": [],
   "source": [
    "# assign\n"
   ]
  },
  {
   "cell_type": "code",
   "execution_count": null,
   "id": "05069a8a",
   "metadata": {},
   "outputs": [],
   "source": [
    "# destructuring\n"
   ]
  },
  {
   "cell_type": "code",
   "execution_count": null,
   "id": "2a4e0f10",
   "metadata": {},
   "outputs": [],
   "source": [
    "# single element tuple\n"
   ]
  },
  {
   "cell_type": "markdown",
   "id": "f049e90f",
   "metadata": {},
   "source": [
    "## <span class=\"trcz\">3.2.5. Tuple vs enumerate"
   ]
  },
  {
   "cell_type": "code",
   "execution_count": null,
   "id": "399e5cf9",
   "metadata": {},
   "outputs": [],
   "source": []
  },
  {
   "cell_type": "markdown",
   "id": "92e24488",
   "metadata": {},
   "source": [
    "## <span class=\"trcz\">3.2.6. Methods"
   ]
  },
  {
   "cell_type": "markdown",
   "id": "9e47ade9",
   "metadata": {},
   "source": [
    "### <span class=\"ita\"> <span class=\"green\"> tuple.count(value) </span> - returneaza numarul de apartitii"
   ]
  },
  {
   "cell_type": "code",
   "execution_count": null,
   "id": "01ccd61e",
   "metadata": {},
   "outputs": [],
   "source": []
  },
  {
   "cell_type": "markdown",
   "id": "573773da",
   "metadata": {},
   "source": [
    "### <span class=\"ita\"> <span class=\"green\"> tuple.index(value [,start, end]) </span> - returneaza indexul elementului"
   ]
  },
  {
   "cell_type": "code",
   "execution_count": null,
   "id": "7f82ade0",
   "metadata": {},
   "outputs": [],
   "source": []
  },
  {
   "cell_type": "markdown",
   "id": "59c521b1",
   "metadata": {},
   "source": [
    "# <span class=\"blue\">3.3. Lists"
   ]
  },
  {
   "cell_type": "markdown",
   "id": "500824c5",
   "metadata": {},
   "source": [
    "### - un tip de date care poate contine diferite elemente, omogene sau eterogene, unice sau duplicat, cu elementele delimitate de [];\n",
    "\n",
    "### - mutabil;\n",
    "\n",
    "### - i se aplica for, in, is;\n",
    "\n",
    "### - este o structura simpla, eficienta si flexibila;\n",
    "\n",
    "### - i se pot aplica operatorii de comparare, concatenare, multiplicare;\n",
    "\n",
    "### - i se aplica <span class=\"red\">len</span>(list), <span class=\"red\">dir</span>(list), <span class=\"red\">type</span>(list)."
   ]
  },
  {
   "cell_type": "code",
   "execution_count": null,
   "id": "8be50551",
   "metadata": {},
   "outputs": [],
   "source": [
    "# initializare lista\n",
    "la = [\"Jan\", \"Feb\", \"Mar\", \"Apr\", \"May\", \"Jun\", \"Jul\", \"Aug\", \"Sep\", \"Oct\", \"Nov\", \"Dec\",]\n",
    "week = ['Mon', 'Two', 'Wed', 'Thu', 'Fri', 'Sat', 'Sun']"
   ]
  },
  {
   "cell_type": "code",
   "execution_count": null,
   "id": "60f67d8d",
   "metadata": {},
   "outputs": [],
   "source": [
    "# empty list\n"
   ]
  },
  {
   "cell_type": "code",
   "execution_count": null,
   "id": "1117e0e3",
   "metadata": {},
   "outputs": [],
   "source": [
    "# trecere de la lista la tuplu si invers\n"
   ]
  },
  {
   "cell_type": "markdown",
   "id": "380209e3",
   "metadata": {},
   "source": [
    "## <span class=\"trcz\">3.3.1. List methods"
   ]
  },
  {
   "cell_type": "markdown",
   "id": "6e8d1470",
   "metadata": {},
   "source": [
    "### <span class=\"ita\"> <span class=\"green\"> lista.append(valoare) </span> - adauga un nou element"
   ]
  },
  {
   "cell_type": "code",
   "execution_count": null,
   "id": "730e425a",
   "metadata": {},
   "outputs": [],
   "source": []
  },
  {
   "cell_type": "markdown",
   "id": "43cfc283",
   "metadata": {},
   "source": [
    "### <span class=\"ita\"> <span class=\"green\"> lista.clear() </span> - sterge toate elementele"
   ]
  },
  {
   "cell_type": "code",
   "execution_count": null,
   "id": "5a656e5f",
   "metadata": {},
   "outputs": [],
   "source": []
  },
  {
   "cell_type": "markdown",
   "id": "7b8cc0ad",
   "metadata": {},
   "source": [
    "### <span class=\"ita\"> <span class=\"green\"> lista.copy() </span> - creaza o copie"
   ]
  },
  {
   "cell_type": "code",
   "execution_count": null,
   "id": "1f7beead",
   "metadata": {},
   "outputs": [],
   "source": []
  },
  {
   "cell_type": "markdown",
   "id": "9fe6bee6",
   "metadata": {},
   "source": [
    "### <span class=\"ita\"> <span class=\"green\"> lista.count(valoare) </span> - numara aparitiile unui element"
   ]
  },
  {
   "cell_type": "code",
   "execution_count": null,
   "id": "12bbc391",
   "metadata": {},
   "outputs": [],
   "source": []
  },
  {
   "cell_type": "markdown",
   "id": "32dbe5cf",
   "metadata": {},
   "source": [
    "### <span class=\"ita\"> <span class=\"green\"> lista.extend(lista1) </span> - adauga noi elemente dintr-o lista(tuplu, set)"
   ]
  },
  {
   "cell_type": "code",
   "execution_count": null,
   "id": "a3160f98",
   "metadata": {},
   "outputs": [],
   "source": []
  },
  {
   "cell_type": "markdown",
   "id": "5462edab",
   "metadata": {},
   "source": [
    "### <span class=\"ita\"> <span class=\"green\"> lista.index(valoare [, start, stop]) </span> - returneaza indexul elementului"
   ]
  },
  {
   "cell_type": "code",
   "execution_count": null,
   "id": "756b0297",
   "metadata": {},
   "outputs": [],
   "source": []
  },
  {
   "cell_type": "markdown",
   "id": "01b0bbd6",
   "metadata": {},
   "source": [
    "### <span class=\"ita\"> <span class=\"green\"> lista.insert(index, valoare) </span> - introduce un nou element, cu indexul specificat"
   ]
  },
  {
   "cell_type": "code",
   "execution_count": null,
   "id": "8835b122",
   "metadata": {},
   "outputs": [],
   "source": []
  },
  {
   "cell_type": "markdown",
   "id": "9ec97564",
   "metadata": {},
   "source": [
    "### <span class=\"ita\"> <span class=\"green\"> lista.pop([index]) </span> - sterge elementul cu indexul (implicit ultimul, daca nu specificam indexul)"
   ]
  },
  {
   "cell_type": "code",
   "execution_count": null,
   "id": "a4279edd",
   "metadata": {},
   "outputs": [],
   "source": []
  },
  {
   "cell_type": "markdown",
   "id": "3cbd771f",
   "metadata": {},
   "source": [
    "### <span class=\"ita\"> <span class=\"green\"> lista.remove(valoare) </span> - sterge elementul"
   ]
  },
  {
   "cell_type": "code",
   "execution_count": null,
   "id": "d43e83df",
   "metadata": {},
   "outputs": [],
   "source": []
  },
  {
   "cell_type": "markdown",
   "id": "6df718de",
   "metadata": {},
   "source": [
    "### <span class=\"ita\"> <span class=\"green\"> lista.reverse() </span> - inverseaza ordinea elementelor"
   ]
  },
  {
   "cell_type": "code",
   "execution_count": null,
   "id": "6ff7505e",
   "metadata": {},
   "outputs": [],
   "source": []
  },
  {
   "cell_type": "markdown",
   "id": "9906eedb",
   "metadata": {},
   "source": [
    "### <span class=\"ita\"> <span class=\"green\"> lista.sort() </span> - sorteaza elementele"
   ]
  },
  {
   "cell_type": "code",
   "execution_count": null,
   "id": "7eda123a",
   "metadata": {},
   "outputs": [],
   "source": []
  },
  {
   "cell_type": "markdown",
   "id": "ff31a168",
   "metadata": {},
   "source": [
    "## <span class=\"trcz\">3.3.2. List comprehension"
   ]
  },
  {
   "cell_type": "code",
   "execution_count": null,
   "id": "3907caab",
   "metadata": {},
   "outputs": [],
   "source": [
    "# lista cu puteri ale lui 2 - fara comprehension\n"
   ]
  },
  {
   "cell_type": "code",
   "execution_count": null,
   "id": "c85d3bb5",
   "metadata": {},
   "outputs": [],
   "source": [
    "# lista cu puteri ale lui 2 - cu comprehension\n"
   ]
  },
  {
   "cell_type": "markdown",
   "id": "4f4d2664",
   "metadata": {},
   "source": [
    "## <span class=\"trcz\">3.3.3. Nested lists"
   ]
  },
  {
   "cell_type": "code",
   "execution_count": 4,
   "id": "d11bbd4d",
   "metadata": {},
   "outputs": [],
   "source": [
    "# accesarea elementelor\n",
    "studenti = [['Ioana', ['drept', 'anul 1', 'ioana@univ.ro']], ['George', ['chimie', 'anul 2', 'george@univ.ro']]]\n"
   ]
  },
  {
   "cell_type": "markdown",
   "id": "fc330c8a",
   "metadata": {},
   "source": [
    "## <span class=\"trcz\">3.3.4. Range vs list"
   ]
  },
  {
   "cell_type": "code",
   "execution_count": null,
   "id": "f2ddcce4",
   "metadata": {},
   "outputs": [],
   "source": [
    "# interval incepand cu zero\n"
   ]
  },
  {
   "cell_type": "code",
   "execution_count": null,
   "id": "9e00f610",
   "metadata": {},
   "outputs": [],
   "source": [
    "# interval\n"
   ]
  },
  {
   "cell_type": "code",
   "execution_count": null,
   "id": "0648d3c2",
   "metadata": {},
   "outputs": [],
   "source": [
    "# interval crescator cu pas\n"
   ]
  },
  {
   "cell_type": "code",
   "execution_count": null,
   "id": "dc75d0d3",
   "metadata": {},
   "outputs": [],
   "source": [
    "# interval descrescator cu pas negativ\n"
   ]
  },
  {
   "cell_type": "markdown",
   "id": "e65e000d",
   "metadata": {},
   "source": [
    "## <span class=\"trcz\">3.3.5. for in list"
   ]
  },
  {
   "cell_type": "code",
   "execution_count": null,
   "id": "eb3e51f6",
   "metadata": {},
   "outputs": [],
   "source": []
  },
  {
   "cell_type": "markdown",
   "id": "676fa6a2",
   "metadata": {},
   "source": [
    "## <span class=\"trcz\">3.3.6. List reference (in, is, id)"
   ]
  },
  {
   "cell_type": "code",
   "execution_count": null,
   "id": "6c8a5b66",
   "metadata": {},
   "outputs": [],
   "source": [
    "# in\n"
   ]
  },
  {
   "cell_type": "code",
   "execution_count": null,
   "id": "3c251cb1",
   "metadata": {},
   "outputs": [],
   "source": [
    "# is, id\n"
   ]
  },
  {
   "cell_type": "markdown",
   "id": "754c656e",
   "metadata": {},
   "source": [
    "## <span class=\"trcz\">3.3.7. List concatenate/multiply"
   ]
  },
  {
   "cell_type": "code",
   "execution_count": null,
   "id": "2824a9b6",
   "metadata": {},
   "outputs": [],
   "source": []
  },
  {
   "cell_type": "markdown",
   "id": "28c338a8",
   "metadata": {},
   "source": [
    "## <span class=\"trcz\">3.3.8. Example - Cap3_06_Ls3.py"
   ]
  },
  {
   "cell_type": "code",
   "execution_count": null,
   "id": "b6b7395f",
   "metadata": {},
   "outputs": [],
   "source": [
    "lista = []                              # Initializam lista\n",
    "\n",
    "print('\\t\\t Bine ati venit la programul lista de cumparaturi')\n",
    "\n",
    "while True:\n",
    "    print(\"\"\"Introduceti:\n",
    "        0 - Pentru afisare lista actuala\n",
    "        1 - Pentru introducerea unui element nou\n",
    "        2 - Pentru stergerea unui element existent\n",
    "        3 - Pentru stergerea intregii liste\n",
    "        9 - Pentru iesire\n",
    "        \"\"\")\n",
    "    print('-' * 30)\n",
    "    alegere = input('Introduceti optiunea - dintre cele enumerate:\\n\\t')\n",
    "    print('-' * 30)\n",
    "\n",
    "    if alegere == '0':\n",
    "        if lista:                       # Daca lista nu e goala...\n",
    "            lista1 = lista.copy()\n",
    "            lista1.sort()\n",
    "            print('Lista de cumparaturi este :\\n')\n",
    "            print('-' * 30)             # linie decorativa\n",
    "            for elem in lista1:\n",
    "                print('==>', elem)\n",
    "            print('-' * 30)             # linie decorativa\n",
    "        else:\n",
    "            print('Lista este goala\\n')\n",
    "            print('-' * 30)             # linie decorativa\n",
    "\n",
    "    elif alegere == '1':\n",
    "        while True:\n",
    "            el_nou = input('Introduceti noul elem (ENTER - daca doriti sa iesiti):\\n\\t').lower()\n",
    "            if el_nou == '':\n",
    "                break\n",
    "            elif el_nou in lista:\n",
    "                continue\n",
    "            lista.append(el_nou)\n",
    "            print('-' * 30)\n",
    "\n",
    "    elif alegere == '2':\n",
    "        if lista:\n",
    "            sterge = input('Ce element doresti sa stergi? \\n').lower()\n",
    "            if sterge in lista:\n",
    "                lista.remove(sterge)\n",
    "                print('Elementul ', sterge, 'a fost sters\\n')\n",
    "                print('-' * 30)\n",
    "            else:\n",
    "                print(sterge, 'nu a fost gasit in lista\\n')\n",
    "                print('-' * 30)\n",
    "        else:\n",
    "            print('Lista este goala\\n')\n",
    "            print('-' * 30)\n",
    "\n",
    "    elif alegere == '3':\n",
    "        lista.clear()\n",
    "        print('Lista a fost stearsa\\n')\n",
    "        print('-' * 30)\n",
    "\n",
    "    elif alegere == '9':\n",
    "        print('Va multumim ca ati ales acest program!\\n')\n",
    "        break\n",
    "\n",
    "    else:\n",
    "        print('Optiune gresita!')"
   ]
  },
  {
   "cell_type": "markdown",
   "id": "caa5c006",
   "metadata": {},
   "source": [
    "## <span class=\"trcz\">3.3.9. List vs enumerate"
   ]
  },
  {
   "cell_type": "code",
   "execution_count": null,
   "id": "e6b01e4b",
   "metadata": {},
   "outputs": [],
   "source": [
    "la = [\"Jan\", \"Feb\", \"Mar\", \"Apr\", \"May\", \"Jun\", \"Jul\", \"Aug\", \"Sep\", \"Oct\", \"Nov\", \"Dec\",]\n",
    "week = ['Mon', 'Two', 'Wed', 'Thu', 'Fri', 'Sat', 'Sun']\n",
    "\n"
   ]
  },
  {
   "cell_type": "markdown",
   "id": "53e5133a",
   "metadata": {},
   "source": [
    "## <span class=\"trcz\">3.3.10. List as a string split"
   ]
  },
  {
   "cell_type": "code",
   "execution_count": null,
   "id": "5461c204",
   "metadata": {},
   "outputs": [],
   "source": [
    "# split\n"
   ]
  },
  {
   "cell_type": "code",
   "execution_count": null,
   "id": "2849dd65",
   "metadata": {},
   "outputs": [],
   "source": [
    "# join\n"
   ]
  },
  {
   "cell_type": "code",
   "execution_count": null,
   "id": "dbfa9fd7",
   "metadata": {},
   "outputs": [],
   "source": [
    "# Dublu split intr-un text\n",
    "x = 'From   paul@infoacademy.net Tue May  24 22:22:22 2016'   # sirul dat\n",
    "lista_cuv = x.split()           # splituim sirul in cuvinte (default dupa spatiu)\n",
    "                                # rezultatul : o lista cu cuvintele (subsirurile)\n",
    "print(lista_cuv)\n",
    "email = lista_cuv[1]            # identificam email-ul dupa pozitia in lista\n",
    "print(email)\n",
    "comp = email.split('@',)        # splituim email-ul dupa \"@\", rezulta o alta lista\n",
    "print(comp)\n",
    "print('Host:', comp[0])\n",
    "print('Domeniu:', 'https://www.' + comp[1])"
   ]
  },
  {
   "cell_type": "markdown",
   "id": "5ec96af5",
   "metadata": {},
   "source": [
    "## <span class=\"trcz\">3.3.11. Alte functii care prelucreaza liste"
   ]
  },
  {
   "cell_type": "code",
   "execution_count": null,
   "id": "dabd2207",
   "metadata": {},
   "outputs": [],
   "source": [
    "print(max(week))                                            # comparare, obligatoriu elemente omogene\n",
    "print(min(week))\n",
    "lista1 = [3, 7, 13]\n",
    "print(\"suma elementelor:\", sum(lista1))                     # doar pentru elem numerice\n",
    "print(sum(\"media aritmetica:\", lista1) / len(lista1))       # media aritmetica"
   ]
  },
  {
   "cell_type": "markdown",
   "id": "99c5c074",
   "metadata": {},
   "source": [
    "# <span class=\"blue\">3.4. Sets"
   ]
  },
  {
   "cell_type": "markdown",
   "id": "4e9ebfc0",
   "metadata": {},
   "source": [
    "### - un tip de date care poate contine diferite elemente, omogene sau eterogene, cu elementele delimitate de {};\n",
    "### - este mutabil, dar nu si indexabil;\n",
    "### - ideal pentru structuri cu elemente unice;\n",
    "### - i se aplica <em>for, in, is;\n",
    "### - este o structura simpla, eficienta si flexibila;\n",
    "### - i se pot aplica operatorii de comparare;\n",
    "### - nu permite concatenarea si multiplicarea;\n",
    "### - i se aplica <span class=\"red\">len</span>(set), <span class=\"red\">dir</span>(set), <span class=\"red\">type</span>(set)."
   ]
  },
  {
   "cell_type": "code",
   "execution_count": null,
   "id": "49b2d427",
   "metadata": {},
   "outputs": [],
   "source": [
    "# initializare\n",
    "dict_no_set = {}  # rezervat pentru empty dictionar\n",
    "print(type(dict_no_set))\n",
    "\n",
    "set1 = set()\n",
    "print(type(set1))\n",
    "\n",
    "set2 = {1, 2, 7}"
   ]
  },
  {
   "cell_type": "markdown",
   "id": "f03a4ec1",
   "metadata": {},
   "source": [
    "## <span class=\"trcz\">3.4.1. Set methods"
   ]
  },
  {
   "cell_type": "code",
   "execution_count": null,
   "id": "dc8a0f57",
   "metadata": {},
   "outputs": [],
   "source": [
    "# initializare\n",
    "set1 = {'ana', 'lia', 'mia', 'eva'}\n",
    "set2 = {'sia', 'mia', 'eva', 'ina'}"
   ]
  },
  {
   "cell_type": "markdown",
   "id": "ca6211a1",
   "metadata": {},
   "source": [
    "### <span class=\"ita\"> <span class=\"green\"> set1.add(valoare) </span> - adauga un nou element, daca nu exista"
   ]
  },
  {
   "cell_type": "code",
   "execution_count": null,
   "id": "b418aa32",
   "metadata": {},
   "outputs": [],
   "source": []
  },
  {
   "cell_type": "markdown",
   "id": "0c204e9b",
   "metadata": {},
   "source": [
    "### <span class=\"ita\"> <span class=\"green\"> set1.clear() </span> - sterge toate elementele"
   ]
  },
  {
   "cell_type": "code",
   "execution_count": null,
   "id": "2077f338",
   "metadata": {},
   "outputs": [],
   "source": []
  },
  {
   "cell_type": "markdown",
   "id": "42ee31dc",
   "metadata": {},
   "source": [
    "### <span class=\"ita\"> <span class=\"green\"> set1.copy() </span> - creaza o copie a setului"
   ]
  },
  {
   "cell_type": "code",
   "execution_count": null,
   "id": "eb974589",
   "metadata": {},
   "outputs": [],
   "source": []
  },
  {
   "cell_type": "markdown",
   "id": "3cc811fc",
   "metadata": {},
   "source": [
    "### <span class=\"ita\"> <span class=\"green\"> set1.difference(set2)\tsau \"-\"  </span> - set1 fara elemente existente si in set2"
   ]
  },
  {
   "cell_type": "code",
   "execution_count": null,
   "id": "4368a8a9",
   "metadata": {},
   "outputs": [],
   "source": []
  },
  {
   "cell_type": "markdown",
   "id": "1aa416c2",
   "metadata": {},
   "source": [
    "### <span class=\"ita\"> <span class=\"green\"> set1.intersection(set2) sau \"&\" </span> - elementele comune in cele doua seturi"
   ]
  },
  {
   "cell_type": "code",
   "execution_count": null,
   "id": "8e4b72a0",
   "metadata": {},
   "outputs": [],
   "source": []
  },
  {
   "cell_type": "markdown",
   "id": "45c8b551",
   "metadata": {},
   "source": [
    "### <span class=\"ita\"> <span class=\"green\"> set1.symmetric_difference(set2) sau \"^\" </span> - opusul intersection"
   ]
  },
  {
   "cell_type": "code",
   "execution_count": null,
   "id": "36bd7a51",
   "metadata": {},
   "outputs": [],
   "source": []
  },
  {
   "cell_type": "markdown",
   "id": "77576989",
   "metadata": {},
   "source": [
    "### <span class=\"ita\"> <span class=\"green\"> set1.union(set2) sau \"|\" </span> - toate elementele din cele doua seturi"
   ]
  },
  {
   "cell_type": "code",
   "execution_count": null,
   "id": "a7b61483",
   "metadata": {},
   "outputs": [],
   "source": []
  },
  {
   "cell_type": "markdown",
   "id": "24f8a1c6",
   "metadata": {},
   "source": [
    "### <span class=\"ita\"> <span class=\"green\"> set1.discard(valoare) </span> - sterge elementul"
   ]
  },
  {
   "cell_type": "code",
   "execution_count": null,
   "id": "5d07abfe",
   "metadata": {},
   "outputs": [],
   "source": []
  },
  {
   "cell_type": "markdown",
   "id": "5d670651",
   "metadata": {},
   "source": [
    "### <span class=\"ita\"> <span class=\"green\"> set1.pop() </span> - sterge aleatoriu un element"
   ]
  },
  {
   "cell_type": "code",
   "execution_count": null,
   "id": "cfd64bad",
   "metadata": {},
   "outputs": [],
   "source": []
  },
  {
   "cell_type": "markdown",
   "id": "1819baec",
   "metadata": {},
   "source": [
    "### <span class=\"ita\"> <span class=\"green\"> set1.remove(valoare) </span> - sterge elementul (eroare daca nu exista)"
   ]
  },
  {
   "cell_type": "code",
   "execution_count": null,
   "id": "b0100c17",
   "metadata": {},
   "outputs": [],
   "source": []
  },
  {
   "cell_type": "markdown",
   "id": "5667d3fb",
   "metadata": {},
   "source": [
    "### <span class=\"ita\"> <span class=\"green\"> set1.update(set2)  </span> - adauga setului noile elemente"
   ]
  },
  {
   "cell_type": "code",
   "execution_count": null,
   "id": "ec08d414",
   "metadata": {},
   "outputs": [],
   "source": []
  },
  {
   "cell_type": "markdown",
   "id": "54c82b4d",
   "metadata": {},
   "source": [
    "## <span class=\"trcz\">3.4.2. Transform list in a set/set in a list"
   ]
  },
  {
   "cell_type": "code",
   "execution_count": null,
   "id": "019093ae",
   "metadata": {},
   "outputs": [],
   "source": []
  },
  {
   "cell_type": "markdown",
   "id": "30b3ecec",
   "metadata": {},
   "source": [
    "# <span class=\"blue\">3.5. Dictionary"
   ]
  },
  {
   "cell_type": "markdown",
   "id": "eabe5420",
   "metadata": {},
   "source": [
    "\n",
    "### - un tip de date compus din cheie: valoare, cu elementele delimitate de {k1:v1, k2:v2};\n",
    "\n",
    "### - este mutabil, dar nu si indexabil;\n",
    "\n",
    "### - poate fi asimilat cu o colectie de variabile (cheile unice);\n",
    "\n",
    "### - nu este sortabil;\n",
    "\n",
    "### - i se aplica <em>for, in, is;\n",
    "\n",
    "### - i se pot aplica operatorii de comparare;\n",
    "\n",
    "### - i se aplica <span class=\"red\">len</span>(dict), <span class=\"red\">dir</span>(dict), <span class=\"red\">type</span>(dict), <span class=\"red\">sorted</span>(dict);"
   ]
  },
  {
   "cell_type": "markdown",
   "id": "0f2b465d",
   "metadata": {},
   "source": [
    "## <span class=\"trcz\">3.5.1. Assignment"
   ]
  },
  {
   "cell_type": "code",
   "execution_count": null,
   "id": "d275c0c5",
   "metadata": {},
   "outputs": [],
   "source": [
    "# - prin elemente\n"
   ]
  },
  {
   "cell_type": "code",
   "execution_count": null,
   "id": "d004dd08",
   "metadata": {},
   "outputs": [],
   "source": [
    "# - prin tupluri utilizand functia dict() \n"
   ]
  },
  {
   "cell_type": "code",
   "execution_count": null,
   "id": "68225a78",
   "metadata": {},
   "outputs": [],
   "source": [
    "# - prin utilizarea functiilor dict() si zip()\n"
   ]
  },
  {
   "cell_type": "code",
   "execution_count": null,
   "id": "571a88dc",
   "metadata": {},
   "outputs": [],
   "source": [
    "# - cu enumerate\n"
   ]
  },
  {
   "cell_type": "code",
   "execution_count": null,
   "id": "55e1157f",
   "metadata": {},
   "outputs": [],
   "source": [
    "# in\n"
   ]
  },
  {
   "cell_type": "code",
   "execution_count": null,
   "id": "92e28c65",
   "metadata": {},
   "outputs": [],
   "source": [
    "# is, id\n"
   ]
  },
  {
   "cell_type": "markdown",
   "id": "d963769a",
   "metadata": {},
   "source": [
    "## <span class=\"trcz\">3.5.2. Dict comprehension"
   ]
  },
  {
   "cell_type": "code",
   "execution_count": null,
   "id": "5f4c27c7",
   "metadata": {},
   "outputs": [],
   "source": [
    "# dictionar cu chei numerice 1-10, valori, puteri ale lui 2(puterea cheie)\n"
   ]
  },
  {
   "cell_type": "code",
   "execution_count": null,
   "id": "5a866f9f",
   "metadata": {},
   "outputs": [],
   "source": [
    "# dictionar cu lunile anului\n"
   ]
  },
  {
   "cell_type": "code",
   "execution_count": null,
   "id": "d2105efa",
   "metadata": {},
   "outputs": [],
   "source": [
    "# dictionar cu zilele saptamanii\n"
   ]
  },
  {
   "cell_type": "code",
   "execution_count": null,
   "id": "8f2d14fd",
   "metadata": {},
   "outputs": [],
   "source": [
    "# schimbare chei/valori\n",
    "pasari = {'privighetoare': 5, 'pitigoi': 3, 'pitulice': 7, 'cioara': 5}\n"
   ]
  },
  {
   "cell_type": "markdown",
   "id": "e4ed59ec",
   "metadata": {},
   "source": [
    "## <span class=\"trcz\">3.5.3. Dict methods"
   ]
  },
  {
   "cell_type": "markdown",
   "id": "564fb55a",
   "metadata": {},
   "source": [
    "### <span class=\"ita\"> <span class=\"green\"> dict1.clear()</span> - sterge toate elementele"
   ]
  },
  {
   "cell_type": "code",
   "execution_count": null,
   "id": "b639067d",
   "metadata": {},
   "outputs": [],
   "source": []
  },
  {
   "cell_type": "markdown",
   "id": "3d4e335b",
   "metadata": {},
   "source": [
    "### <span class=\"ita\"> <span class=\"green\"> dict1.copy() </span> - creaza o copie"
   ]
  },
  {
   "cell_type": "code",
   "execution_count": null,
   "id": "34c28979",
   "metadata": {},
   "outputs": [],
   "source": []
  },
  {
   "cell_type": "markdown",
   "id": "918be7e4",
   "metadata": {},
   "source": [
    "### <span class=\"ita\"> <span class=\"green\"> dict1.update(dict2)</span> - "
   ]
  },
  {
   "cell_type": "code",
   "execution_count": null,
   "id": "79ba4023",
   "metadata": {},
   "outputs": [],
   "source": []
  },
  {
   "cell_type": "markdown",
   "id": "0ecdb5c9",
   "metadata": {},
   "source": [
    "### <span class=\"ita\"> <span class=\"green\"> dict1.get(key[, val_default])</span> - "
   ]
  },
  {
   "cell_type": "code",
   "execution_count": null,
   "id": "f2a0ecfa",
   "metadata": {},
   "outputs": [],
   "source": []
  },
  {
   "cell_type": "markdown",
   "id": "5665dc6e",
   "metadata": {},
   "source": [
    "### <span class=\"ita\"> <span class=\"green\"> dict1.setdefault(key[, val_default])</span> - "
   ]
  },
  {
   "cell_type": "code",
   "execution_count": null,
   "id": "369bfbdf",
   "metadata": {},
   "outputs": [],
   "source": []
  },
  {
   "cell_type": "markdown",
   "id": "894485c7",
   "metadata": {},
   "source": [
    "### <span class=\"ita\"> <span class=\"green\"> dict1.pop(key)</span> - sterge elementul cu cheia data"
   ]
  },
  {
   "cell_type": "code",
   "execution_count": null,
   "id": "86d6d7bd",
   "metadata": {},
   "outputs": [],
   "source": []
  },
  {
   "cell_type": "markdown",
   "id": "6778c019",
   "metadata": {},
   "source": [
    "### <span class=\"ita\"> <span class=\"green\"> dict1.keys() </span> - returneaza cheile"
   ]
  },
  {
   "cell_type": "code",
   "execution_count": null,
   "id": "973ed04c",
   "metadata": {},
   "outputs": [],
   "source": []
  },
  {
   "cell_type": "code",
   "execution_count": null,
   "id": "0b55218c",
   "metadata": {},
   "outputs": [],
   "source": []
  },
  {
   "cell_type": "code",
   "execution_count": null,
   "id": "fe828104",
   "metadata": {},
   "outputs": [],
   "source": []
  },
  {
   "cell_type": "markdown",
   "id": "7d833368",
   "metadata": {},
   "source": [
    "### <span class=\"ita\"> <span class=\"green\"> dict1.values()</span> - returneaza valorile"
   ]
  },
  {
   "cell_type": "code",
   "execution_count": null,
   "id": "c5b08ea3",
   "metadata": {},
   "outputs": [],
   "source": []
  },
  {
   "cell_type": "markdown",
   "id": "b57468d1",
   "metadata": {},
   "source": [
    "### <span class=\"ita\"> <span class=\"green\"> dict1.items()</span> - returneaza perechi (cheie, valoare)"
   ]
  },
  {
   "cell_type": "code",
   "execution_count": null,
   "id": "954b9c5e",
   "metadata": {},
   "outputs": [],
   "source": []
  },
  {
   "cell_type": "markdown",
   "id": "0ae75f82",
   "metadata": {},
   "source": [
    "## <span class=\"trcz\">3.5.4. for in dict"
   ]
  },
  {
   "cell_type": "code",
   "execution_count": null,
   "id": "0d5681e9",
   "metadata": {},
   "outputs": [],
   "source": [
    "# keys\n"
   ]
  },
  {
   "cell_type": "code",
   "execution_count": null,
   "id": "9a1a4712",
   "metadata": {},
   "outputs": [],
   "source": [
    "# values\n"
   ]
  },
  {
   "cell_type": "code",
   "execution_count": null,
   "id": "df318157",
   "metadata": {},
   "outputs": [],
   "source": [
    "# keys and values\n"
   ]
  },
  {
   "cell_type": "markdown",
   "id": "7798ef2a",
   "metadata": {},
   "source": [
    "## <span class=\"trcz\">3.5.5. Dictionary vs enumerate()"
   ]
  },
  {
   "cell_type": "code",
   "execution_count": null,
   "id": "8e1b1dae",
   "metadata": {},
   "outputs": [],
   "source": []
  },
  {
   "cell_type": "markdown",
   "id": "5fa5d019",
   "metadata": {},
   "source": [
    "## <span class=\"trcz\">3.5.6. Dictionary vs sorted()"
   ]
  },
  {
   "cell_type": "code",
   "execution_count": null,
   "id": "c48b5740",
   "metadata": {},
   "outputs": [],
   "source": [
    "# - # - #   SORTARE DICTIONAR\n",
    "dictionar = {'Radu': 18, 'Corina': 12, 'Matei': 22, 'Elvira': 25, 'Bianca': 27}\n",
    "\n",
    "# sortare key\n"
   ]
  },
  {
   "cell_type": "code",
   "execution_count": null,
   "id": "90f619b8",
   "metadata": {},
   "outputs": [],
   "source": [
    "# sortare items\n"
   ]
  },
  {
   "cell_type": "markdown",
   "id": "b24419c2",
   "metadata": {},
   "source": [
    "## <span class=\"trcz\">3.5.7. Example - Lista filme"
   ]
  },
  {
   "cell_type": "code",
   "execution_count": null,
   "id": "f28bd867",
   "metadata": {},
   "outputs": [],
   "source": [
    "# avem o lista cu informatii despre filme. Datele unui film sunt intr-un element al listei de tip dictionar\n",
    "\n",
    "from prettytable import PrettyTable            # tabulate -  de testat\n",
    "\n",
    "lista_filme = [\n",
    "{'Director': 'Annemarie Jacir', 'Title': 'When I Saw You', 'Release year': '2012', 'Running Time': '98', 'Rating': ''},\n",
    "{'Director': 'Dario Argento', 'Title': 'Do You Like Hitchcock?', 'Release year': '2005', 'Running Time': '93', 'Rating': 'UNRATED'},\n",
    "{'Director': 'Jurgen Leth', 'Title': 'The Erotic Man', 'Release year': '2010', 'Running Time': '85', 'Rating': ''},\n",
    "{'Director': 'Takuya Fukushima', 'Title': 'Our Brief Eternity', 'Release year': '2009', 'Running Time': 0, 'Rating': ''},\n",
    "{'Director': 'Eric Bana', 'Title': 'Love the Beast', 'Release year': '2009', 'Running Time': '92', 'Rating': 'R'},\n",
    "{'Director': 'Lucio Fulci', 'Title': 'I due della legione', 'Release year': '1962', 'Running Time': '97', 'Rating': ''},\n",
    "{'Director': 'Arch Nicholson', 'Title': 'Fortress', 'Release year': '1985', 'Running Time': '88', 'Rating': 'TV-MA'},\n",
    "{'Director': 'Isaac Florentine', 'Title': 'The Shepherd', 'Release year': '2008', 'Running Time': '95', 'Rating': 'R'},\n",
    "{'Director': 'Alan Clarke', 'Title': 'To Encourage the Others', 'Release year': '1972', 'Running Time': '105', 'Rating': ''},\n",
    "{'Director': 'Maury Dexter', 'Title': 'The Day Mars Invaded Earth', 'Release year': '1963', 'Running Time': '70', 'Rating': 'UNRATED'}\n",
    "]\n",
    "\n",
    "film = dict()"
   ]
  },
  {
   "cell_type": "code",
   "execution_count": null,
   "id": "7843a678",
   "metadata": {},
   "outputs": [],
   "source": [
    "# adaugam noi filme\n",
    "\n",
    "# populam dictionarul pentru film1\n",
    "film['Director'] = 'Alejandro G. Inarritu'\n",
    "film['Title'] = 'The Revenant'\n",
    "film['Release year'] = '2015'\n",
    "film['Running Time'] = '156'\n",
    "film['Rating'] = 'AG-15'\n",
    "print(film)\n",
    "\n",
    "# populam lista cu datele din dictionar\n",
    "lista_filme.append(film)\n",
    "\n",
    "# reinitializam dictionarul film\n",
    "film = {}\n",
    "\n",
    "# populam dictionarul pentru film2\n",
    "film['Director'] = 'Radu Jude'\n",
    "film['Title'] = 'Aferim!'\n",
    "film['Release year'] = '2015'\n",
    "film['Running Time'] = '108'\n",
    "film['Rating'] = 'AG-12'\n",
    "\n",
    "# populam lista cu datele din dictionar\n",
    "lista_filme.append(film)\n",
    "\n",
    "lp(lista_filme)"
   ]
  },
  {
   "cell_type": "code",
   "execution_count": null,
   "id": "82de15ee",
   "metadata": {},
   "outputs": [],
   "source": [
    "# accesare informatii\n",
    "for i in lista_filme:\n",
    "    print(45 * \"-\")\n",
    "    for k, v in i.items():\n",
    "        print(k.ljust(20), '-->', v)"
   ]
  },
  {
   "cell_type": "code",
   "execution_count": null,
   "id": "635c13e0",
   "metadata": {},
   "outputs": [],
   "source": [
    "# afisare informatii prettytable\n",
    "listeaza = PrettyTable()\n",
    "\n",
    "listeaza.field_names = lista_filme[0].keys()\n",
    "for i in lista_filme:\n",
    "    listeaza.add_row(i.values())\n",
    "\n",
    "print(listeaza)"
   ]
  },
  {
   "cell_type": "markdown",
   "id": "c4757737",
   "metadata": {},
   "source": [
    "## <span class=\"trcz\">3.5.8. Example - globals()"
   ]
  },
  {
   "cell_type": "code",
   "execution_count": null,
   "id": "2cc10846",
   "metadata": {},
   "outputs": [],
   "source": [
    "# tupluri \n",
    "t1 = (\"Bunica\", \"Mihai-Daniel\", \"primar\", \"reumatologie\")\n",
    "t2 = (\"Donca\", \"Cornelia-Ana\", \"primar\", \"chirurgie\")\n",
    "t3 = (\"Achiriloaie\", \"Lorand-Levente\", \"specialist\", \"neurologie\")\n",
    "t4 = (\"Papuc\", \"Raducu-Liviu\", \"primar\", \"homeopatie\")\n",
    "t5 = (\"Cucuiu\", \"Nutu\", \"primar\", \"ortopedie\")\n",
    "t6 = (\"Buia\", \"Tache\", \"specialist\", \"ginecologie\")\n",
    "t7 = (\"Dragomanu\", \"Mitrut\", \"specialist\", \"ecografie\")\n",
    "t8 = (\"Ticu\", \"Simona\", \"specialist\", \"psihiatrie\")\n",
    "t9 = (\"Ene\", \"Adrian-Stefan\", \"specialist\", \"pediatrie\")\n",
    "t10 = (\"Copae\", \"Toma\", \"primar\", \"neurologie\")\n",
    "t11 = (\"Hotoi\", \"Dragos Alin\", \"specialist\", \"pediatrie\")\n",
    "t12 = (\"Ceafalau\", \"Vincenţiu Mihail\", \"primar\", \"pediatrie\")\n",
    "t13 = (\"Briceag\", \"Anca Stefana\", \"primar\", \"imagistica\")\n",
    "t14 = (\"Condrea\", \"Nutu\", \"primar\", \"fizioterapie\")\n",
    "t15 = (\"Cruceru\", \"Ioana-Loredana\", \"primar\", \"dermatologie\")"
   ]
  },
  {
   "cell_type": "code",
   "execution_count": null,
   "id": "4a615547",
   "metadata": {},
   "outputs": [],
   "source": [
    "# globals()\n"
   ]
  },
  {
   "cell_type": "code",
   "execution_count": null,
   "id": "75b1ad17",
   "metadata": {},
   "outputs": [],
   "source": [
    "# creati o lista care sa cuprinda toate informatiile din tupluri\n"
   ]
  },
  {
   "cell_type": "code",
   "execution_count": null,
   "id": "267f7b54",
   "metadata": {},
   "outputs": [],
   "source": [
    "# creati un dictionar care sa cuprinda toate informatiile din tupluri\n"
   ]
  },
  {
   "cell_type": "code",
   "execution_count": null,
   "id": "b995d3bf",
   "metadata": {},
   "outputs": [],
   "source": [
    "# accesarea datelor\n"
   ]
  },
  {
   "cell_type": "code",
   "execution_count": 15,
   "id": "46dc2ade",
   "metadata": {},
   "outputs": [],
   "source": [
    "### <span class=\"ita\"> <span class=\"green\">   </span>"
   ]
  },
  {
   "cell_type": "markdown",
   "id": "e4b04d3d",
   "metadata": {},
   "source": [
    "## <span class=\"trcz\">3.5.9. Example - change IP from decimal to binar"
   ]
  },
  {
   "cell_type": "code",
   "execution_count": null,
   "id": "893374e5",
   "metadata": {},
   "outputs": [],
   "source": [
    "two_powers = [128, 64, 32, 16, 8, 4, 2, 1]  # adresele IP contin cifre pana la 2^8 - 1\n",
    "                                            # care reprezinta suma puterilor lui doi pana la 2^7\n",
    "ip_address = '192.168.252.1'  # o adresa IP v4\n",
    "\n",
    "result = ''\n",
    "result_ipb = ''\n",
    "\n",
    "if type(nr) == str:\n",
    "        ip_components = ip_address.split('.')  # split adresa in 4 componente\n",
    "        lista = []\n",
    "\n",
    "        for i in ip_components:  # transformam in integer fiecare din cele 4 componente\n",
    "            lista.append(int(i))\n",
    "\n",
    "        for i in lista:  # pentru fiecare din cele 4\n",
    "            result = ''\n",
    "\n",
    "            for putere in two_powers:  # pentru fiecare putere a lui doi (incepe cu 2^7 = 128)\n",
    "                if i >= putere:  # practic, daca i > 128, pune 1 pe primul bit din adresa\n",
    "                    result += '1'  # continua pana la ultimul din cei 8 biti\n",
    "                    i -= putere\n",
    "                else:\n",
    "                    result += '0'  # daca i < 128, pune 0 pe primul bit\n",
    "\n",
    "            result_ipb += result  # stocam rezultatul fiecarei iteratii\n",
    "            result_ipb += '.'  # repunem punctul\n",
    "\n",
    "        result_ipb = result_ipb[:-1]  # scoatem punctul de la final, adaugat de bucla\n",
    "        print(result_ipb)"
   ]
  },
  {
   "cell_type": "markdown",
   "id": "1cf1fd5d",
   "metadata": {},
   "source": []
  }
 ],
 "metadata": {
  "kernelspec": {
   "display_name": "Python 3 (ipykernel)",
   "language": "python",
   "name": "python3"
  },
  "language_info": {
   "codemirror_mode": {
    "name": "ipython",
    "version": 3
   },
   "file_extension": ".py",
   "mimetype": "text/x-python",
   "name": "python",
   "nbconvert_exporter": "python",
   "pygments_lexer": "ipython3",
   "version": "3.9.7"
  }
 },
 "nbformat": 4,
 "nbformat_minor": 5
}
