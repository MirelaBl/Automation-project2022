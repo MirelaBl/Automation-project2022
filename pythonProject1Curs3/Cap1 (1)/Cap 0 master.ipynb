{
 "cells": [
  {
   "cell_type": "code",
   "execution_count": 1,
   "id": "13835c77",
   "metadata": {},
   "outputs": [
    {
     "data": {
      "text/html": [
       "\n",
       "<style>\n",
       "     .blue {\n",
       "         color: blue;\n",
       "     }\n",
       "     \n",
       "    .orange {\n",
       "         color: orange;\n",
       "     }\n",
       "     \n",
       "     .red {\n",
       "         color: red;\n",
       "     }\n",
       "\n",
       "     .trcz {\n",
       "         color:#48CAE4;\n",
       "     }\n",
       "\n",
       "     .trcz a {\n",
       "         color: inherit;\n",
       "     }\n",
       "\n",
       "     .green {\n",
       "         color: green;\n",
       "     }\n",
       "\n",
       "     .ita {\n",
       "         font-style: italic;\n",
       "     }\n",
       "     \n",
       "     .vio {\n",
       "        font-style: violet;\n",
       "     }\n",
       "\n",
       "\n",
       "</style>\n"
      ],
      "text/plain": [
       "<IPython.core.display.HTML object>"
      ]
     },
     "execution_count": 1,
     "metadata": {},
     "output_type": "execute_result"
    }
   ],
   "source": [
    "from ipythoncss import HTML, STILURI\n",
    "HTML(STILURI)"
   ]
  },
  {
   "cell_type": "code",
   "execution_count": null,
   "id": "492a1647",
   "metadata": {},
   "outputs": [],
   "source": [
    "import sys\n",
    "sys.path\n",
    "sys.path.extend(['C:\\\\Users\\\\paul\\\\OneDrive\\\\Documents\\\\__PyThOn'\n",
    "            'C:\\\\Users\\\\paul\\\\OneDrive\\\\Documents\\\\__PyThOn\\\\0 PyP\\\\_module',\n",
    "            'C:\\\\Users\\\\paul\\\\OneDrive\\\\Documents\\\\__PyThOn\\\\venv\\\\Lib\\\\site-packages'])"
   ]
  },
  {
   "cell_type": "markdown",
   "id": "e6405982",
   "metadata": {},
   "source": [
    "# <span class=\"blue\">I. Administrative"
   ]
  },
  {
   "cell_type": "markdown",
   "id": "70043f29",
   "metadata": {},
   "source": [
    "### - http://student.infoacademy.net"
   ]
  },
  {
   "cell_type": "markdown",
   "id": "107be23b",
   "metadata": {},
   "source": [
    "### - examene, proiect, catalog"
   ]
  },
  {
   "cell_type": "markdown",
   "id": "a59f4547",
   "metadata": {},
   "source": [
    "### - sustine performanta"
   ]
  },
  {
   "cell_type": "markdown",
   "id": "de5f70a5",
   "metadata": {},
   "source": [
    "### - feedback, diploma"
   ]
  },
  {
   "cell_type": "markdown",
   "id": "ca873c40",
   "metadata": {},
   "source": [
    "### - contact - paul@infoacademy.net "
   ]
  },
  {
   "cell_type": "markdown",
   "id": "8d9c45bd",
   "metadata": {},
   "source": [
    "### - monitor+ sau 2 device-uri conectate"
   ]
  },
  {
   "cell_type": "markdown",
   "id": "52bba73b",
   "metadata": {},
   "source": [
    "# <span class=\"blue\">II. Structura cursului"
   ]
  },
  {
   "cell_type": "markdown",
   "id": "da18938b",
   "metadata": {},
   "source": [
    "\n",
    "\n",
    "\n",
    "# <span class=\"blue\"> 0. Introducere"
   ]
  },
  {
   "cell_type": "markdown",
   "id": "a62b285b",
   "metadata": {},
   "source": [
    "## <span class=\"trcz\"> 0.1. Computer"
   ]
  },
  {
   "cell_type": "markdown",
   "id": "973f5fa2",
   "metadata": {},
   "source": [
    "### - CPU\n",
    "### - RAM\n",
    "### - SSD, HDD\n",
    "### - Periferice IN\n",
    "### - Periferice OUT"
   ]
  },
  {
   "cell_type": "markdown",
   "id": "dc0fef9e",
   "metadata": {},
   "source": [
    "## <span class=\"trcz\"> 0.2. Program informatic"
   ]
  },
  {
   "cell_type": "markdown",
   "id": "2662bd8b",
   "metadata": {},
   "source": [
    "### - INPUT - PROCESARE - OUTPUT"
   ]
  },
  {
   "cell_type": "markdown",
   "id": "3cc5b22a",
   "metadata": {},
   "source": [
    "### - Limbaj de programare\n",
    "### - High level / Low level\n",
    "### - Compilabil(Ex: C) vs interpretabil(Python)\n",
    "### - Sintaxa\n",
    "### - Semantica"
   ]
  },
  {
   "cell_type": "markdown",
   "id": "5ce793e8",
   "metadata": {},
   "source": [
    "## <span class=\"trcz\"> 0.3. Programarea, vedere din avion"
   ]
  },
  {
   "cell_type": "markdown",
   "id": "f43b9084",
   "metadata": {},
   "source": [
    "### - 1. Analiza problemei - scopul aplicatiei?\n",
    "### - 2. Determinarea specificatiilor - ce trebuie sa faca? IN-PROCESE-OUT\n",
    "### - 3. Algoritm (design) - cum vor fi implementate specificatiile?\n",
    "### - 4. Implementare - scrierea codului\n",
    "### - 5. Testare / Debugging\n",
    "### - 6. Mentenanta\n",
    "### - <span class=\"red\"> 1. </span>...................."
   ]
  },
  {
   "cell_type": "markdown",
   "id": "f4b5cbcb",
   "metadata": {},
   "source": [
    "## <span class=\"trcz\"> 0.4. Fisiere python"
   ]
  },
  {
   "cell_type": "markdown",
   "id": "7a4183e8",
   "metadata": {},
   "source": [
    "### - .py, .pyw - executabile python - ruleaza aplicatia\n",
    "### - .pyc (byte compiled) - incarca mai rapid aplicatia in memoria RAM\n",
    "### - .pyd - librarii python"
   ]
  },
  {
   "cell_type": "markdown",
   "id": "7083f99b",
   "metadata": {},
   "source": [
    "## <span class=\"trcz\"> 0.5. Rulare aplicatii python"
   ]
  },
  {
   "cell_type": "markdown",
   "id": "0fd12ffe",
   "metadata": {},
   "source": [
    "### - direct (click and go)\n",
    "### - din command prompt(shell, terminal)\n",
    "### - printr-o aplicatie grafica (pycharm, vscode, IDLE, etc.)\n",
    "### - embeded"
   ]
  },
  {
   "cell_type": "markdown",
   "id": "8fdb5eef",
   "metadata": {},
   "source": [
    "## <span class=\"trcz\"> 0.6. Jupyter notebook"
   ]
  },
  {
   "cell_type": "markdown",
   "id": "042db250",
   "metadata": {},
   "source": [
    "### - poate rula direct in browser, in vscode, sau in alte IDE (Integrated Development Environment)"
   ]
  },
  {
   "cell_type": "markdown",
   "id": "e8d28ecf",
   "metadata": {},
   "source": [
    "### - <a class=\"trcz\"  href=https://jupyter-notebook.readthedocs.io/en/stable/index.html>info jupyter notebook </a>"
   ]
  },
  {
   "cell_type": "markdown",
   "id": "38c61e61",
   "metadata": {},
   "source": [
    "### - <a class=\"trcz\"  href =https://nbviewer.org/github/ipython/ipython/blob/3.x/examples/Notebook/Working%20With%20Markdown%20Cells.ipynb>info ipython examples </a>"
   ]
  },
  {
   "cell_type": "markdown",
   "id": "4a373eee",
   "metadata": {},
   "source": [
    "### - <a class=\"trcz\" href=https://docs.github.com/en/get-started/writing-on-github/getting-started-with-writing-and-formatting-on-github/basic-writing-and-formatting-syntax> info jupyter formating </a>"
   ]
  },
  {
   "cell_type": "markdown",
   "id": "1b4a942f",
   "metadata": {},
   "source": [
    "### - <a class=\"trcz\" href=\"https://ipython.org/documentation.html?v=20220302110841\"> info ipython documentation </a>"
   ]
  }
 ],
 "metadata": {
  "kernelspec": {
   "display_name": "Python 3 (ipykernel)",
   "language": "python",
   "name": "python3"
  },
  "language_info": {
   "codemirror_mode": {
    "name": "ipython",
    "version": 3
   },
   "file_extension": ".py",
   "mimetype": "text/x-python",
   "name": "python",
   "nbconvert_exporter": "python",
   "pygments_lexer": "ipython3",
   "version": "3.9.7"
  }
 },
 "nbformat": 4,
 "nbformat_minor": 5
}
