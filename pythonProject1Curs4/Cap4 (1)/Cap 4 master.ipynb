{
 "cells": [
  {
   "cell_type": "code",
   "execution_count": 1,
   "id": "1283c0b1",
   "metadata": {},
   "outputs": [
    {
     "data": {
      "text/html": [
       "\n",
       "<style>\n",
       "     .blue {\n",
       "         color: blue;\n",
       "     }\n",
       "     \n",
       "    .orange {\n",
       "         color: orange;\n",
       "     }\n",
       "     \n",
       "     .red {\n",
       "         color: red;\n",
       "     }\n",
       "\n",
       "     .trcz {\n",
       "         color:#48CAE4;\n",
       "     }\n",
       "\n",
       "     .trcz a {\n",
       "         color: inherit;\n",
       "     }\n",
       "\n",
       "     .green {\n",
       "         color: green;\n",
       "     }\n",
       "\n",
       "     .ita {\n",
       "         font-style: italic;\n",
       "     }\n",
       "     \n",
       "     .vio {\n",
       "        font-style: violet;\n",
       "     }\n",
       "\n",
       "    .table_std {\n",
       "        border-collapse: collapse;      \n",
       "    }\n",
       "    \n",
       "    .table_std,\n",
       "    .table_std td,\n",
       "    .table_std th {\n",
       "        border: solid 2px #70C5D7;\n",
       "    }\n",
       "    \n",
       "    .table_std tr:nth-child(even) {\n",
       "        background-color: #C4F3FD;\n",
       "    }\n",
       "    \n",
       "    .table_std tr:nth-child(odd) {\n",
       "        background-color: #70C5D7;\n",
       "    }\n",
       "    \n",
       "    .table_std td {\n",
       "        font: bold 20px sans-serif;\n",
       "        text-align: left;\n",
       "        text-indent: 10px;\n",
       "    }\n",
       "    \n",
       "    .table_std th {\n",
       "        font: bold 20px sans-serif;\n",
       "        text-align: center;\n",
       "    }\n",
       "\n",
       "\n",
       "\n",
       "\n",
       "</style>\n"
      ],
      "text/plain": [
       "<IPython.core.display.HTML object>"
      ]
     },
     "execution_count": 1,
     "metadata": {},
     "output_type": "execute_result"
    }
   ],
   "source": [
    "from ipythoncss import HTML, STILURI\n",
    "HTML(STILURI)"
   ]
  },
  {
   "cell_type": "code",
   "execution_count": 2,
   "id": "a3b3c6a4",
   "metadata": {},
   "outputs": [],
   "source": [
    "import sys\n",
    "sys.path\n",
    "sys.path.extend(['C:\\\\Users\\\\paul\\\\OneDrive\\\\Documents\\\\__PyThOn'\n",
    "            'C:\\\\Users\\\\paul\\\\OneDrive\\\\Documents\\\\__PyThOn\\\\0 PyP\\\\_module',\n",
    "            'C:\\\\Users\\\\paul\\\\OneDrive\\\\Documents\\\\__PyThOn\\\\venv\\\\Lib\\\\site-packages'])"
   ]
  },
  {
   "cell_type": "markdown",
   "id": "f468e5d7",
   "metadata": {},
   "source": [
    "# <span class=\"blue\">4. Functii, lambda, exceptii, fisiere text"
   ]
  },
  {
   "cell_type": "markdown",
   "id": "49f80f04",
   "metadata": {},
   "source": [
    "# <span class=\"blue\">4.1. Functii"
   ]
  },
  {
   "cell_type": "markdown",
   "id": "44312e0f",
   "metadata": {},
   "source": [
    "## <span class=\"trcz\">4.1.1. Necesitate / definitie"
   ]
  },
  {
   "cell_type": "markdown",
   "id": "ca37668f",
   "metadata": {},
   "source": [
    "### Necesitate: \n",
    "   ### - Un program care contine cateva linii de cod nu necesita functii. O functie permite executarea unui cod ori de cate ori este nevoie, fara rescrierea acesteia, doar prin apelarea ei;\n",
    "\n",
    "### Definitie: \n",
    "   ### - O portiune de cod stocata, care are un nume, poate primi date de intrare si poate furniza date de iesire;\n",
    "### D.R.Y.\n",
    "### K.I.S.S.\n",
    "### D. & I."
   ]
  },
  {
   "cell_type": "markdown",
   "id": "f25da8b0",
   "metadata": {},
   "source": [
    "## <span class=\"trcz\">4.1.2. Avantaje"
   ]
  },
  {
   "cell_type": "markdown",
   "id": "10a4a334",
   "metadata": {},
   "source": [
    "### Reducerea codului duplicat;\n",
    "\n",
    "### Descompunerea problemelor complexe componente mai simple, care pot fi rezolvate mai usor;\n",
    "\n",
    "### Imbunatatirea claritatii codului;\n",
    "\n",
    "### Reutilizarea codului;\n",
    "\n",
    "### Ascunderea informatiilor (incapsulare);\n",
    "\n",
    "### Abstractizarea – viziune de ansamblu."
   ]
  },
  {
   "cell_type": "markdown",
   "id": "d7503ea5",
   "metadata": {},
   "source": [
    "## <span class=\"trcz\">4.1.3. Sintaxa"
   ]
  },
  {
   "cell_type": "code",
   "execution_count": null,
   "id": "21d26086",
   "metadata": {},
   "outputs": [],
   "source": [
    "def nume_functie( [parametri] ) :\n",
    "    ”””Docstring”””\n",
    "    bloc de instructiuni\n",
    "    return expresie"
   ]
  },
  {
   "cell_type": "markdown",
   "id": "430d7947",
   "metadata": {},
   "source": [
    "## <span class=\"trcz\">4.1.4. Numele functiilor"
   ]
  },
  {
   "cell_type": "markdown",
   "id": "a43047bb",
   "metadata": {},
   "source": [
    "###  Poate contine litere, cifre, underscore. Nu poate incepe cu o cifra.\n",
    "\n",
    "###  Este case sensitive\n",
    "\n",
    "###  Nu poate contine cuvinte rezervate\n",
    "\n",
    "###  Va suprascrie o functie sau o variabila cu acelasi nume\n",
    "\n",
    "###  Se recomanda nume de forma prima_mea_functie (cuvinte compuse, cu litere mici, despartite prin underscore)\n",
    "\n",
    "###  Apelarea functiilor se face cu \n",
    "   ### <pre>    nume_functie([parametri])\n",
    " "
   ]
  },
  {
   "cell_type": "code",
   "execution_count": null,
   "id": "75a5d5ec",
   "metadata": {},
   "outputs": [],
   "source": [
    "def len():\n",
    "    print('am suprascris functia predefinita len')"
   ]
  },
  {
   "cell_type": "code",
   "execution_count": null,
   "id": "1b11afd4",
   "metadata": {},
   "outputs": [],
   "source": [
    "def aria(a, b):\n",
    "    \"\"\"Calculeaza aria dreptunghiului\n",
    "    primind ca argumente valorile laturilor\"\"\"  #\n",
    "    return a * b\n",
    "\n",
    "\n",
    "print(aria(7, 50))\n",
    "print(aria.__doc__)"
   ]
  },
  {
   "cell_type": "code",
   "execution_count": null,
   "id": "ae2cf2b1",
   "metadata": {},
   "outputs": [],
   "source": [
    "from math import pi\n",
    "def aria(raza):    # rescriem functia\n",
    "    \"\"\"Calculeaza aria cercului (primeste ca parametru raza)\"\"\" #\n",
    "    return pi * raza ** 2\n",
    "\n",
    "\n",
    "print(aria(7, 8))  # daca incercam s-o apelam asa cum o stiam - genereaza o eroare\n",
    "print(aria(5))     # apelarea actuala\n",
    "\n",
    "print(aria.__doc__)\n",
    "help(aria)"
   ]
  },
  {
   "cell_type": "code",
   "execution_count": null,
   "id": "56788f6c",
   "metadata": {},
   "outputs": [],
   "source": [
    "# definim variabila area\n",
    "area = 100\n",
    "print(area)\n",
    "\n",
    "# definim functia area - consecinta, variabila area nu mai exista, a fost suprascrisa\n",
    "def area(lungime, latime):\n",
    "    return lungime * latime\n",
    "\n",
    "print(area)\n",
    "print(area(10, 7))\n",
    "\n",
    "# atribuim valoarea pentru variabila area - consecinta, functia area nu mai exista, a fost suprascrisa\n",
    "area = 200\n",
    "\n",
    "print(area(10, 7))\n",
    "print(area)"
   ]
  },
  {
   "cell_type": "markdown",
   "id": "d3e94f51",
   "metadata": {},
   "source": [
    "## <span class=\"trcz\">4.1.5. Blocul de instructiuni"
   ]
  },
  {
   "cell_type": "markdown",
   "id": "d58fd1e2",
   "metadata": {},
   "source": [
    "### Este indentat fata de numele functiei (preferabil 4 spatii)\n",
    "\n",
    "### Este recomandat sa fie precedat de un docstring, de asemenea indentat. Docstringul face parte din documentatie si este inclus intre ghilimele triple. Poate fi apelat cu: \n",
    "   ### <pre>    nume_functie.__doc__</pre>\n",
    "### Se recomanda declararea functiilor la inceputul programului, imediat dupa variabile\n",
    "\n",
    "### In blocul de instructiuni putem utiliza parametri functiilor, variabile locale(definite in acel bloc), variabile globale, apeluri catre functii.\n"
   ]
  },
  {
   "cell_type": "markdown",
   "id": "24221c08",
   "metadata": {},
   "source": [
    "## <span class=\"trcz\">4.1.6. Parametri"
   ]
  },
  {
   "cell_type": "markdown",
   "id": "83ae3be1",
   "metadata": {},
   "source": [
    "### Putem avea functii cu sau fara parametri\n",
    "\n",
    "### Parametri pot fi scalari sau variabile\n",
    "\n",
    "### O functie poate avea urmatoarele categorii de parametri:\n",
    "### <pre>Parametri pozitionali</pre>\n",
    "### <pre>Parametri cu valori default</pre>\n",
    "### <pre>Un numar variabil de parametri simpli sau de tip cheie=valoare</pre>\n",
    "\n",
    "### Parametri pot fi utilizati in blocul de instructiuni si au statut de variabile locale\n"
   ]
  },
  {
   "cell_type": "code",
   "execution_count": null,
   "id": "e2a1554b",
   "metadata": {},
   "outputs": [],
   "source": [
    "# Functie fara parametri\n",
    "\n",
    "def test():\n",
    "    print('Test')\n",
    "\n",
    "test()"
   ]
  },
  {
   "cell_type": "code",
   "execution_count": null,
   "id": "6090d184",
   "metadata": {},
   "outputs": [],
   "source": [
    "# functie cu parametri pozitionali\n",
    "\n",
    "def test_parametri(nume, varsta):\n",
    "    if type(nume) is str and type(int(varsta)) is int:\n",
    "        print(nume, 'are', varsta, 'ani!')\n",
    "    else:\n",
    "        print('Parametrii incorecti!')\n",
    "\n",
    "\n",
    "#test_parametri('Maria', 29)  # apelare corecta a functiei\n",
    "#test_parametri(22, 'Maria')  # parametrii inversati, tipuri de date diferite\n",
    "#test_parametri('Maria')      # numar incorect de parametrii\n",
    "\n",
    "#test_parametri(varsta='25', nume='Ion')\n",
    "d = {'nume' : 'Catalina', 'varsta' : 19}\n",
    "l = ['Marin', 28]\n",
    "l1 = [15, 'Cristina']\n",
    "#test_parametri(**d)          # va fi detaliat in exercitiile urmatoare\n",
    "#test_parametri(*l)           # va fi detaliat in exercitiile urmatoare\n",
    "#test_parametri(*l1)"
   ]
  },
  {
   "cell_type": "code",
   "execution_count": null,
   "id": "e79b139b",
   "metadata": {},
   "outputs": [],
   "source": [
    "def vremea(ploua='', ger=''):\n",
    "    if ger:\n",
    "        print('Imbraca-te gros!')\n",
    "\n",
    "    if ploua:\n",
    "        print('Ia-ti umbrela!')\n",
    "    else:\n",
    "        print('Zambeste!')\n",
    "\n",
    "#vremea()\n",
    "#vremea('ploua')\n",
    "#vremea(ploua='da')\n",
    "#vremea('ger')\n",
    "#vremea(ger='da')\n",
    "#vremea(ger='da', ploua='da')"
   ]
  },
  {
   "cell_type": "markdown",
   "id": "f34ce003",
   "metadata": {},
   "source": [
    "## <span class=\"trcz\">4.1.7. return"
   ]
  },
  {
   "cell_type": "markdown",
   "id": "e645348c",
   "metadata": {},
   "source": [
    "### O functie poate contine return explicit sau implicit\n",
    "\n",
    "### Daca nu are un return explicit, implicit va returna None. Consecinta este ca rezultatul acesteia este final, nu poate fi utilizat intr-o expresie.\n",
    "\n",
    "### Pentru a putea fi utilizata in expresii functia va contine return explicit"
   ]
  },
  {
   "cell_type": "code",
   "execution_count": null,
   "id": "41d520f0",
   "metadata": {},
   "outputs": [],
   "source": [
    "# o functie fara return\n",
    "\n",
    "def aduna(p1, p2):\n",
    "    print(p1 + p2)\n",
    "\n",
    "x = aduna(5, 7)  # nu stocheaza rezultatul intors de functie. Nu este o atribuire de valoare\n",
    "x += 100  # testare\n",
    "\n",
    "print(x)\n",
    "print(type(x))"
   ]
  },
  {
   "cell_type": "code",
   "execution_count": null,
   "id": "da38ee1d",
   "metadata": {},
   "outputs": [],
   "source": [
    "# o functie cu return\n",
    "\n",
    "def aduna(p1, p2):\n",
    "    suma = p1 + p2\n",
    "    return suma\n",
    "\n",
    "\n",
    "x = aduna(5, 7)\n",
    "x += 100\n",
    "print(x)"
   ]
  },
  {
   "cell_type": "code",
   "execution_count": null,
   "id": "bc4e5384",
   "metadata": {},
   "outputs": [],
   "source": [
    "# o functie care are print in rezultat NU va fi apelata cu print\n",
    "\n",
    "def salut(nume):\n",
    "    print('Hello', nume)\n",
    "\n",
    "print(salut('Vasile'))  # Apelare cu print rezultat denaturat\n",
    "salut('Ioana')          # Apelare doar cu nume functie rezultat corect"
   ]
  },
  {
   "cell_type": "markdown",
   "id": "1d37a69a",
   "metadata": {},
   "source": [
    "## <span class=\"trcz\">4.1.8. Namespace"
   ]
  },
  {
   "cell_type": "markdown",
   "id": "348106fc",
   "metadata": {},
   "source": [
    "### Variabilele globale au namespace global vizibile in orice loc din cod;\n",
    "\n",
    "### Variabilele locale au namespace local vizibile doar in interiorul unei portiuni de cod, de exemplu intr-o functie. Eliberarea memoriei de variabilele locale duce la cresterea rapiditatii incarcarii si rularii programelor;\n",
    "\n",
    "### Variabilele globale pot fi utilizate in functii, implicit fara a-si modifica valoarea in blocul de instructiuni al functiei. Daca dorim sa le modificam valoarea, in interiorul acestora, va trebui sa le declaram globale in blocul de instructiuni ( global nume_variabila).\n",
    "\n"
   ]
  },
  {
   "cell_type": "code",
   "execution_count": null,
   "id": "a61d069e",
   "metadata": {},
   "outputs": [],
   "source": [
    "# namespace local functii\n",
    "\n",
    "def calculeaza(a, b, c):\n",
    "    result = (a + b) * c  # result este variabila locala, nu este vizibila in afara functiei\n",
    "    return result  # la fel si parametrii a, b, c\n",
    "\n",
    "calculeaza(1, 2, 3)\n",
    "#print(result)  # NU sunt vizibili in afara functiei\n",
    "#print(a, b, c)"
   ]
  },
  {
   "cell_type": "code",
   "execution_count": null,
   "id": "79c2ed1f",
   "metadata": {},
   "outputs": [],
   "source": [
    "# variabila globala vs variabila locala\n",
    "\n",
    "var_x = 10  # variabila globala\n",
    "print('Valoare variabila x:',var_x)\n",
    "\n",
    "def test(numar):\n",
    "    if numar < 25:\n",
    "        var_x = 25  # variabila locala\n",
    "    return var_x\n",
    "\n",
    "print('Rezultat apel functie:',test(19))\n",
    "print('Valoare variabila x (nemodificata):',var_x)"
   ]
  },
  {
   "cell_type": "code",
   "execution_count": null,
   "id": "046cab1a",
   "metadata": {},
   "outputs": [],
   "source": [
    "# Variabila globala modificare - asa da - \n",
    "\n",
    "z = 1\n",
    "def test_global(numar):\n",
    "    global z\n",
    "    z = numar * 2\n",
    "    return z * numar\n",
    "\n",
    "test_global(19)\n",
    "print(z)"
   ]
  },
  {
   "cell_type": "code",
   "execution_count": null,
   "id": "92a8c522",
   "metadata": {},
   "outputs": [],
   "source": [
    "# Variabila globala modificare - asa NU - \n",
    "\n",
    "def test_global1(numar):\n",
    "    global var\n",
    "    var = numar * 3\n",
    "    return var * numar\n",
    "\n",
    "print(var)\n",
    "test_global1(25)\n",
    "print(var)"
   ]
  },
  {
   "cell_type": "markdown",
   "id": "73989b05",
   "metadata": {},
   "source": [
    "## <span class=\"trcz\">4.1.9. Exemple"
   ]
  },
  {
   "cell_type": "code",
   "execution_count": null,
   "id": "707d8ed8",
   "metadata": {},
   "outputs": [],
   "source": [
    "# functia calificativ - calculeaza calificativul in baza scorului obtinut\n",
    "\n",
    "def calificativ(score: float):    # tip de date impus\n",
    "    \"\"\"Calculeaza calificativul obtinut pe baza notei\"\"\"\n",
    "\n",
    "    if score > 10.0 or score < 0.0:\n",
    "        result = 'Bad score'\n",
    "    elif score >= 9.0:\n",
    "        result = 'A'\n",
    "    elif score >= 8.0:\n",
    "        result = 'B'\n",
    "    elif score >= 7.0:\n",
    "        result = 'C'\n",
    "    elif score >= 6.0:\n",
    "        result = 'D'\n",
    "    else:\n",
    "        result = 'F'\n",
    "    return result\n",
    "\n",
    "calificativ(-1)"
   ]
  },
  {
   "cell_type": "code",
   "execution_count": null,
   "id": "afdfc394",
   "metadata": {},
   "outputs": [],
   "source": [
    "# Transforma grade celsius in fahrenheit si invers\n",
    "\n",
    "def cel_fahr(temp, tip):\n",
    "    \"\"\"Transforma c->f sau f->c.\n",
    "    Tip este c sau f corespunzator temp introduse\"\"\" #\n",
    "    if tip.upper() == 'C':\n",
    "        result = temp * 9 / 5 + 32\n",
    "    elif tip.upper() == 'F':\n",
    "        result = 5 / 9 * (temp - 32)\n",
    "    else:\n",
    "        result = 'Parametrii incorecti'\n",
    "    return result\n",
    "\n",
    "cel_fahr(0, 'c')\n",
    "cel_fahr(100, 'f')"
   ]
  },
  {
   "cell_type": "code",
   "execution_count": null,
   "id": "4c90d8c6",
   "metadata": {},
   "outputs": [],
   "source": [
    "# functiile definite pot fi utilizate in alte functii\n",
    "\n",
    "def fahr_kelvin(fahr):\n",
    "    \"\"\"\n",
    "    Transforma fahrenheit in kelvin\n",
    "    \"\"\"  #\n",
    "    cel = cel_fahr(fahr, 'F')\n",
    "    kel = cel  + 273.15\n",
    "    return kel\n",
    "\n",
    "fahr_kelvin(32)"
   ]
  },
  {
   "cell_type": "code",
   "execution_count": null,
   "id": "a3fc3bc3",
   "metadata": {},
   "outputs": [],
   "source": [
    "# functia bisect - calculeaza daca anul este bisect si verificam daca este intre 1-9999\n",
    "\n",
    "def bisect(an):\n",
    "    \"\"\"Returneaza True daca e an bisect, false daca nu este\"\"\"  #\n",
    "    if 1 <= an <= 9999:\n",
    "        if an % 400 == 0:\n",
    "            bis = True\n",
    "        elif an % 100 == 0:\n",
    "            bis = False\n",
    "        elif an % 4 == 0:\n",
    "            bis = True\n",
    "        else:\n",
    "            bis = False\n",
    "        return bis\n",
    "    else:\n",
    "        print('In afara intevalului')\n",
    "\n",
    "print(bisect.__doc__)           # returneaza docstringul functiei\n",
    "bisect(2400)                    # apelam functia"
   ]
  },
  {
   "cell_type": "code",
   "execution_count": null,
   "id": "d9b0de28",
   "metadata": {},
   "outputs": [],
   "source": [
    "# functia recursiva adunaRecursiv\n",
    "\n",
    "def adunaRecursiv(numar_minim, numar_maxim):\n",
    "    \"\"\"Aduna numerele cuprinse intre minim si maxim\"\"\"\n",
    "\n",
    "    if numar_minim > numar_maxim:\n",
    "        result = 0\n",
    "    else:\n",
    "        result = numar_minim + adunaRecursiv(numar_minim + 1, numar_maxim)\n",
    "    return result\n",
    "\n",
    "adunaRecursiv(1, 10)"
   ]
  },
  {
   "cell_type": "code",
   "execution_count": null,
   "id": "c8fcc484",
   "metadata": {},
   "outputs": [],
   "source": [
    "# functia fibonacci recursiv\n",
    "def fib(numar):\n",
    "    \"\"\"\n",
    "    Lista lui Fibonacci - o functie care se apeleaza pe sine - recursiva\n",
    "    \"\"\"  #\n",
    "    if numar == 0:\n",
    "        result = 0\n",
    "    elif numar == 1:\n",
    "        result = 1\n",
    "    else:\n",
    "        result = fib(numar - 1) + fib(numar - 2)\n",
    "    return result"
   ]
  },
  {
   "cell_type": "code",
   "execution_count": null,
   "id": "2360e877",
   "metadata": {},
   "outputs": [],
   "source": [
    "# apelare fib recursiv\n",
    "\n",
    "from time import time\n",
    "\n",
    "time_start = time()\n",
    "print(fib(33))\n",
    "time_end = time()\n",
    "print(time_end - time_start)"
   ]
  },
  {
   "cell_type": "code",
   "execution_count": null,
   "id": "cfc91030",
   "metadata": {},
   "outputs": [],
   "source": [
    "# fibonacci fara recursivitate\n",
    "\n",
    "def fibo(numar):\n",
    "    \"\"\"\n",
    "    Alta varianta mai rapida...\n",
    "    \"\"\"  #\n",
    "    a, b = 0, 1\n",
    "    for i in range(numar):\n",
    "        a, b = b, a + b\n",
    "    return a\n",
    "\n",
    "print(fibo(1000))\n",
    "len(str(fibo(1000)))"
   ]
  },
  {
   "cell_type": "code",
   "execution_count": null,
   "id": "1720160f",
   "metadata": {},
   "outputs": [],
   "source": [
    "# crearea unei functii cu numar variabil de parametri *args  \n",
    "\n",
    "def exemplu(*args):  # *args - permite un numar variabil de parametri\n",
    "    \"\"\"Functia aduna mai multe numere primite ca argument.\n",
    "    Returneaza suma si lista numerelor\"\"\" #\n",
    "    print(type(args))\n",
    "    suma = 0\n",
    "    lista = []\n",
    "    for i in args:\n",
    "        if type(i) == int:\n",
    "            suma += i\n",
    "            lista.append(i)\n",
    "    if lista:\n",
    "        result = 'Suma numerelor : ' + str(lista) + ' este ' + str(suma)\n",
    "    else:\n",
    "        result = 'Nu ai introdus numere'\n",
    "    return result\n",
    "\n"
   ]
  },
  {
   "cell_type": "code",
   "execution_count": null,
   "id": "ae8bbe5b",
   "metadata": {},
   "outputs": [],
   "source": [
    "# apelare exemplu\n",
    "\n",
    "#exemplu(1, 2, 5, 6, 8)\n",
    "#exemplu('a', 'b', 'c')\n",
    "#exemplu(1, 'a', '9', 100)\n",
    "tn = (5, 10, 25, 117)\n",
    "ln = [1, 5, 9, 25, 4587, 58569, 387]\n",
    "sn = {4, 6, 9}\n",
    "\n",
    "#exemplu(*tn)\n",
    "#exemplu(*ln)\n",
    "#exemplu(*sn)\n",
    "#exemplu(4, 5, 9, *sn, *tn, *ln, ln, 1, 5, 9)"
   ]
  },
  {
   "cell_type": "code",
   "execution_count": null,
   "id": "020e9fd8",
   "metadata": {},
   "outputs": [],
   "source": [
    "# functia fruncte, cu un numar variabil de argumente\n",
    "\n",
    "def fructe(*f):\n",
    "    \"\"\"Docstring!\"\"\"   \n",
    "    for count, fruct in enumerate(f, start=1):              # enumerate aloca index incepand cu zero\n",
    "        print(count, '-->', fruct)                          # count va fi dat de enumerate, fruct de parametri\n",
    "\n",
    "fructe('alune', 'caise', 'coacaze', 'prune')\n",
    "\n",
    "lf = ('alune', 'caise', 'coacaze', 'prune', 'mere', 'piersici')\n",
    "\n",
    "fructe('nuci', *lf, 'capsuni', 'struguri')"
   ]
  },
  {
   "cell_type": "code",
   "execution_count": null,
   "id": "9a06f578",
   "metadata": {},
   "outputs": [],
   "source": [
    "# functia demo cu parametru pozitional, un numar variabil de parametri simpli, un numar variabil de parametri cheie-valoare\n",
    "\n",
    "def demo(pos_param, *var_param, **key_value_param):   # *args / *var_param - parametri multipli  -->  tuplu, lista\n",
    "    \"\"\"Docstring!\"\"\"  #\n",
    "    print(pos_param )                   # **kwargs / **key_value_param - paramatri multipli de tip key = values --> dict\n",
    "    print('-' * 60)\n",
    "    if var_param:                            # daca avem argumente multiple tip tuplu\n",
    "        print('parametri simpli:')\n",
    "        for i in var_param:\n",
    "            print(i)\n",
    "    print('-' * 60)\n",
    "    if key_value_param:                          # daca avem argumente multiple key = value\n",
    "        print('parametri cheie-valoare:')\n",
    "        for k, v in key_value_param.items():\n",
    "            print(f\"Cheie: {k}, valoare: {v}\")\n",
    "            "
   ]
  },
  {
   "cell_type": "code",
   "execution_count": null,
   "id": "63b8894a",
   "metadata": {},
   "outputs": [],
   "source": [
    "print('\\n--> Apelare cu paramentru pozitional:')\n",
    "demo('CEVA')\n",
    "\n",
    "print('\\n--> Apelare cu parametru pozitional si alti parametrii simpli:')\n",
    "demo('CEVA', 'Ana', 'are', 'mere')\n",
    "\n",
    "print('\\n--> Apelare cu parametru pozitional, alti parametrii simpli si parametri cheie-valoare:')\n",
    "demo('CEVA', 'Ana', 'are', 'fructe', mere=1, pere=2, prune=3)\n",
    "\n",
    "print('\\n--> Datele pot proveni din structuri de date:')\n",
    "variable_param = ('ce', 'are', 'Ana')\n",
    "dictionary_param = {'nuci': 10, 'caise': 2, 'mere': 3}\n",
    "\n",
    "print('\\nApelarea fara \"asteriscuri\" duce la alt rezultat')\n",
    "demo('CEVA', variable_param, dictionary_param)\n",
    "\n",
    "print('\\nApelarea cu \"asteriscuri\" este cea corecta')\n",
    "demo('CEVA', *variable_param, **dictionary_param)"
   ]
  },
  {
   "cell_type": "code",
   "execution_count": null,
   "id": "fe3c7821",
   "metadata": {},
   "outputs": [],
   "source": [
    "# functie care poate returna rezultatele in concordanta cu numarul de parametri primiti\n",
    "\n",
    "def numere(*parametrii):\n",
    "    \"\"\"Docstring!\"\"\"  #\n",
    "    # returneaza numarul\n",
    "    if len(parametrii) == 1:\n",
    "        result = parametrii[0]\n",
    "    # inmulteste doua numere\n",
    "    elif len(parametrii) == 2:\n",
    "        result = parametrii[0] * parametrii[1]\n",
    "    # aduna multe numere\n",
    "    elif len(parametrii) > 2:\n",
    "        suma = 0\n",
    "        for i in parametrii:\n",
    "            suma += i\n",
    "        result = suma\n",
    "    else:\n",
    "        result = False\n",
    "    return result\n",
    "\n",
    "\n",
    "print(numere(5, 7, 8))\n",
    "\n",
    "print(numere(5))\n",
    "\n",
    "print(numere(5, 10))\n",
    "\n",
    "print(numere())"
   ]
  },
  {
   "cell_type": "markdown",
   "id": "ea2f089d",
   "metadata": {},
   "source": [
    "## <span class=\"trcz\">4.1.10. Functia lambda"
   ]
  },
  {
   "cell_type": "markdown",
   "id": "ed26872d",
   "metadata": {},
   "source": [
    "### Sintaxa:\n",
    "### <pre>    nume_functie = lambda [parametrii] : \tinstructiuni</pre>\n",
    "\n",
    "### Este scrisa pe un singur rand.\n",
    "\n",
    "### Nu are return, dar rezultatul poate fi utilizat in expresii.\n"
   ]
  },
  {
   "cell_type": "code",
   "execution_count": null,
   "id": "c0892f52",
   "metadata": {},
   "outputs": [],
   "source": []
  },
  {
   "cell_type": "markdown",
   "id": "7321cade",
   "metadata": {},
   "source": [
    "# <span class=\"blue\">4.2. Ridicarea si gestionarea exceptiilor"
   ]
  },
  {
   "cell_type": "markdown",
   "id": "7f2aa0e0",
   "metadata": {},
   "source": [
    "## <span class=\"trcz\">4.2.1. Ridicarea unei exceptii"
   ]
  },
  {
   "cell_type": "code",
   "execution_count": null,
   "id": "73117eba",
   "metadata": {},
   "outputs": [],
   "source": [
    "def demo1(val):\n",
    "    if type(val) != str:\n",
    "        raise TypeError('Valoarea trebuie sa fie de tip string!')\n",
    "        print('Aceasta linie nu se mai executa in caz a de eroare!')\n",
    "\n",
    "#demo1(5)\n",
    "print('Executia scriptului se opreste la aparitia erorii. Aceasta linie nu va mai fi executata!')"
   ]
  },
  {
   "cell_type": "markdown",
   "id": "5efb8a62",
   "metadata": {},
   "source": [
    "## <span class=\"trcz\">4.2.2. Tratarea exceptiilor"
   ]
  },
  {
   "cell_type": "markdown",
   "id": "99a7ba3b",
   "metadata": {},
   "source": [
    "### Este esential sa mentionam explicit tipurile de erori pe care dorim sa le gestionam;\n",
    "\n",
    "### Putem mentiona o variabila in care sa capturam erorile aparute cu expresia AS nume_variabila;\n",
    "\n",
    "### Putem folosi mai multe ramuri except, pentru tipuri diferite de eroare, fiecare cu propriul bloc de instructiuni aplicabile;\n",
    "\n",
    "### Daca apare alt tip de eroare, decat cele definite, nu va fi exceptata.\n"
   ]
  },
  {
   "cell_type": "code",
   "execution_count": null,
   "id": "61144ce1",
   "metadata": {},
   "outputs": [],
   "source": [
    "try: \n",
    "    bloc de instructiuni   # Incearca rularea cu succes\n",
    "\n",
    "except[(tip_exceptie1, tip_exceptie 2,...)][as var] :\n",
    "    bloc de instructiuni \n",
    "\n",
    "except   \n",
    "    # Daca blocul try intampina una din erorile gestionate \n",
    "    # de except va rula blocul except (blocul try nu va rula)\n",
    "\n",
    "[except .....] # Pot fi mai multe ramuri except, cu tipuri de erori diferite\n",
    "\n",
    "[else: \n",
    "    print ('Buna treaba!')    # Daca try reuseste executa si else ]\n",
    "\n",
    "[finally: \n",
    "    print ('Aceasta va rula mereu')\t# Ruleaza in orice situatie]\n"
   ]
  },
  {
   "cell_type": "code",
   "execution_count": null,
   "id": "a4864061",
   "metadata": {},
   "outputs": [],
   "source": [
    "var = 100\n",
    "\n",
    "try:\n",
    "    demo1(var)\n",
    "    print('Aceasta linie de cod nu va fi executata!')\n",
    "except TypeError as err:\n",
    "    print('Eroare:', err)\n",
    "else:\n",
    "    print('In caz de eroare aceasta linie nu ruleaza!')\n",
    "finally:\n",
    "    print('Aceasta linie ruleaza in orice situatie!')\n",
    "    \n",
    "print('Executia scriptului continua dupa constructia try/except')"
   ]
  },
  {
   "cell_type": "code",
   "execution_count": null,
   "id": "b4826897",
   "metadata": {},
   "outputs": [],
   "source": [
    "# exemplu explicat\n",
    "\n",
    "import sys\n",
    "dict_data_ang = {}  # dict cu data angajarii (cheia nume)\n",
    "dict_varsta = {}    # dict cu varsta (cheia nume)\n",
    "dict_comun = {}\n",
    "\n",
    "def salariat(nume, varsta, an_ang):\n",
    "    \"\"\"Populeaza cele trei dictionare cu datele angajatilor\"\"\"\n",
    "    try:\n",
    "        if type(nume) is str:  # daca nume nu e string --> except. Daca e strig cu numere--> else\n",
    "            if 18 <= varsta <= 100:  # varsta in afara intervalului --> mesaj\n",
    "                if an_ang in range(1950, 2022):  # daca anul ang nu e in interval --> mesaj\n",
    "                    dict_data_ang[nume] = an_ang\n",
    "                    dict_varsta[nume] = varsta\n",
    "                    dict_comun[nume] = [an_ang, varsta]\n",
    "                else:\n",
    "                    print('Anul angajarii incorect!')\n",
    "            else:\n",
    "                print('Varsta incorecta! tre sa fie intre 18 si 100')\n",
    "        else:\n",
    "            print('Nume incorect!')\n",
    "    except (TypeError, ZeroDivisionError) as e:\n",
    "        print('Eroare: %s' % e)\n",
    "        print('cod eroare', sys.exc_info()[0])            # pentru captarea tipului de eroare\n",
    "        print('mesaj eroare', sys.exc_info()[1])\n",
    "    except IOError as e:\n",
    "        print('Eroare: %s' % e)\n",
    "        print('cod eroare', sys.exc_info()[0])            # pentru captarea tipului de eroare\n",
    "        print('mesaj eroare', sys.exc_info()[1])\n",
    "    except (NameError) as e:\n",
    "        print('Eroare: %s' % e)\n",
    "        print('cod eroare', sys.exc_info()[0])            # pentru captarea tipului de eroare\n",
    "        print('mesaj eroare', sys.exc_info()[1])\n",
    "\n",
    "# salariat('Paul', 25, 2001)    # corect\n",
    "# salariat('George', 21, 2011)  # corect\n",
    "# salariat('22', 2011, 19)      # parametri inversati, nume incorect\n",
    "# salariat(22, 'Marin', 2011)   # nume incorect\n",
    "# salariat('Marin', 'kjashd', 22)  # parametri inversati, varsta incorecta\n",
    "# salariat('Alina', 23, 'klkd')\n",
    "# salariat(varsta=29, an_ang=2020, nume='Corina')\n",
    "\n",
    "print(dict_data_ang)\n",
    "print(dict_varsta)\n",
    "print(dict_comun)"
   ]
  },
  {
   "cell_type": "markdown",
   "id": "422441f5",
   "metadata": {},
   "source": [
    "## <span class=\"trcz\">4.2.3. Tipuri de exceptii uzuale"
   ]
  },
  {
   "cell_type": "markdown",
   "id": "ab8eb7f8",
   "metadata": {},
   "source": [
    "<table class=\"table_std\">\n",
    "<tr><th>Tipul exceptiei</th>\t <th>Descriere</th></tr>\n",
    "\n",
    "<tr><td>IOError</td>\t\t\t <td>Daca incercam sa deschidem un fisier inexistent</td></tr>\n",
    "<tr><td>IndexError</td>\t\t\t <td>Daca indexam cu un numar inexistent</td></tr>\n",
    "<tr><td>KeyError</td>\t\t\t <td>Daca nu exista cheia in dictionar</td></tr>\n",
    "<tr><td>NameError</td> \t\t     <td>Nume de functie sau variabila inexistent</td></tr>\n",
    "<tr><td>SyntaxError</td>\t\t <td>Eroare de sintaxa</td></tr>\n",
    "<tr><td>TypeError</td>\t\t\t <td>Functie aplicata la un type neadecvat</td></tr>\n",
    "<tr><td>ValueError</td>\t\t\t <td>Functie aplicata cu o valoare gresita</td></tr>\n",
    "<tr><td>ZeroDivisionError</td>\t <td>Impartirea la zero nu este posibila</td></tr>\n",
    " </table>\n",
    "<a href=https://docs.python.org/3/library/exceptions.html?highlight=exception#Exception style=\"font: bold 22px sans-serif;\">Documentatie exceptii</a>"
   ]
  },
  {
   "cell_type": "markdown",
   "id": "65711fe3",
   "metadata": {},
   "source": [
    "# <span class=\"blue\">4.3. Citirea / scrierea din / in fisiere text"
   ]
  },
  {
   "cell_type": "markdown",
   "id": "8eb2e01f",
   "metadata": {},
   "source": [
    "## <span class=\"trcz\">4.3.1. Introducere"
   ]
  },
  {
   "cell_type": "markdown",
   "id": "a167d5b3",
   "metadata": {},
   "source": [
    "### Fisierele de tip text, indiferent de extensie, pot fi citite in Python. Implicit este utilizat encoding utf-8;\n",
    "\n",
    "### Fisierele text sunt utile pentru stocarea de date, fiind independente de sistemul de operare;\n",
    "\n",
    "### Fisierele contin linii, indiferent ca sunt structurate sau nu, fiecare linie avand un delimitator;\n",
    "\n",
    "### Pentru a deschide un fisiere de tip text:\n",
    "\n",
    "\tvariabila = open('nume_fisier', ['mod' – default 'r'])\n",
    "### nume fisier poate fi absolut sau relativ\n",
    " "
   ]
  },
  {
   "cell_type": "markdown",
   "id": "65cab354",
   "metadata": {},
   "source": [
    "## <span class=\"trcz\">4.3.2. Modul de deschidere"
   ]
  },
  {
   "cell_type": "markdown",
   "id": "db20fed2",
   "metadata": {},
   "source": [
    "### <span class=\"red\"> 'r'  </span>\t\tread only\t\t-\tfisier existent;\n",
    "\n",
    "### <span class=\"red\"> 'w'  </span>\twrite only\t- \til creeaza sau il rescrie daca exista;\n",
    "\n",
    "### <span class=\"red\"> 'a'  </span>\t\twrite only\t-\til creeaza sau il completeaza (la final);\n",
    "\n",
    "### <span class=\"red\"> 'r+' </span> \tread / write\n",
    "\n",
    "### <span class=\"red\"> 'w+' </span> \twrite / read\t \n",
    "\n",
    "### <span class=\"red\"> 'a+' </span> \twrite / read \n"
   ]
  },
  {
   "cell_type": "markdown",
   "id": "3369a15a",
   "metadata": {},
   "source": [
    "## <span class=\"trcz\">4.3.3. Metode utilizate"
   ]
  },
  {
   "cell_type": "code",
   "execution_count": null,
   "id": "f41c3826",
   "metadata": {},
   "outputs": [],
   "source": [
    "cale = 'c:/Users/paul/OneDrive/Documents/__PyThOn/'\n",
    "\n",
    "# Deschiderea  fisierului\n",
    "text = open(cale + \"exemplu.txt\", \"r+\", encoding='utf-8', newline='\\n')\n",
    "\n",
    "# citeste toate liniile\n",
    "x = text.read()"
   ]
  },
  {
   "cell_type": "markdown",
   "id": "4ec06f25",
   "metadata": {},
   "source": [
    "### <span class=\"ita\"> <span class=\"green\"> variabila.tell() </span> - indica pozitia cursorulul</span>"
   ]
  },
  {
   "cell_type": "code",
   "execution_count": null,
   "id": "a97002bf",
   "metadata": {},
   "outputs": [],
   "source": []
  },
  {
   "cell_type": "markdown",
   "id": "b1fa7b8c",
   "metadata": {},
   "source": [
    "### <span class=\"ita\"> <span class=\"green\"> variabila.seek(0) </span> - muta cursorul la inceput, sau la indexul specificat</span>"
   ]
  },
  {
   "cell_type": "code",
   "execution_count": null,
   "id": "6e1ac9d3",
   "metadata": {},
   "outputs": [],
   "source": []
  },
  {
   "cell_type": "markdown",
   "id": "6ca50bea",
   "metadata": {},
   "source": [
    "### <span class=\"ita\"> <span class=\"green\"> variabila.read() </span> – returneaza un sir de caractere cu continutul fisierului;</span>"
   ]
  },
  {
   "cell_type": "code",
   "execution_count": null,
   "id": "4c770f76",
   "metadata": {},
   "outputs": [],
   "source": []
  },
  {
   "cell_type": "markdown",
   "id": "d67fabdd",
   "metadata": {},
   "source": [
    "### <span class=\"ita\"> <span class=\"green\"> variabila.readline() </span> – returneaza linie cu linie la fiecare apelare;</span>"
   ]
  },
  {
   "cell_type": "code",
   "execution_count": null,
   "id": "614326b0",
   "metadata": {},
   "outputs": [],
   "source": []
  },
  {
   "cell_type": "markdown",
   "id": "e72ea96b",
   "metadata": {},
   "source": [
    "### <span class=\"ita\"> <span class=\"green\"> variabila.readlines() </span> – returneaza toate liniile ca elemente ale unei </span>liste;"
   ]
  },
  {
   "cell_type": "code",
   "execution_count": null,
   "id": "6a87b72b",
   "metadata": {},
   "outputs": [],
   "source": []
  },
  {
   "cell_type": "markdown",
   "id": "a74c4855",
   "metadata": {},
   "source": [
    "### <span class=\"ita\"> <span class=\"green\"> variabila.write('text') </span> – scrie in fisier sirul primit ca argument</span>"
   ]
  },
  {
   "cell_type": "code",
   "execution_count": null,
   "id": "207767b6",
   "metadata": {},
   "outputs": [],
   "source": []
  },
  {
   "cell_type": "markdown",
   "id": "67bdb568",
   "metadata": {},
   "source": [
    "### <span class=\"ita\"> <span class=\"green\"> variabila.writelines(['text1', 'text2'...]) </span> –scrie in fisier sirurile dintr-o lista</span>"
   ]
  },
  {
   "cell_type": "code",
   "execution_count": null,
   "id": "e837435a",
   "metadata": {},
   "outputs": [],
   "source": []
  },
  {
   "cell_type": "markdown",
   "id": "81d6b242",
   "metadata": {},
   "source": [
    "## <span class=\"trcz\">4.3.4. Exemple"
   ]
  },
  {
   "cell_type": "code",
   "execution_count": null,
   "id": "d10a4540",
   "metadata": {},
   "outputs": [],
   "source": [
    "cale = 'c:/Users/paul/OneDrive/Documents/__PyThOn/'\n",
    "\n",
    "# Deschiderea  fisierului. Citirea intregului text, toate liniile\n",
    "\n",
    "text = open(cale + \"guta.txt\", \"r\", encoding='utf-8', newline='\\n')\n",
    "x = text.read()  # citeste toate liniile intr-un sir de caractere\n",
    "print(x)"
   ]
  },
  {
   "cell_type": "code",
   "execution_count": null,
   "id": "cc55289f",
   "metadata": {},
   "outputs": [],
   "source": [
    "# Citeste doar caracterele dintr-o linie (readline)\n",
    "\n",
    "text.seek(0)            # muta cursorul la inceputul fisierului (indexul 0)\n",
    "\n",
    "print(text.readline())  # Prima linie\n",
    "print('Index cursor:', text.tell())      # returneaza pozitia cursorului\n",
    "print(text.readline())  # A doua linie\n",
    "print('Index cursor:', text.tell())       \n",
    "print(text.readline())  # A treia linie\n",
    "print('Index cursor:', text.tell())       "
   ]
  },
  {
   "cell_type": "code",
   "execution_count": null,
   "id": "45c2267c",
   "metadata": {},
   "outputs": [],
   "source": [
    "# Citeste toate liniile si le adauga intr-o lista ( o linie un element )\n",
    "\n",
    "text.seek(0)\n",
    "\n",
    "linii = text.readlines()\n",
    "print(linii)"
   ]
  },
  {
   "cell_type": "code",
   "execution_count": null,
   "id": "478cf336",
   "metadata": {},
   "outputs": [],
   "source": [
    "# prelucram datele din lista de mai sus cu o bucla for\n",
    "\n",
    "for linie in linii:\n",
    "    linie = linie.rstrip()          # elimina liniile goale  ?!?!\n",
    "    print(linie)"
   ]
  },
  {
   "cell_type": "code",
   "execution_count": null,
   "id": "727e436f",
   "metadata": {},
   "outputs": [],
   "source": [
    "# cautam daca sunt linii care includ cuvantul \"vorba\", caz in care afiseaza numarul liniei si continutul acesteia\n",
    "\n",
    "text.seek(0)\n",
    "\n",
    "count = 0\n",
    "for linie in linii:\n",
    "    linie = linie.rstrip()      # elimina spatiile goale  ?!?!\n",
    "    count += 1\n",
    "    if 'vorba' in linie:\n",
    "        print('Numarul liniei:', count)\n",
    "        print(linie)"
   ]
  },
  {
   "cell_type": "code",
   "execution_count": null,
   "id": "804de753",
   "metadata": {},
   "outputs": [],
   "source": [
    "# acelasi lucru de mai sus cu metode specifice sirurilor de caractere\n",
    "\n",
    "text.seek(0)\n",
    "\n",
    "for linie in linii:\n",
    "    if 'vorba' in linie:\n",
    "        print(\"numarul liniei:\", linii.index(linie) + 1)           # linia\n",
    "        print(\"numar car pe linie\", linie.find('vorba') + 1)              # caracterul\n",
    "        print(\"numar cuvant pe linie\", linie.split().index('vorba') + 1)       # cuvantul\n",
    "        print(linie)"
   ]
  },
  {
   "cell_type": "code",
   "execution_count": null,
   "id": "031348b3",
   "metadata": {},
   "outputs": [],
   "source": [
    "# Scrie intr-un fisier nou creat / sau il suprascrie\n",
    "\n",
    "text = open(cale + \"scrie.txt\", \"w\")\n",
    "data = '16.02.2022'\n",
    "text.write(f'Python si MySQL se inteleg de minune\\nIn curand vom incerca\\n\\n{data}\\n sa lucram cu\\nbaze de date MySQL!')\n",
    "nr_car = text.write('\\n\\nAstazi este o zi frumoasa. ')  # stocheaza numarul de caractere scrise\n",
    "print(f'Am scris un numar de {nr_car} caractere')\n",
    "sir = 'Ana are cirese'\n",
    "text.write(sir)  # daca nu mutam cursurul explicit (cu \\n) va scrie in continuare"
   ]
  },
  {
   "cell_type": "code",
   "execution_count": null,
   "id": "9f545f43",
   "metadata": {},
   "outputs": [],
   "source": [
    "text = open(cale + \"scrie.txt\", \"r\")\n",
    "print(text.read())"
   ]
  },
  {
   "cell_type": "code",
   "execution_count": null,
   "id": "c2724492",
   "metadata": {},
   "outputs": [],
   "source": [
    "# scriem in completarea unui fisier existent sau il creaza daca nu exista\n",
    "\n",
    "text = open(cale + \"scrie.txt\", \"a+\")\n",
    "new_line = '. Inca o zi frumoasa!'  # va fi scrisa in continuarea ultimei linii din fisier\n",
    "text.writelines([new_line, '\\n\\nvasile danseaza'])\n",
    "text.write('\\n\\t\\a Astazi este o zi frumoasa!')\n",
    "text.write(\"\"\"\\nLinia unu\n",
    "linia2\n",
    "linia3\n",
    "\"\"\")"
   ]
  },
  {
   "cell_type": "code",
   "execution_count": null,
   "id": "9cd75402",
   "metadata": {},
   "outputs": [],
   "source": [
    "print('prima incercare', text.read())     # incercare nereusita de citire, cursorul e la final"
   ]
  },
  {
   "cell_type": "code",
   "execution_count": null,
   "id": "cbb594eb",
   "metadata": {},
   "outputs": [],
   "source": [
    "text.seek(0)\n",
    "print('\\na doua incercare', text.read())  # dupa mutarea cursorului citirea e posibila"
   ]
  },
  {
   "cell_type": "code",
   "execution_count": null,
   "id": "94e6cce2",
   "metadata": {},
   "outputs": [],
   "source": [
    "# prelucrare cu try/except\n",
    "\n",
    "try:\n",
    "    text = open('guta.txt')\n",
    "\n",
    "except(FileNotFoundError) as e:\n",
    "    print('Fisierul nu poate fi deschis:')\n",
    "    print('Eroarea aparuta: ', e)\n",
    "    text = None\n",
    "\n",
    "else:\n",
    "    counts = dict()\n",
    "    for line in text.readlines():\n",
    "        words = line.replace(',', '').replace('.', '').replace('?', '').replace('!', '').split()\n",
    "        # text linii split in cuvinte\n",
    "        for word in words:\n",
    "            if word not in counts:  # daca nu exista in dictionar il creaza\n",
    "                counts[word] = 1\n",
    "\n",
    "            else:\n",
    "                counts[word] += 1   # daca exista in dictionar aduna 1\n",
    "    print(counts)"
   ]
  },
  {
   "cell_type": "code",
   "execution_count": null,
   "id": "0b51485c",
   "metadata": {},
   "outputs": [],
   "source": [
    "# prelucrare fisier medici.txt\n",
    "\n",
    "fisier = open(cale + 'medici.txt', 'r', encoding='utf-8', newline='\\n')\n",
    "lista = []   # lista in care vom introduce dictionare cu seturi de valori pt fiecare medic\n",
    "dict1 = {}   # dictionarul care va introduce fiecare set de valori in lista\n",
    "\n",
    "for line in fisier:\n",
    "    line = line.rstrip()              # elimina spatiile dintre liniile returnate\n",
    "    ls = line.split(',')              # creaza o lista cu cuvintele de pe o linie\n",
    "    if ls[0] != 'Nume':               # nu vrem sa returneze si antetul din fisier\n",
    "        dict1['Nume'] = ls[0]\n",
    "        dict1['Prenume'] = ls[1]      # din aceasta lista populam un dictionar \"temporar\"\n",
    "        dict1['Tip'] = ls[2]\n",
    "        dict1['Specialitate'] = ls[3]\n",
    "        lista.append(dict1)           # datele din dictionarul temporar sunt incarcate in lista\n",
    "        dict1 = {}                    # dictionarul este reinitializat pentru urmatoarea iteratie (linie)\n",
    "\n",
    "print(lista)"
   ]
  },
  {
   "cell_type": "code",
   "execution_count": null,
   "id": "a8fecda6",
   "metadata": {},
   "outputs": [],
   "source": [
    "# definim o functie care sa returneze medicii cu o anumita specialitate\n",
    "import time\n",
    "medici = ['Nume', 'Prenume', 'Specialitate'] \n",
    "\n",
    "def med_spec(Spec):\n",
    "    \"\"\"Afiseaza medicii cu specialitatea dorita\"\"\" #\n",
    "    #global fisier1\n",
    "    t1 = open('c:/Users/paulfratila/OneDrive/Documents/__PyThOn/scrie_1.txt', 'w')\n",
    "    t1.write('\\n' + '-' * 20 + str(time.asctime(time.localtime())))\n",
    "    for item in lista:\n",
    "        if item['Specialitate'] == Spec:\n",
    "            print(item)\n",
    "            for key in medici:\n",
    "                t1.write('\\n' + str(key) + ' : ' + str(item[key]))  # extragem informatia dorita\n",
    "            print('-' * 25)\n",
    "\n",
    "med_spec('o.r.l.')\n",
    "med_spec('chirurgie')"
   ]
  },
  {
   "cell_type": "code",
   "execution_count": null,
   "id": "8a79886e",
   "metadata": {},
   "outputs": [],
   "source": [
    "# afisam datele cu prettytable\n",
    "\n",
    "from prettytable import PrettyTable\n",
    "\n",
    "listeaza = PrettyTable()\n",
    "listeaza.field_names = ['nume', 'prenume', 'tip', 'spec']\n",
    "\n",
    "for i in lista:\n",
    "    listeaza.add_row([i['Nume'], i['Prenume'], i['Tip'], i['Specialitate']])\n",
    "    if i != lista[len(lista)-1]:\n",
    "        listeaza.add_row(['-'*17, '-'*20, '-'*12, '-'*16])\n",
    "\n",
    "scrie = open(cale + 'scrie3.txt', 'w', encoding='utf-8')\n",
    "scrie.write(str(listeaza))"
   ]
  },
  {
   "cell_type": "code",
   "execution_count": null,
   "id": "47153535",
   "metadata": {},
   "outputs": [],
   "source": [
    "citeste = open(cale + 'scrie3.txt', 'r', encoding='utf-8')\n",
    "print(citeste.read())"
   ]
  },
  {
   "cell_type": "code",
   "execution_count": null,
   "id": "f026fbc5",
   "metadata": {},
   "outputs": [],
   "source": []
  }
 ],
 "metadata": {
  "kernelspec": {
   "display_name": "Python 3 (ipykernel)",
   "language": "python",
   "name": "python3"
  },
  "language_info": {
   "codemirror_mode": {
    "name": "ipython",
    "version": 3
   },
   "file_extension": ".py",
   "mimetype": "text/x-python",
   "name": "python",
   "nbconvert_exporter": "python",
   "pygments_lexer": "ipython3",
   "version": "3.9.7"
  }
 },
 "nbformat": 4,
 "nbformat_minor": 5
}
