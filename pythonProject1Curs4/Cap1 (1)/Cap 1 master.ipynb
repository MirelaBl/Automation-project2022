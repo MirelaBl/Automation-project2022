{
 "cells": [
  {
   "cell_type": "code",
   "execution_count": 9,
   "id": "9f19af59",
   "metadata": {},
   "outputs": [
    {
     "data": {
      "text/html": [
       "\n",
       "<style>\n",
       "     .blue {\n",
       "         color: blue;\n",
       "     }\n",
       "     \n",
       "    .orange {\n",
       "         color: orange;\n",
       "     }\n",
       "     \n",
       "     .red {\n",
       "         color: red;\n",
       "     }\n",
       "\n",
       "     .trcz {\n",
       "         color:#48CAE4;\n",
       "     }\n",
       "\n",
       "     .trcz a {\n",
       "         color: inherit;\n",
       "     }\n",
       "\n",
       "     .green {\n",
       "         color: green;\n",
       "     }\n",
       "\n",
       "     .ita {\n",
       "         font-style: italic;\n",
       "     }\n",
       "     \n",
       "     .vio {\n",
       "        font-style: violet;\n",
       "     }\n",
       "\n",
       "\n",
       "</style>\n"
      ],
      "text/plain": [
       "<IPython.core.display.HTML object>"
      ]
     },
     "execution_count": 9,
     "metadata": {},
     "output_type": "execute_result"
    }
   ],
   "source": [
    "from ipythoncss import HTML, STILURI\n",
    "HTML(STILURI)"
   ]
  },
  {
   "cell_type": "code",
   "execution_count": null,
   "id": "e4374673",
   "metadata": {},
   "outputs": [],
   "source": [
    "import sys\n",
    "sys.path\n",
    "sys.path.extend(['C:\\\\Users\\\\paul\\\\OneDrive\\\\Documents\\\\__PyThOn'\n",
    "            'C:\\\\Users\\\\paul\\\\OneDrive\\\\Documents\\\\__PyThOn\\\\0 PyP\\\\_module',\n",
    "            'C:\\\\Users\\\\paul\\\\OneDrive\\\\Documents\\\\__PyThOn\\\\venv\\\\Lib\\\\site-packages'])"
   ]
  },
  {
   "cell_type": "markdown",
   "id": "fc70d530",
   "metadata": {},
   "source": [
    "\n",
    "# <span class=\"blue\">1. Python - tipuride date, variabile, input"
   ]
  },
  {
   "cell_type": "markdown",
   "id": "eafd7a48",
   "metadata": {},
   "source": [
    "\n",
    "\n",
    "# <span class=\"blue\">1.1. Elemente de limbaj"
   ]
  },
  {
   "cell_type": "markdown",
   "id": "2b4aa802",
   "metadata": {},
   "source": [
    "## <span class=\"trcz\">1.1.1. Introducere"
   ]
  },
  {
   "cell_type": "markdown",
   "id": "377ddb44",
   "metadata": {},
   "source": [
    "### - Tipuri de date - literals vs identificatori;\n",
    "\n",
    "### - Variabile, constante;\n",
    "\n",
    "### - Functii predefinite, Functii definite de programator;\n",
    "\n",
    "### - Instructiuni decizionale, instructiuni repetitive;\n",
    "\n",
    "### - Elemente specific programarii orientate pe obiecte;\n",
    "\n",
    "### - Module;"
   ]
  },
  {
   "cell_type": "markdown",
   "id": "2c76f571",
   "metadata": {},
   "source": [
    "## <span class=\"trcz\">1.1.2. Tipuri de date</span>\n",
    "### - siruri\n",
    "### - numere;\n",
    "### - boolean;\n",
    "### - structuri de date;\n",
    "### - obiecte;"
   ]
  },
  {
   "cell_type": "markdown",
   "id": "80d18f1a",
   "metadata": {},
   "source": [
    "## <span class=\"trcz\">1.1.3. Literals vs identificatori"
   ]
  },
  {
   "cell_type": "markdown",
   "id": "0688174e",
   "metadata": {},
   "source": [
    "### Literals\n",
    "### <span class=\"green\"> - String literals:\t\t\t\t\t   </span>\"Hello World!\"\t\t'Hello World!'\t\n",
    " \n",
    "### <span class=\"green\"> - Numere intregi literals:</span>\t\t7,\t0xff,\t0b1011,\t0o77,  1e9\n",
    "\n",
    "### <span class=\"green\"> - Numere float literals:\t\t</span>     1.57\t1.5e3\t1.5e-3\n",
    " \n",
    "### <span class=\"green\"> - Boolean literals:\t\t\t\t   </span> True, False\n"
   ]
  },
  {
   "cell_type": "markdown",
   "id": "0824e01f",
   "metadata": {},
   "source": [
    "### Identificatori\n",
    "### - Nume date unor elemente de limbaj: variabile, functii, module etc.\n",
    "### - Aceste nume respecta cateva reguli de denumire simple si se scriu ca atare, fara includere intre ghilimele sau apostroafe. \n",
    "### - Astfel vor fi deosebile de string literals."
   ]
  },
  {
   "cell_type": "markdown",
   "id": "7cf2f889",
   "metadata": {},
   "source": [
    "# <span class=\"blue\">1.2. Siruri de caractere (string - str)"
   ]
  },
  {
   "cell_type": "markdown",
   "id": "1ce5108d",
   "metadata": {},
   "source": [
    "### <span class=\"ita\"> <span class=\"green\">Sir de caractere</span> = string = str = secventa de caractere:"
   ]
  },
  {
   "cell_type": "code",
   "execution_count": null,
   "id": "669084ae",
   "metadata": {},
   "outputs": [],
   "source": []
  },
  {
   "cell_type": "markdown",
   "id": "52c68244",
   "metadata": {},
   "source": [
    "### <span class=\"ita\"> <span class=\"green\">Delimitarea sirurilor.</span> Utilizarea ghilimelelor sau apostroafelor?"
   ]
  },
  {
   "cell_type": "code",
   "execution_count": null,
   "id": "13d58802",
   "metadata": {},
   "outputs": [],
   "source": []
  },
  {
   "cell_type": "markdown",
   "id": "09693377",
   "metadata": {},
   "source": [
    "### <span class=\"ita\"> <span class=\"green\">Comentarii pe o linie:</span>"
   ]
  },
  {
   "cell_type": "code",
   "execution_count": null,
   "id": "67bb277a",
   "metadata": {},
   "outputs": [],
   "source": []
  },
  {
   "cell_type": "markdown",
   "id": "dd5f7ee7",
   "metadata": {},
   "source": [
    "### <span class=\"ita\"> <span class=\"green\">Comentarii pe mai multe linii (docstring):</span>"
   ]
  },
  {
   "cell_type": "code",
   "execution_count": null,
   "id": "9113cc2c",
   "metadata": {},
   "outputs": [],
   "source": []
  },
  {
   "cell_type": "markdown",
   "id": "606256dc",
   "metadata": {},
   "source": [
    "### <span class=\"ita\"> <span class=\"green\">Functia <span class=\"red\">print</span>():</span>"
   ]
  },
  {
   "cell_type": "code",
   "execution_count": null,
   "id": "0d90f0f0",
   "metadata": {},
   "outputs": [],
   "source": [
    "# un singur argument string\n"
   ]
  },
  {
   "cell_type": "code",
   "execution_count": null,
   "id": "7ff87ece",
   "metadata": {},
   "outputs": [],
   "source": [
    "# mai multe argumente string\n"
   ]
  },
  {
   "cell_type": "code",
   "execution_count": null,
   "id": "43c79e5b",
   "metadata": {},
   "outputs": [],
   "source": [
    "# argumentele pot include si expresii\n"
   ]
  },
  {
   "cell_type": "markdown",
   "id": "3d962990",
   "metadata": {},
   "source": [
    "### <span class=\"ita\"> <span class=\"green\">Scrierea unei instructiuni pe mai multe linii:</span>"
   ]
  },
  {
   "cell_type": "code",
   "execution_count": null,
   "id": "d3c61ce3",
   "metadata": {},
   "outputs": [],
   "source": []
  },
  {
   "cell_type": "markdown",
   "id": "00b97043",
   "metadata": {},
   "source": [
    "### <span class=\"ita\"> <span class=\"green\">Afisarea exact cum a fost scris stringul:</span>"
   ]
  },
  {
   "cell_type": "code",
   "execution_count": null,
   "id": "1ca3aab3",
   "metadata": {},
   "outputs": [],
   "source": []
  },
  {
   "cell_type": "markdown",
   "id": "395518ac",
   "metadata": {},
   "source": [
    "### <span class=\"ita\"> <span class=\"green\">Concatenarea sirurilor:</span>"
   ]
  },
  {
   "cell_type": "code",
   "execution_count": null,
   "id": "2eed4969",
   "metadata": {},
   "outputs": [],
   "source": []
  },
  {
   "cell_type": "markdown",
   "id": "1a1676a1",
   "metadata": {},
   "source": [
    "### <span class=\"ita\"> <span class=\"green\">Multiplicarea sirurilor:</span>"
   ]
  },
  {
   "cell_type": "code",
   "execution_count": null,
   "id": "a206ddc6",
   "metadata": {},
   "outputs": [],
   "source": []
  },
  {
   "cell_type": "markdown",
   "id": "63fae853",
   "metadata": {},
   "source": [
    "### <span class=\"ita\"> <span class=\"green\">Escape characters:</span>"
   ]
  },
  {
   "cell_type": "code",
   "execution_count": null,
   "id": "7efd746a",
   "metadata": {},
   "outputs": [],
   "source": []
  },
  {
   "cell_type": "markdown",
   "id": "1b222a15",
   "metadata": {},
   "source": [
    "### <span class=\"green\">Functia <span class=\"red\">len</span>():</span>"
   ]
  },
  {
   "cell_type": "code",
   "execution_count": null,
   "id": "540d0e81",
   "metadata": {},
   "outputs": [],
   "source": []
  },
  {
   "cell_type": "markdown",
   "id": "a6b3164b",
   "metadata": {},
   "source": [
    "\n",
    "\n",
    "# <span class=\"blue\">1.3. Numere (int, float)"
   ]
  },
  {
   "cell_type": "code",
   "execution_count": null,
   "id": "4bc32f76",
   "metadata": {},
   "outputs": [],
   "source": []
  },
  {
   "cell_type": "markdown",
   "id": "edd9bc75",
   "metadata": {},
   "source": [
    "### <span class=\"ita\"> <span class=\"green\">Adunare, scadere, inmultire, impartire, modulo:"
   ]
  },
  {
   "cell_type": "code",
   "execution_count": null,
   "id": "9aeb66b6",
   "metadata": {},
   "outputs": [],
   "source": []
  },
  {
   "cell_type": "markdown",
   "id": "5e9bc91d",
   "metadata": {},
   "source": [
    "### <span class=\"ita\"> <span class=\"green\">Ridicarea la putere:"
   ]
  },
  {
   "cell_type": "code",
   "execution_count": null,
   "id": "903dfafd",
   "metadata": {},
   "outputs": [],
   "source": []
  },
  {
   "cell_type": "markdown",
   "id": "6958b116",
   "metadata": {},
   "source": [
    "### <span class=\"ita green\">Operatiuni multiple: "
   ]
  },
  {
   "cell_type": "code",
   "execution_count": null,
   "id": "a79f66d4",
   "metadata": {},
   "outputs": [],
   "source": []
  },
  {
   "cell_type": "markdown",
   "id": "33757c66",
   "metadata": {},
   "source": [
    "### <span class=\"ita green\">Precedenta operatorilor:</span>\n",
    "### - paranteze rotunde\n",
    "### - inmultire, impartire, modulo\n",
    "### - adunare, scadere\n",
    "### - de la stanga la dreapta"
   ]
  },
  {
   "cell_type": "code",
   "execution_count": null,
   "id": "246b039a",
   "metadata": {},
   "outputs": [],
   "source": []
  },
  {
   "cell_type": "markdown",
   "id": "903a991f",
   "metadata": {},
   "source": [
    "### <span class=\"ita green\">Conversia in alte baze de numeratie (<span class=\"red\">hex</span>(), <span class=\"red\">oct</span>(), <span class=\"red\">bin</span>()):"
   ]
  },
  {
   "cell_type": "code",
   "execution_count": null,
   "id": "bc7b162f",
   "metadata": {},
   "outputs": [],
   "source": []
  },
  {
   "cell_type": "markdown",
   "id": "cc1e764c",
   "metadata": {},
   "source": [
    "### <span class=\"ita green\">Un string nu poate fi numar! Conversia numar la string si invers:"
   ]
  },
  {
   "cell_type": "code",
   "execution_count": null,
   "id": "088d31e6",
   "metadata": {},
   "outputs": [],
   "source": []
  },
  {
   "cell_type": "markdown",
   "id": "fa3e25ee",
   "metadata": {},
   "source": [
    "\n",
    "\n",
    "# <span class=\"blue\">1.4. Variabile"
   ]
  },
  {
   "cell_type": "markdown",
   "id": "e27fe5b7",
   "metadata": {},
   "source": [
    "### <span class=\"ita green\">Definitie, nume, atribuire:"
   ]
  },
  {
   "cell_type": "code",
   "execution_count": null,
   "id": "691f7d7f",
   "metadata": {},
   "outputs": [],
   "source": []
  },
  {
   "cell_type": "markdown",
   "id": "c4ba8996",
   "metadata": {},
   "source": [
    "### <span class=\"ita green\">Cuvintele rezervate (keywords) :\n",
    "\n",
    "### <span class=\"orange\">and, as, assert, break, class, continue, def, del, elif, else, except, exec, False, ﬁnally, for, from, global, if, import, in, is, lambda, nonlocal, not, or, pass, print, raise, return, True, try, yield, while, with\n"
   ]
  },
  {
   "cell_type": "code",
   "execution_count": null,
   "id": "70983187",
   "metadata": {},
   "outputs": [],
   "source": []
  },
  {
   "cell_type": "markdown",
   "id": "ac2627fc",
   "metadata": {},
   "source": [
    "### <span class=\"ita green\">Atribuire printr-o expresie:"
   ]
  },
  {
   "cell_type": "code",
   "execution_count": null,
   "id": "89b05a6e",
   "metadata": {},
   "outputs": [],
   "source": []
  },
  {
   "cell_type": "markdown",
   "id": "46b99ccd",
   "metadata": {},
   "source": [
    "### <span class=\"ita green\">Atribuire multipla:"
   ]
  },
  {
   "cell_type": "code",
   "execution_count": null,
   "id": "ade0eea8",
   "metadata": {},
   "outputs": [],
   "source": []
  },
  {
   "cell_type": "markdown",
   "id": "67008383",
   "metadata": {},
   "source": [
    "### <span class=\"ita green\">Augmentation:"
   ]
  },
  {
   "cell_type": "code",
   "execution_count": null,
   "id": "3c88342c",
   "metadata": {},
   "outputs": [],
   "source": []
  },
  {
   "cell_type": "markdown",
   "id": "4b531fa7",
   "metadata": {},
   "source": [
    "### <span class=\"ita green\">Utilizare variabile intr-un string:"
   ]
  },
  {
   "cell_type": "code",
   "execution_count": null,
   "id": "490b878e",
   "metadata": {},
   "outputs": [],
   "source": [
    "# print cu mai multe expresii mixte (str, int, float)\n"
   ]
  },
  {
   "cell_type": "code",
   "execution_count": null,
   "id": "8ecb1c10",
   "metadata": {},
   "outputs": [],
   "source": [
    "# print c stringuri si transformare la string cu functia str()\n"
   ]
  },
  {
   "cell_type": "code",
   "execution_count": null,
   "id": "49a68c7f",
   "metadata": {},
   "outputs": [],
   "source": [
    "# formatare cu \"fprint\"\n"
   ]
  },
  {
   "cell_type": "markdown",
   "id": "2a99d040",
   "metadata": {},
   "source": [
    "# <span class=\"blue\">1.5. Functia <span class=\"red\">input</span>():"
   ]
  },
  {
   "cell_type": "code",
   "execution_count": null,
   "id": "5d410d23",
   "metadata": {},
   "outputs": [],
   "source": []
  },
  {
   "cell_type": "markdown",
   "id": "189c32fc",
   "metadata": {},
   "source": [
    "# <span class=\"blue\">1.6. Boolean <span class=\"red\">True</span>, <span class=\"red\">False</span>:"
   ]
  },
  {
   "cell_type": "code",
   "execution_count": null,
   "id": "31b1ba37",
   "metadata": {},
   "outputs": [],
   "source": []
  },
  {
   "cell_type": "markdown",
   "id": "613e9d16",
   "metadata": {},
   "source": [
    "# <span class=\"blue\">1.7. Exercitii"
   ]
  },
  {
   "cell_type": "code",
   "execution_count": null,
   "id": "5b1c92ea",
   "metadata": {},
   "outputs": [],
   "source": [
    "\"\"\"1.  Scrie o instructiune print care sa efectueze operatiunile: (7 + 3)(2)\"\"\" #\n",
    "# scrie codul aici:\n"
   ]
  },
  {
   "cell_type": "code",
   "execution_count": null,
   "id": "9259fb6f",
   "metadata": {},
   "outputs": [],
   "source": [
    "\"\"\"2.  Suma numerelor de la 1 la n este data de expresia:  n(n+1)/2 . Scrie un program in care\n",
    "n va fi introdus de la tastatura cu input() si va afisa (print) suma numerelor de la 1 la n\"\"\"\n",
    "# scrie codul aici:\n"
   ]
  },
  {
   "cell_type": "code",
   "execution_count": null,
   "id": "c40181d7",
   "metadata": {},
   "outputs": [],
   "source": [
    "\"\"\"3.  Aria cercului este: pi * raza². Scrie un program in care raza  va fi introdusa de la \n",
    "tastatura cu input() si va afisa aria cercului. Atentie, pentru a putea utiliza constanta pi\n",
    "rulati mai intai linia de cod: from math import pi, scrisa deja mai jos\"\"\"\n",
    "from math import pi\n"
   ]
  },
  {
   "cell_type": "code",
   "execution_count": null,
   "id": "b2e773de",
   "metadata": {},
   "outputs": [],
   "source": [
    "\"\"\"1.  Scrieti un script cu ajutorul caruia sa completati adresa postala asa cum apare pe plic,\n",
    "      pe linii separate, prin introducerea elementelor de la tastatura, astfel:\n",
    "       destinatar \n",
    "       strada, numar \n",
    "       oras, judet \n",
    "       cod postal \n",
    "    Utilizati variabile pentru fiecare componenta a adresei. Aliniati-le cu '\\n' si '\\t'\"\"\" #\n"
   ]
  },
  {
   "cell_type": "code",
   "execution_count": null,
   "id": "67c92dc9",
   "metadata": {},
   "outputs": [],
   "source": [
    "\"\"\"2.  Scrieti un program care sa primeasca de la tastatura dimensinile catetelor 'c1' si 'c2'.\n",
    "    Ipotenuza este egala cu radical din suma patratelor catetelor. \n",
    "    Inaltimea pe ipotenuza este produsul catetelor supra ipotenuza.\n",
    "    Programul va afisa: dimensiunea catetelor, a ipotenuzei si a inaltimii.\n",
    "    \"\"\"\n",
    "from math import sqrt, pow, ceil  \n"
   ]
  },
  {
   "cell_type": "code",
   "execution_count": null,
   "id": "a8cd08af",
   "metadata": {},
   "outputs": [],
   "source": [
    "\"\"\"3.  Scrieti un program logistic avand in vedere urmatoarele:\n",
    "    - aprovizionati trei produse:\n",
    "        - alune, 125g / pachet, 48 pachete intr-o cutie, 32 cutii / metru cub;\n",
    "        - biscuiti, 150g / pachet, 36 pachete intr-o cutie, 36 cutii / metru cub;\n",
    "        - cafea, 200g / pachet, 24 pachete intr-o cutie, 40 cutii / metru cub;\n",
    "    - introduceti de la tastatura cate pachete aprovizionati din fiecare(8000 alune, \n",
    "    10000 biscuiti, 6000 cafea);\n",
    "    - printati cat cantaresc in total, cate cutii sunt necesare si cati metri cubi ocupa; \n",
    "    Folositi variabile, astfel incat daca modificam parametrii sa nu modificam programul\n",
    "    (Rezultate: 3700 Kg, 694.44 cutii, 19.17 mc)\"\"\"\n"
   ]
  }
 ],
 "metadata": {
  "kernelspec": {
   "display_name": "Python 3 (ipykernel)",
   "language": "python",
   "name": "python3"
  },
  "language_info": {
   "codemirror_mode": {
    "name": "ipython",
    "version": 3
   },
   "file_extension": ".py",
   "mimetype": "text/x-python",
   "name": "python",
   "nbconvert_exporter": "python",
   "pygments_lexer": "ipython3",
   "version": "3.9.7"
  }
 },
 "nbformat": 4,
 "nbformat_minor": 5
}
