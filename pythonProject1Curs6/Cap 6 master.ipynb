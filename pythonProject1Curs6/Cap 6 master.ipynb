{
 "cells": [
  {
   "cell_type": "code",
   "execution_count": 3,
   "id": "cd43793e",
   "metadata": {},
   "outputs": [
    {
     "data": {
      "text/html": [
       "\n",
       "<style>\n",
       "     .blue {\n",
       "         color: blue;\n",
       "     }\n",
       "     \n",
       "     .red {\n",
       "         color: red;\n",
       "     }\n",
       "\n",
       "     .trcz {\n",
       "         color:#48CAE4;\n",
       "     }\n",
       "\n",
       "     .trcz a {\n",
       "         color: inherit;\n",
       "     }\n",
       "\n",
       "     .green {\n",
       "         color: green;\n",
       "     }\n",
       "\n",
       "     .ita {\n",
       "         font-style: italic;\n",
       "     }\n",
       "     \n",
       "     .vio {\n",
       "        font-style: violet;\n",
       "     }\n",
       "\n",
       "\n",
       "</style>\n"
      ],
      "text/plain": [
       "<IPython.core.display.HTML object>"
      ]
     },
     "execution_count": 3,
     "metadata": {},
     "output_type": "execute_result"
    }
   ],
   "source": [
    "from ipythoncss import HTML, STILURI\n",
    "HTML(STILURI)"
   ]
  },
  {
   "cell_type": "code",
   "execution_count": 2,
   "id": "9c1cb478",
   "metadata": {},
   "outputs": [],
   "source": [
    "import sys\n",
    "sys.path\n",
    "sys.path.extend(['C:\\\\Users\\\\paul\\\\OneDrive\\\\Documents\\\\__PyThOn'\n",
    "            'C:\\\\Users\\\\paul\\\\OneDrive\\\\Documents\\\\__PyThOn\\\\0 PyP\\\\_module',\n",
    "            'C:\\\\Users\\\\paul\\\\OneDrive\\\\Documents\\\\__PyThOn\\\\venv\\\\Lib\\\\site-packages'])"
   ]
  },
  {
   "cell_type": "markdown",
   "id": "5d7dc591",
   "metadata": {},
   "source": [
    "# <span class=\"blue\"> 6. OOP Advanced"
   ]
  },
  {
   "cell_type": "markdown",
   "id": "0c3bf16b",
   "metadata": {},
   "source": [
    "## <span class=\"trcz\"> 6.1. Variabila de clasa (statica)"
   ]
  },
  {
   "cell_type": "markdown",
   "id": "0d3ef0a8",
   "metadata": {},
   "source": [
    "### Variabila este creata in afara unei metode. Poate fi accesata prin apelarea : \n",
    "        NumeClasa.numeVariabila;\n",
    "        numeObiect.numeVariabila;\n",
    "\n",
    "### Aceast procedeu ne permite sa cream un atribut care sa nu fie afectat de metode (atribuit unei instante anume) ci sa fie atribuit tuturor instantelor\n",
    "\n",
    "### Atributul va fi creat intr-un singur exemplar, spre deosebire de cele date de metode, care au cate un exemplar pentru fiecare instanta \t\t\t\t\t"
   ]
  },
  {
   "cell_type": "code",
   "execution_count": null,
   "id": "96ecc629",
   "metadata": {},
   "outputs": [],
   "source": [
    "class Demo:\n",
    "    \"\"\"Aceasta clasa are variabile de clasa\"\"\"\n",
    "\n",
    "    nr_magic = 7\n",
    "    nr_instante = 0  # variabila de clasa (statica). Numara instantele create\n",
    "\n",
    "    def __init__(self):\n",
    "        Demo.nr_instante += 1  # apelare! nume_clasa.variabila"
   ]
  },
  {
   "cell_type": "code",
   "execution_count": null,
   "id": "b42af4f3",
   "metadata": {},
   "outputs": [],
   "source": [
    "obj1 = Demo()\n",
    "\n",
    "print(obj1.__dict__)\n",
    "\n",
    "# apelarea variabilei se poate face prin nume clasa sau nume instanta\n",
    "print(Demo.nr_magic)\n",
    "print(Demo.nr_instante)\n",
    "print(obj1.nr_magic)\n",
    "print(obj1.nr_instante)"
   ]
  },
  {
   "cell_type": "markdown",
   "id": "d8c1b2ef",
   "metadata": {},
   "source": [
    "## <span class=\"trcz\"> 6.2. Variabila de clasa vs atribut instanta"
   ]
  },
  {
   "cell_type": "markdown",
   "id": "53b87360",
   "metadata": {},
   "source": [
    "### Daca avem doua atribute cu acelasi nume, unul de clasa si unul dat de o metoda, atributul dat de o metoda are prioritate\n",
    "\n",
    "### Consecinta este ca obiectul nu va mai avea access la atributul(variabila) de clasa\n",
    "\n",
    "### Daca vrem ca o metoda sa atribuie/modifice un atribut al instantei utilizam self\n",
    "\n",
    "### Daca vrem ca metoda sa modifice variabila de clasa utilizam numele clasei"
   ]
  },
  {
   "cell_type": "code",
   "execution_count": null,
   "id": "80bc61a9",
   "metadata": {},
   "outputs": [],
   "source": [
    "class Clasa:\n",
    "    \"\"\"Atribut clasa / atribut obiect\"\"\"\n",
    "\n",
    "    atribut1 = 77\n",
    "\n",
    "    def __init__(self, atribut2=10):\n",
    "        \"\"\"atribut propriu\"\"\"\n",
    "        self.atribut2 = atribut2\n",
    "        \n",
    "    def modifica_atribut_clasa(self, valoare_noua):\n",
    "        \"\"\"utilizand nume clasa modifica atributul de clasa\"\"\"\n",
    "        Clasa.atribut1 = valoare_noua\n",
    "\n",
    "    def atribuie_atribut_propriu(self, valoare_noua):\n",
    "        \"\"\"utilizand self genereaza un atribut propriu, nu modifica atributul de clasa\"\"\"\n",
    "        self.atribut1 = valoare_noua\n",
    "\n",
    "    def modif_atribut_instanta(self, noua_val):\n",
    "        \"\"\"modifica (atribuie) atributul propriu\"\"\"\n",
    "        self.atribut2 = noua_val"
   ]
  },
  {
   "cell_type": "code",
   "execution_count": null,
   "id": "70e9a154",
   "metadata": {},
   "outputs": [],
   "source": [
    "# definim un obiect cu valoarea default pentru atribut_instanta\n",
    "obj1 = Clasa()\n",
    "print(obj1.atribut2)\n",
    "print(obj1.atribut1)\n",
    "print(obj1.__dict__)"
   ]
  },
  {
   "cell_type": "code",
   "execution_count": null,
   "id": "ef5aa72d",
   "metadata": {},
   "outputs": [],
   "source": [
    "# aplicam metodele si observam schimbarile\n"
   ]
  },
  {
   "cell_type": "markdown",
   "id": "51878b0b",
   "metadata": {},
   "source": [
    "## <span class=\"trcz\"> 6.3. Validarea datelor de intrare"
   ]
  },
  {
   "cell_type": "markdown",
   "id": "acdc5345",
   "metadata": {},
   "source": [
    "### Verificam tipul de date\n",
    "\n",
    "### Verificam daca datele de intrare indeplinesc anumite criterii, cum ar fi urmatoarele:\n",
    "#### - plaja de valori\n",
    "#### - multimea de valori\n",
    "#### - alti parametri specifici"
   ]
  },
  {
   "cell_type": "code",
   "execution_count": null,
   "id": "d10d65b7",
   "metadata": {},
   "outputs": [],
   "source": [
    "class People:\n",
    "    \"\"\"Atribut clasa / atribut obiect - continuare\"\"\"\n",
    "    an_studiu = {'Anul 1', 'Anul 2', 'Anul 3', 'Anul 4', 'Anul 5'}  # ani de studiu\n",
    "    facultate = {'Inginerie', 'Drept', 'Finante', 'Geografie'}  # specializari\n",
    "\n",
    "    def __init__(self, nume, anul, facultatea):\n",
    "        if anul in People.an_studiu:\n",
    "            self.anul = anul\n",
    "        else:\n",
    "            raise NameError('Anul de studii este incorect')\n",
    "\n",
    "        if facultatea in People.facultate:\n",
    "            self.studii = facultatea\n",
    "        else:\n",
    "            raise NameError('Specialitate incorecta')\n",
    "\n",
    "        if nume.isalpha() and len(nume) > 1:\n",
    "            self.nume = nume\n",
    "        else:\n",
    "            self.nume = ''\n",
    "\n",
    "    def __str__(self):\n",
    "        result = self.nume + \" este in \" + self.anul + ' la ' + self.studii + '.'\n",
    "        return result"
   ]
  },
  {
   "cell_type": "code",
   "execution_count": null,
   "id": "1cd39ceb",
   "metadata": {},
   "outputs": [],
   "source": [
    "# date valide\n",
    "Ioana = People('Ioana', 'Anul 2', 'Drept')\n",
    "print(Ioana)"
   ]
  },
  {
   "cell_type": "code",
   "execution_count": null,
   "id": "59e8e736",
   "metadata": {},
   "outputs": [],
   "source": [
    "# date invalide\n"
   ]
  },
  {
   "cell_type": "markdown",
   "id": "279bc2a7",
   "metadata": {},
   "source": [
    "## <span class=\"trcz\"> 6.4. Variabila statica - utilizare"
   ]
  },
  {
   "cell_type": "markdown",
   "id": "896246e3",
   "metadata": {},
   "source": [
    "### In interiorul clasei putem utiliza:\n",
    "#### - <span class=\"red\">self</span>.nume_atribut\n",
    "#### - <span class=\"red\">NumeClasa</span>.nume_atribut\n",
    "\n",
    "### In exteriorul clasei (global) putem utiliza:\n",
    "#### - <span class=\"red\">NumeClasa</span>.nume_atribut\n",
    "#### - <span class=\"red\">nume_obiect</span>.nume_atribut"
   ]
  },
  {
   "cell_type": "code",
   "execution_count": null,
   "id": "5d65aa71",
   "metadata": {},
   "outputs": [],
   "source": [
    "class Auto:\n",
    "    \"\"\"Atribut clasa / atribut obiect - continuare\"\"\"\n",
    "    \n",
    "    culoare = 'Alb'\n",
    "    model = 'Berlina'\n",
    "\n",
    "    # in interiorul clasei putem folosi atat self cat si numele clasei\n",
    "    def __str__(self):\n",
    "        result = 'Autorurismul are culoarea ' + self.culoare + ', si modelul ' + Auto.model\n",
    "        return result"
   ]
  },
  {
   "cell_type": "code",
   "execution_count": null,
   "id": "8b9e06ca",
   "metadata": {},
   "outputs": [],
   "source": [
    "# instantiem\n",
    "masina_mea = Auto()\n",
    "print(masina_mea)"
   ]
  },
  {
   "cell_type": "code",
   "execution_count": null,
   "id": "64fa7b9f",
   "metadata": {},
   "outputs": [],
   "source": [
    "# in exterior putem apela VS atat cu NumeClasa.VS cat si cu NumeInstanta.VS\n",
    "print(Auto.culoare )\n",
    "print(masina_mea.culoare)\n",
    "print(masina_mea.__dict__)"
   ]
  },
  {
   "cell_type": "markdown",
   "id": "08029ddd",
   "metadata": {},
   "source": [
    "## <span class=\"trcz\"> 6.5. Variabila globala, globals() "
   ]
  },
  {
   "cell_type": "markdown",
   "id": "1dffbd2b",
   "metadata": {},
   "source": [
    "### <span class=\"red\">globals</span>() – dictionar care contine variabile din namespace-ul global\n",
    "\n",
    "### consecinta - putem defini variabile, inclusiv instante ale claselor, direct in globals()\n",
    "\n",
    "### putem, de asemenea, accesa valoarea variabilelor sau a atributelor instantelor direct in globals()"
   ]
  },
  {
   "cell_type": "code",
   "execution_count": null,
   "id": "87a2706e",
   "metadata": {},
   "outputs": [],
   "source": [
    "a = 100                     # Creare VG\n",
    "b = 'caine'\n",
    "c = ['a', 'x', 'ax']\n",
    "\n",
    "globals()                   # DICT cu VG la un moment dat"
   ]
  },
  {
   "cell_type": "code",
   "execution_count": null,
   "id": "5f293923",
   "metadata": {},
   "outputs": [],
   "source": [
    "if 'c' in globals():\n",
    "    print(c)                # verifica existenta VG"
   ]
  },
  {
   "cell_type": "code",
   "execution_count": null,
   "id": "65492ad1",
   "metadata": {},
   "outputs": [],
   "source": [
    "# modificare valoare variabila direct in globals()\n",
    "print('Inainte:', b)\n",
    "globals()['b'] = 'pisica'  # atribuire valoare valoare noua VG direct in globals()\n",
    "print('Dupa:', b)"
   ]
  },
  {
   "cell_type": "code",
   "execution_count": null,
   "id": "e825ed3c",
   "metadata": {},
   "outputs": [],
   "source": [
    "# definire variabila direct in globals()\n",
    "globals()['animal'] = 'maimuta'   \n",
    "print(animal)"
   ]
  },
  {
   "cell_type": "code",
   "execution_count": null,
   "id": "fb4941f2",
   "metadata": {},
   "outputs": [],
   "source": [
    "# o instanta a unui obiect creata direct in globals()\n",
    "globals()['Dacia'] = Auto()\n",
    "print(Dacia)\n",
    "print(Dacia.culoare)"
   ]
  },
  {
   "cell_type": "code",
   "execution_count": null,
   "id": "05e2de56",
   "metadata": {},
   "outputs": [],
   "source": [
    "# eval()\n",
    "eval('Dacia.culoare')"
   ]
  },
  {
   "cell_type": "markdown",
   "id": "76648028",
   "metadata": {},
   "source": [
    "## <span class=\"trcz\"> 6.6. Recursivitatea intr-o clasa"
   ]
  },
  {
   "cell_type": "markdown",
   "id": "787172c9",
   "metadata": {},
   "source": [
    "### Intr-o functie recursivitatea se rezuma la apelarea aceleiasi functii fara sa genereze o eroare\n",
    "\n",
    "### Intr-o clasa recursivitatea presupune instantierea in mod recursiv. Aceasta se pune in practica printr-o metoda a clasei"
   ]
  },
  {
   "cell_type": "code",
   "execution_count": null,
   "id": "9d33b09c",
   "metadata": {},
   "outputs": [],
   "source": [
    "from random import randint  # importam functia randint care returneaza un numar intreg aleator dint-un interval\n",
    "\n",
    "class Banca:\n",
    "    \"\"\"Institutie financiara\"\"\"\n",
    "    nr_conturi = 0                 # numara cate conturi saunt create la un moment dat\n",
    "    conturi = {}                   # cheia client, valoarea o lista cu conturi\n",
    "    valute = {'RON', 'EUR', 'USD', 'GBP', 'CHF'}\n",
    "\n",
    "    def __init__(self, client, nume_cont):\n",
    "        \"\"\"Numele contului va fi de forma: valuta + 10 cifre,\n",
    "            valuta fiind una din setul de valori\"\"\"  #\n",
    "        if nume_cont[0: 3] in Banca.valute:\n",
    "            if nume_cont[3:].isdigit() and (len(nume_cont) == 13):\n",
    "                conturi = []\n",
    "                for i in Banca.conturi.values():\n",
    "                    conturi +=i\n",
    "                if not nume_cont in conturi:\n",
    "                    self.nume_cont = nume_cont\n",
    "                else:\n",
    "                    raise NameError('Nume cont existent!')\n",
    "            else:\n",
    "                raise NameError('Nu contine 10 cifre!')\n",
    "        else:\n",
    "            raise NameError('Valuta inexistenta!')\n",
    "        self.client = client\n",
    "        self.sold = 0\n",
    "        Banca.nr_conturi += 1\n",
    "        if client in Banca.conturi:\n",
    "            Banca.conturi[client] += [nume_cont]\n",
    "        else:\n",
    "            Banca.conturi[client] = [nume_cont]\n",
    "\n",
    "    @classmethod                   # o metoda a clasei, poate fi apelata fara sa existe o instanta\n",
    "    def creez_cont(cls, Cate, valuta, *persoane):\n",
    "        \"\"\"\n",
    "        metoda care poate crea multiple instante apeland clasa\n",
    "        :param Cate: cate conturi vor fi create\n",
    "        :param valuta: poate fi una din setul de valori Banca.valute\n",
    "        :return:\n",
    "        \"\"\"\n",
    "        for i in range(Cate):\n",
    "            persoana = persoane[i]\n",
    "            nume_cont = randint(0, 10000000000)\n",
    "            nume_cont = valuta + '%010d' % nume_cont\n",
    "            globals()[persoana] = Banca(persoana, nume_cont)"
   ]
  },
  {
   "cell_type": "code",
   "execution_count": null,
   "id": "a41c5e82",
   "metadata": {},
   "outputs": [],
   "source": [
    "# instanta obisnuita, creare cont\n",
    "Nico = Banca('Nico', 'RON1111111111')  "
   ]
  },
  {
   "cell_type": "code",
   "execution_count": null,
   "id": "bf2289e0",
   "metadata": {},
   "outputs": [],
   "source": [
    "print(Banca.nr_conturi)\n",
    "print(Banca.conturi)\n",
    "print(Nico.nr_conturi)\n",
    "print(Nico.conturi)\n",
    "print(Nico.__dict__)"
   ]
  },
  {
   "cell_type": "code",
   "execution_count": null,
   "id": "dc12f052",
   "metadata": {},
   "outputs": [],
   "source": [
    "# instantiere recursiva - apelarea unei metode a clasei prin intermediul clasei\n",
    "lista_persoane = ('Ana', 'Lia', 'Stefan', 'Mary')\n",
    "Banca.creez_cont(len(lista_persoane), 'EUR', *lista_persoane)"
   ]
  },
  {
   "cell_type": "code",
   "execution_count": null,
   "id": "3fd03078",
   "metadata": {},
   "outputs": [],
   "source": [
    "print(Banca.nr_conturi)\n",
    "print(Banca.conturi)\n",
    "print(Stefan.nr_conturi)\n",
    "print(Stefan.conturi)\n",
    "print(Stefan.__dict__)"
   ]
  },
  {
   "cell_type": "code",
   "execution_count": null,
   "id": "3cda3a56",
   "metadata": {},
   "outputs": [],
   "source": [
    "# instantiere recursiva - apelarea unei metode a clasei prin intermediul unui obiect\n",
    "Stefan.creez_cont(2, 'GBP', 'Emil', 'Ioana', 'Ana')"
   ]
  },
  {
   "cell_type": "code",
   "execution_count": null,
   "id": "507d933a",
   "metadata": {},
   "outputs": [],
   "source": [
    "print(Banca.nr_conturi)\n",
    "print(Banca.conturi)\n",
    "print(Ioana.nr_conturi)\n",
    "print(Ioana.conturi)\n",
    "print(Ioana.__dict__)"
   ]
  },
  {
   "cell_type": "markdown",
   "id": "335f25c8",
   "metadata": {},
   "source": [
    "## <span class=\"trcz\"> 6.7. Interactiunea obiectelor"
   ]
  },
  {
   "cell_type": "markdown",
   "id": "1489768c",
   "metadata": {},
   "source": [
    "### Obiectele apartin clasei prin tipul de date dat de clasa\n",
    "\n",
    "### Obiectele sunt disponibile global\n",
    "\n",
    "### Obiectele ineractioneaza pentru realizarea scopului aplicatiei"
   ]
  },
  {
   "cell_type": "code",
   "execution_count": null,
   "id": "39906201",
   "metadata": {},
   "outputs": [],
   "source": [
    "class A:\n",
    "\n",
    "    def aduna(self, *diferiti_parametri):\n",
    "        suma = sum(diferiti_parametri)\n",
    "        return suma\n",
    "\n",
    "class B:\n",
    "\n",
    "    def inmulteste(self, x, y):\n",
    "        return x * y"
   ]
  },
  {
   "cell_type": "code",
   "execution_count": null,
   "id": "2efdf0df",
   "metadata": {},
   "outputs": [],
   "source": [
    "a = A()\n",
    "b = B()\n",
    "\n",
    "print(b.inmulteste(a.aduna(3, 7), b.inmulteste(3, 2)))\n",
    "\n",
    "print(a.aduna(b.inmulteste(5, 3), 7, 3))"
   ]
  },
  {
   "cell_type": "code",
   "execution_count": null,
   "id": "37e441e9",
   "metadata": {},
   "outputs": [],
   "source": [
    "class Persoana:\n",
    "    \"\"\"Clasa persoana\"\"\"\n",
    "\n",
    "    def __init__(self, nume, prenume):\n",
    "        \"\"\"Atribute persoana\"\"\"\n",
    "        self.nume = nume\n",
    "        self.prenume = prenume"
   ]
  },
  {
   "cell_type": "code",
   "execution_count": null,
   "id": "bbb8fcbb",
   "metadata": {},
   "outputs": [],
   "source": [
    "# are director cu tipul de date Persoana\n",
    "class Firma:\n",
    "    \"\"\"Clasa firma\"\"\"\n",
    "\n",
    "    def __init__(self, nume, director: Persoana):\n",
    "        \"\"\"Atribute firma\n",
    "        Diectorul este un obiect de tip persoana\n",
    "        \"\"\"\n",
    "        self.nume = nume\n",
    "        self.director = director"
   ]
  },
  {
   "cell_type": "code",
   "execution_count": null,
   "id": "8c54c155",
   "metadata": {},
   "outputs": [],
   "source": [
    "cristina = Persoana('Dobrin', 'Cristina')\n",
    "alfa = Firma('Alfa', cristina)"
   ]
  },
  {
   "cell_type": "code",
   "execution_count": null,
   "id": "00b64847",
   "metadata": {},
   "outputs": [],
   "source": [
    "print(alfa.nume)\n",
    "print(alfa.director.nume)\n",
    "print(alfa.director.prenume)\n",
    "print(alfa.__dict__)\n",
    "print(alfa.director.__dict__)"
   ]
  },
  {
   "cell_type": "markdown",
   "id": "8b21b3f1",
   "metadata": {},
   "source": [
    "## <span class=\"trcz\"> 6.8. Incapsularea - caracteristici"
   ]
  },
  {
   "cell_type": "markdown",
   "id": "dd3090c5",
   "metadata": {},
   "source": [
    "### Contribuie la introducerea corecta a datelor in instante (valori atribute)\n",
    "\n",
    "### Datele trebuie accesate (modificate) prin intermediul metodelor\n",
    "\n",
    "### Reprezentarea interna a obiectelor nu poate fi vazuta din exterior\n",
    "\n",
    "### Datele trebuie validate, sa ne asiguram ca nu sunt modificate prin interventii externe. Acces de tip getters /setters\n",
    "\n",
    "### Pentru a realiza incapsularea putem utiliza diferite instrumente:\n",
    "#### - Variabile si metode private\n",
    "#### - Metode speciale\n",
    "#### - Decoratori"
   ]
  },
  {
   "cell_type": "code",
   "execution_count": null,
   "id": "2bff2ee0",
   "metadata": {},
   "outputs": [],
   "source": [
    "class Masina:\n",
    "    \"\"\"Testam metoda privata si atributul privat\"\"\"\n",
    "\n",
    "    def cul_pub(self):  # metoda publica\n",
    "        \"\"\"O metoda publica poate avea argumente publice si private\"\"\"\n",
    "        self.culoare_public = 'publica'  # argument public - vizibil\n",
    "        self.__culoare_privata = 'privata'  # argument privat - nu va fi vizibil\n",
    "\n",
    "    def listeaza_culoare(self):\n",
    "        \"\"\"O metoda publica poate acceasa si argumente private\"\"\"\n",
    "        print(self.__culoare_privata)\n",
    "\n",
    "    def __listeazaCuloare(self):  # metoda privata, nu poate fi accesata de obiect direct\n",
    "        \"\"\"O metoda privata poate avea argumente publice si private\"\"\"\n",
    "        print(self.culoare_public)  # argument public\n",
    "        print(self.__culoare_privata)  # argument privat\n",
    "\n",
    "    def apeleaza(self):\n",
    "        \"\"\"O metoda publica poate accesa una privata\"\"\"\n",
    "        self.__listeazaCuloare()"
   ]
  },
  {
   "cell_type": "code",
   "execution_count": null,
   "id": "5c44b4ab",
   "metadata": {},
   "outputs": [],
   "source": [
    "# instantiere\n",
    "obiect_1 = Masina()\n",
    "print(obiect_1.__dict__)"
   ]
  },
  {
   "cell_type": "code",
   "execution_count": null,
   "id": "083fd231",
   "metadata": {},
   "outputs": [],
   "source": [
    "# Apelam metoda cul_pub\n",
    "obiect_1.cul_pub()\n",
    "\n",
    "print(obiect_1.__dict__)\n",
    "print(obiect_1.culoare_public)\n",
    "print(obiect_1.__culoare_privata)        # atributul privat nu este accesibil direct"
   ]
  },
  {
   "cell_type": "code",
   "execution_count": null,
   "id": "082c8342",
   "metadata": {},
   "outputs": [],
   "source": [
    "# Apelam metoda listeaza_culoare\n",
    "obiect_1.listeaza_culoare()              # atributul privat este accesibil prin intermediul metodei publice"
   ]
  },
  {
   "cell_type": "code",
   "execution_count": null,
   "id": "7f478911",
   "metadata": {},
   "outputs": [],
   "source": [
    "# metoda publica nu este accesibila direct\n",
    "obiect_1.__listeazaCuloare()"
   ]
  },
  {
   "cell_type": "code",
   "execution_count": null,
   "id": "b0b4b215",
   "metadata": {},
   "outputs": [],
   "source": [
    "# metoda privata accesata printr-o metoda publica\n",
    "obiect_1.apeleaza()"
   ]
  },
  {
   "cell_type": "markdown",
   "id": "fc3f1871",
   "metadata": {},
   "source": [
    "## <span class=\"trcz\"> 6.9. Mostenirea  - caracteristici"
   ]
  },
  {
   "cell_type": "markdown",
   "id": "746bb291",
   "metadata": {},
   "source": [
    "### Clasa de baza/Superclasa - Clasa derivate/Subclasa\n",
    "\n",
    "### Atributele si metodele din superclasa sunt mostenite in subclasa\n",
    "\n",
    "### Superclasa nu mosteneste nimic de la Subclasa \n",
    "\n",
    "### Poate exista o ierarhie de mostenire si mostenire multipla\n",
    "\n",
    "### Si metoda __init__ se poate mosteni ierarhic\n",
    "\n",
    "### Obiectele (instantele) nu se mostenesc\n",
    "\n",
    "### Ierarhia de cautare atribut: metoda, clasa proprie, clase mostenite\n",
    "\n",
    "### <span class=\"red\">issubclass</span>(sub, sup) - verifica daca subclasa apartine \tsuperclasei\n",
    "\n",
    "### <span class=\"red\">isinstance</span>(obj, Class) - verifica daca instanta apartine clasei "
   ]
  },
  {
   "cell_type": "code",
   "execution_count": null,
   "id": "9f8a2bfe",
   "metadata": {},
   "outputs": [],
   "source": [
    "# superclasa\n",
    "class Banca: \n",
    "    \"\"\"Institutie financiara\"\"\"\n",
    "\n",
    "    nr_conturi = 0\n",
    "\n",
    "    def __init__(self):          # metoda constructor - se mosteneste\n",
    "        self.sold = 0            # se aplica la crearea fiecarui obiect - se mosteneste\n",
    "        Banca.nr_conturi += 1    # incrementeaza numarul de conturi disponibile - se mosteneste\n",
    "\n",
    "    def alim_cont(self, suma):   # metoda - aplicabila pentru fiecare obiect - se mosteneste\n",
    "        self.sold += suma\n",
    "        self.sold_nou()\n",
    "\n",
    "    def extr_cash(self, suma):   # metoda - aplicabila pentru fiecare obiect - se mosteneste\n",
    "        self.sold -= suma\n",
    "        self.sold_nou()\n",
    "\n",
    "    def sold_nou(self):          # metoda - aplicabila pentru fiecare obiect - se mosteneste\n",
    "        print('Noul sold este: {:.2f}'.format(self.sold))\n",
    "\n",
    "    def __del__(self):\n",
    "        Banca.nr_conturi -= 1\n",
    "        print('Am sters contul')"
   ]
  },
  {
   "cell_type": "code",
   "execution_count": null,
   "id": "9056ade0",
   "metadata": {},
   "outputs": [],
   "source": [
    "# subclasa\n",
    "class CEC(Banca):\n",
    "\n",
    "    def plata_op(self, suma):   # metoda proprie a subclasei\n",
    "        self.sold -= suma\n",
    "        self.sold_nou()\n",
    "\n",
    "    def desc_cont(self, suma):  # metoda proprie a subclasei\n",
    "        self.sold += suma\n",
    "        self.sold_nou()"
   ]
  },
  {
   "cell_type": "code",
   "execution_count": null,
   "id": "a4314456",
   "metadata": {},
   "outputs": [],
   "source": [
    "# instanta noua subclasa\n",
    "Cont_cec = CEC()   \n",
    "print(Cont_cec.__dict__)\n",
    "print(Cont_cec.nr_conturi)\n",
    "\n",
    "Cont_cec.alim_cont(20000)   # metoda mostenita\n",
    "Cont_cec.plata_op(1800)     # metoda proprie\n",
    "Cont_cec.extr_cash(1950)    # metoda mostenita\n",
    "Cont_cec.sold_nou()         # metoda mostenita"
   ]
  },
  {
   "cell_type": "code",
   "execution_count": null,
   "id": "899cf54d",
   "metadata": {},
   "outputs": [],
   "source": [
    "# instanta noua superclasa\n",
    "Cont_banca = Banca()  \n",
    "\n",
    "Cont_banca.sold_nou()\n",
    "Cont_banca.desc_cont(5000)  # o instanta a unei superclase nu poate accesa metodele subclaselor"
   ]
  },
  {
   "cell_type": "code",
   "execution_count": null,
   "id": "8a746bf1",
   "metadata": {},
   "outputs": [],
   "source": [
    "isinstance(Cont_cec, Banca)\n",
    "isinstance(Cont_cec, CEC)\n",
    "isinstance(Cont_banca, Banca)\n",
    "isinstance(Cont_banca, CEC)"
   ]
  },
  {
   "cell_type": "code",
   "execution_count": null,
   "id": "2f31ed41",
   "metadata": {},
   "outputs": [],
   "source": [
    "issubclass(CEC, Banca)\n",
    "issubclass(Banca, CEC)"
   ]
  },
  {
   "cell_type": "code",
   "execution_count": null,
   "id": "0b845e09",
   "metadata": {},
   "outputs": [],
   "source": [
    "print(\"Numar conturi inainte: \", Banca.nr_conturi)\n",
    "del Cont_banca\n",
    "print(\"Numar conturi dupa: \", Banca.nr_conturi)"
   ]
  },
  {
   "cell_type": "markdown",
   "id": "01c9e389",
   "metadata": {},
   "source": [
    "### <span class=\"ita\"> <span class=\"green\">  Mostenire ierarhica"
   ]
  },
  {
   "cell_type": "code",
   "execution_count": null,
   "id": "22c642d3",
   "metadata": {},
   "outputs": [],
   "source": [
    "class A:\n",
    "    x = 'x din A'\n",
    "    y = \"y din A\"\n",
    "\n",
    "class B(A):\n",
    "    x = 'x din B'\n",
    "    z = 'z din B'\n",
    "\n",
    "class C(B):\n",
    "    x = 'x din C'\n",
    "    w = {1: 'cirese din C'}\n"
   ]
  },
  {
   "cell_type": "code",
   "execution_count": null,
   "id": "d37996db",
   "metadata": {},
   "outputs": [],
   "source": [
    "# instantiere\n",
    "obj_a = A()\n",
    "obj_b = B()\n",
    "obj_c = C()"
   ]
  },
  {
   "cell_type": "code",
   "execution_count": null,
   "id": "4b8a4ef9",
   "metadata": {},
   "outputs": [],
   "source": [
    "# accesare atribute\n"
   ]
  },
  {
   "cell_type": "markdown",
   "id": "43cfe3ce",
   "metadata": {},
   "source": [
    "### <span class=\"ita\"> <span class=\"green\">  Mostenire multipla"
   ]
  },
  {
   "cell_type": "code",
   "execution_count": null,
   "id": "203b3c74",
   "metadata": {},
   "outputs": [],
   "source": [
    "class X(C, B, A):\n",
    "    pass"
   ]
  },
  {
   "cell_type": "code",
   "execution_count": null,
   "id": "380c3948",
   "metadata": {},
   "outputs": [],
   "source": [
    "# instantiere\n",
    "obj_x = X()\n",
    "print(X.__mro__)     # method resolution order"
   ]
  },
  {
   "cell_type": "code",
   "execution_count": null,
   "id": "1b155ff4",
   "metadata": {},
   "outputs": [],
   "source": [
    "# accesare atribute\n"
   ]
  },
  {
   "cell_type": "markdown",
   "id": "7f209447",
   "metadata": {},
   "source": [
    "### <span class=\"ita\"> <span class=\"green\"> Mostenire __init__()"
   ]
  },
  {
   "cell_type": "code",
   "execution_count": null,
   "id": "984e1847",
   "metadata": {},
   "outputs": [],
   "source": [
    "class Persoana:\n",
    "\n",
    "    def __init__(self, nume, prenume):\n",
    "        self.nume = nume\n",
    "        self.prenume = prenume\n",
    "\n",
    "class Student(Persoana):\n",
    "\n",
    "    def __init__(self, facultate, *parent):\n",
    "        self.facultate = facultate\n",
    "        super().__init__(*parent)\n",
    "        \n",
    "class Medic(Persoana):\n",
    "    pass"
   ]
  },
  {
   "cell_type": "code",
   "execution_count": null,
   "id": "4dc94427",
   "metadata": {},
   "outputs": [],
   "source": [
    "# instantiere Student / Medic\n"
   ]
  },
  {
   "cell_type": "markdown",
   "id": "eaf102ca",
   "metadata": {},
   "source": [
    "## <span class=\"trcz\"> 6.10. Polimorfism  - caracteristici"
   ]
  },
  {
   "cell_type": "markdown",
   "id": "919daa50",
   "metadata": {},
   "source": [
    "### Metode cu denumiri identice, utilizate in clase diferite, cu functionalitati diferite in ierarhia de mostenire\n",
    "\n",
    "### Fiecare metoda e diferita, dar similara din punct de vedere conceptual\n",
    "\n",
    "### Are avantajul ca se apeleaza cu acelasi nume in toate clasele\n",
    "\n",
    "###  Cel mai bun exemplu functia len() "
   ]
  },
  {
   "cell_type": "code",
   "execution_count": null,
   "id": "98e0008f",
   "metadata": {},
   "outputs": [],
   "source": [
    "class Carte:\n",
    "\n",
    "    def __init__(self, titlu, autor, pagini):  # \"constructor\"\n",
    "        print(f\"O noua carte cu titlul: {titlu}, scrisa de: {autor}\")\n",
    "        self.titlu = titlu\n",
    "        self.autor = autor\n",
    "        self.pagini = pagini\n",
    "\n",
    "    def __str__(self):  # printare\n",
    "        return \"Titlu: {0}, Autor: {1}, Pagini: {2} \".format(self.titlu, self.autor, self.pagini)\n",
    "\n",
    "    def __del__(self):  # destructor\n",
    "        print(\"Cartea {0} a fost casata\".format(self.titlu))\n",
    "\n",
    "    def __len__(self):\n",
    "        return self.pagini\n",
    "\n",
    "\n",
    "HdC = Carte(\"Hotul de Carti\", \"Markus Zusak\", 573)"
   ]
  },
  {
   "cell_type": "code",
   "execution_count": null,
   "id": "2af0d4b3",
   "metadata": {},
   "outputs": [],
   "source": [
    "print(HdC)\n",
    "len(HdC)\n",
    "del HdC"
   ]
  },
  {
   "cell_type": "markdown",
   "id": "6cb56ef1",
   "metadata": {},
   "source": [
    "### <span class=\"ita\"> <span class=\"green\">  Exemplu polimorfism"
   ]
  },
  {
   "cell_type": "code",
   "execution_count": null,
   "id": "41de1bcf",
   "metadata": {},
   "outputs": [],
   "source": [
    "class Electrocasnice:\n",
    "\n",
    "    def __init__(self, nume):\n",
    "        self.nume = nume\n",
    "\n",
    "    # metoda abstracta\n",
    "    def caracteristici(self, *lista):\n",
    "        raise NotImplementedError(\"Metoda abstracta - se defineste in subclasa\")\n",
    "\n",
    "    def __str__(self):\n",
    "        caracteristici_listate = ''\n",
    "        for k, v in self.__dict__.items():\n",
    "            caracteristici_listate += str(k).ljust(15) + ': ' + str(v) + '\\n'\n",
    "        return caracteristici_listate\n",
    "\n",
    "\n",
    "class Aragaz(Electrocasnice):\n",
    "\n",
    "    def caracteristici(self, combustibil='Gaz', numar_ochiuri=4, culoare='Negru', provenienta='Romania'):\n",
    "        self.numar_ochiuri = numar_ochiuri\n",
    "        self.culoare = culoare\n",
    "        self.provenienta = provenienta\n",
    "        self.combustibil = combustibil\n",
    "\n",
    "\n",
    "class Televizor(Electrocasnice):\n",
    "\n",
    "    def caracteristici(self, diagonala=101, ecran='led', tip_ecran='plat', culoare='Negru'):\n",
    "        self.diagonala = diagonala\n",
    "        self.culoare = culoare\n",
    "        self.ecran = ecran\n",
    "        self.tip_ecran = tip_ecran\n",
    "\n",
    "\n",
    "class Sobe(Electrocasnice):\n",
    "\n",
    "    def caracteristici(self, constructie='Metal', combustibil='Gaz', culoare='Maro'):\n",
    "        self.culoare = culoare\n",
    "        self.constructie = constructie\n",
    "        self.combustibil = combustibil\n",
    "\n",
    "class test(Electrocasnice):\n",
    "    pass"
   ]
  },
  {
   "cell_type": "code",
   "execution_count": null,
   "id": "6fbdd966",
   "metadata": {},
   "outputs": [],
   "source": [
    "# obiect aragaz\n",
    "a = Aragaz('Aragaz cu 4 ochiuri')\n",
    "a.caracteristici()"
   ]
  },
  {
   "cell_type": "code",
   "execution_count": null,
   "id": "5a2bab84",
   "metadata": {},
   "outputs": [],
   "source": [
    "# obiecte televizor\n",
    "t = Televizor('Televizor diag 101')\n",
    "t.caracteristici()\n",
    "\n",
    "t1 = Televizor('lx_100')\n",
    "t1.caracteristici(207, 'led_albastru', 'curbat', 'verde')"
   ]
  },
  {
   "cell_type": "code",
   "execution_count": null,
   "id": "53f8fc8c",
   "metadata": {},
   "outputs": [],
   "source": [
    "# obiect soba\n",
    "s = Sobe('Soba din teracota pe lemne')\n",
    "s.caracteristici('teracota', 'lemn')"
   ]
  },
  {
   "cell_type": "code",
   "execution_count": null,
   "id": "7a196ece",
   "metadata": {},
   "outputs": [],
   "source": [
    "# obiect test\n",
    "test_obj = test('test')\n",
    "try:\n",
    "    test_obj.caracteristici('ceva')\n",
    "except NotImplementedError:\n",
    "    print('Trebuie implementata metoda caracteristici!')"
   ]
  },
  {
   "cell_type": "code",
   "execution_count": null,
   "id": "5a91c494",
   "metadata": {},
   "outputs": [],
   "source": [
    "# accesare caractersitici\n",
    "for i in (a, t, t1, s):\n",
    "    print(i)"
   ]
  },
  {
   "cell_type": "markdown",
   "id": "4ce05252",
   "metadata": {},
   "source": [
    "## <span class=\"trcz\"> 6.11. Metode getter/setter"
   ]
  },
  {
   "cell_type": "markdown",
   "id": "8743c8cd",
   "metadata": {},
   "source": [
    "### <span class=\"ita\"> <span class=\"green\">  cu decoratori"
   ]
  },
  {
   "cell_type": "code",
   "execution_count": null,
   "id": "6ba1540a",
   "metadata": {},
   "outputs": [],
   "source": [
    "class GS:\n",
    "\n",
    "    def __init__(self):\n",
    "        self.__variabila = None\n",
    "\n",
    "    @property                       # decorator\n",
    "    def variabila(self):\n",
    "        print(\"Get variabila\")      # flag - sa vedem ce metoda apeleaza\n",
    "        return self.__variabila\n",
    "\n",
    "    @variabila.setter\n",
    "    def variabila(self, value):\n",
    "        print(\"Set variabila\")      # flag - sa vedem ce metoda apeleaza\n",
    "        self.__variabila = value\n",
    "\n",
    "    @variabila.deleter\n",
    "    def variabila(self):\n",
    "        print(\"Delete variabila\")   # flag - sa vedem ce metoda apeleaza\n",
    "        del self.__variabila"
   ]
  },
  {
   "cell_type": "code",
   "execution_count": null,
   "id": "88729a32",
   "metadata": {},
   "outputs": [],
   "source": [
    "obiect = GS()\n",
    "\n",
    "# print(obiect.__variabila)    # nu are atributul\n",
    "print(obiect.variabila)        # apeleaza metoda \"get\", (None)"
   ]
  },
  {
   "cell_type": "code",
   "execution_count": null,
   "id": "715ddcec",
   "metadata": {},
   "outputs": [],
   "source": [
    "obiect.variabila = 100         # apeleaza metoda \"set\" - atribuie valoare\n",
    "print(obiect.variabila)        # apeleaza metoda \"get\"\n",
    "del obiect.variabila           # apeleaza delete"
   ]
  },
  {
   "cell_type": "markdown",
   "id": "84607061",
   "metadata": {},
   "source": [
    "### <span class=\"ita\"> <span class=\"green\">  cu property()"
   ]
  },
  {
   "cell_type": "code",
   "execution_count": null,
   "id": "0deaa6d9",
   "metadata": {},
   "outputs": [],
   "source": [
    "class GS_alt:\n",
    "\n",
    "    def __init__(self, atribut_initial):\n",
    "        self.__set_atribut(atribut_initial)\n",
    "\n",
    "    def __get_atribut(self):\n",
    "        print(\"Getter / accesor\")\n",
    "        return self.__atribut\n",
    "\n",
    "    def __set_atribut(self, atribut):\n",
    "        print(\"Setter / mutator\")\n",
    "        self.__atribut = atribut\n",
    "\n",
    "    atribut = property(__get_atribut, __set_atribut)"
   ]
  },
  {
   "cell_type": "code",
   "execution_count": null,
   "id": "9d43401b",
   "metadata": {},
   "outputs": [],
   "source": [
    "obj1 = GS_alt(5)\n",
    "\n",
    "print(obj1.atribut)"
   ]
  },
  {
   "cell_type": "code",
   "execution_count": null,
   "id": "17bb79ab",
   "metadata": {},
   "outputs": [],
   "source": [
    "obj1.atribut = 15\n",
    "print(obj1.atribut)"
   ]
  },
  {
   "cell_type": "code",
   "execution_count": null,
   "id": "3122344a",
   "metadata": {},
   "outputs": [],
   "source": [
    "obj1.__setattr__('atribut', 100)\n",
    "obj1.__getattribute__('atribut')"
   ]
  },
  {
   "cell_type": "markdown",
   "id": "ee1563ee",
   "metadata": {},
   "source": [
    "### <span class=\"ita\"> <span class=\"green\"> "
   ]
  },
  {
   "cell_type": "code",
   "execution_count": null,
   "id": "668b6ca7",
   "metadata": {},
   "outputs": [],
   "source": []
  }
 ],
 "metadata": {
  "kernelspec": {
   "display_name": "Python 3 (ipykernel)",
   "language": "python",
   "name": "python3"
  },
  "language_info": {
   "codemirror_mode": {
    "name": "ipython",
    "version": 3
   },
   "file_extension": ".py",
   "mimetype": "text/x-python",
   "name": "python",
   "nbconvert_exporter": "python",
   "pygments_lexer": "ipython3",
   "version": "3.9.7"
  }
 },
 "nbformat": 4,
 "nbformat_minor": 5
}
