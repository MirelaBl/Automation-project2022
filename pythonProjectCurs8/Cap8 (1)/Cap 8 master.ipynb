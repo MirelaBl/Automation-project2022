{
 "cells": [
  {
   "cell_type": "code",
   "execution_count": 1,
   "id": "3969ceae",
   "metadata": {},
   "outputs": [
    {
     "data": {
      "text/html": [
       "\n",
       "<style>\n",
       "     .blue {\n",
       "         color: blue;\n",
       "     }\n",
       "     \n",
       "     .red {\n",
       "         color: red;\n",
       "     }\n",
       "\n",
       "     .trcz {\n",
       "         color:#48CAE4;\n",
       "     }\n",
       "\n",
       "     .trcz a {\n",
       "         color: inherit;\n",
       "     }\n",
       "\n",
       "     .green {\n",
       "         color: green;\n",
       "     }\n",
       "\n",
       "     .ita {\n",
       "         font-style: italic;\n",
       "     }\n",
       "     \n",
       "     .vio {\n",
       "        font-style: violet;\n",
       "     }\n",
       "\n",
       "\n",
       "</style>\n"
      ],
      "text/plain": [
       "<IPython.core.display.HTML object>"
      ]
     },
     "execution_count": 1,
     "metadata": {},
     "output_type": "execute_result"
    }
   ],
   "source": [
    "from ipythoncss import HTML, STILURI\n",
    "HTML(STILURI)"
   ]
  },
  {
   "cell_type": "code",
   "execution_count": null,
   "id": "6c2a627b",
   "metadata": {},
   "outputs": [],
   "source": [
    "import sys\n",
    "sys.path\n",
    "sys.path.extend(['C:\\\\Users\\\\paul\\\\OneDrive\\\\Documents\\\\__PyThOn'\n",
    "            'C:\\\\Users\\\\paul\\\\OneDrive\\\\Documents\\\\__PyThOn\\\\0 PyP\\\\_module',\n",
    "            'C:\\\\Users\\\\paul\\\\OneDrive\\\\Documents\\\\__PyThOn\\\\venv\\\\Lib\\\\site-packages'])"
   ]
  },
  {
   "cell_type": "markdown",
   "id": "e985be65",
   "metadata": {},
   "source": [
    "# <span class=\"blue\">8. Module II"
   ]
  },
  {
   "cell_type": "markdown",
   "id": "f68a3156",
   "metadata": {},
   "source": [
    "## <span class=\"trcz\">8.1. re (regular expressions <a href=\"https://docs.python.org/3.10/library/re.html#module-re\">Click aici</a>"
   ]
  },
  {
   "cell_type": "markdown",
   "id": "7bac13e0",
   "metadata": {},
   "source": [
    "### Se utilizeaza pentru cautarea avansata si inlocuirea unor subsiruri, fiind des utilizat pentru validare, automatizare si testare;\n",
    "### Se bazeaza pe un patern de cautare simplu sau compus din mai multe subpaternuri despartite prin \"|\"\n",
    "### Clase de caractere predefinite <a href=\"https://docs.python.org/3.10/library/re.html#regular-expression-syntax\">Click aici</a>\n",
    "###  <strong class=\"green\">^</strong>   de la inceputul liniei (sinonim \\A),\n",
    "###  <strong class=\"green\">$  </strong> - sfarsitul liniei (sinonim \\Z)\n",
    "###  <strong class=\"green\">.  </strong> - inlocuieste orice caracter\n",
    "###  <strong class=\"green\">\\d </strong> - orice caracter decimal\n",
    "###  <strong class=\"green\">\\D </strong> - orice caracter nondecimal (opusul \\d)\n",
    "###  <strong class=\"green\">\\w </strong> - orice caracter alfanumeric\n",
    "###  <strong class=\"green\">\\W </strong> - orice caracter nonalfanumeric\n",
    "###  <strong class=\"green\">*  </strong> - repeta de zero sau de mai multe ori expresia de dinainte de semn\n",
    "###  <strong class=\"green\">*? </strong> - repeta un caracter de 0 sau 1 data (non-greedy - pana la prima aparitie a car de sfarsit)\n",
    "###  <strong class=\"green\">\\s </strong> - spatiu\n",
    "###  <strong class=\"green\">\\S </strong> - fara spatii\n",
    "###  <strong class=\"green\">?  </strong>- repeta un caracter o DATA sau de mai multe ori (non-greedy - pana la prima aparitie a car de sfarsit)\n",
    "###  <strong class=\"green\">+  </strong>- o data sau de mai multe ori expresia dinainte de semn\n",
    "### Clase de caractere definite de programator<a href=\"https://docs.python.org/3.10/library/re.html#regular-expression-syntax\">Click aici</a>\n",
    "###  <strong class=\"green\"> [aeiou]  </strong>   un singur caracter din lista\n",
    "###  <strong class=\"green\"> [^xyz]    </strong>  un singur caracter cu exceptia celor mentionate\n",
    "###  <strong class=\"green\"> [0-9a-f]  </strong>   oricare cifre din interval una cate una (cu + scoate si grupuri)\n",
    "###  <strong class=\"green\"> [a-zA-Z]  </strong>     oricare litere din interval una cate una (cu + scoate si grupuri\n",
    "###  <strong class=\"green\"> ( </strong>  unde incepe expresia\n",
    "###  <strong class=\"green\"> )  </strong> unde se termina expresia\n",
    "###  <strong class=\"green\"> {n}    </strong>     exact n aparitii ale expresiei de dinainte, cu {n} n sau mai multe\n",
    "###  <strong class=\"green\"> {n,m}   </strong>    intre n si m aparitii\n",
    "###  <strong class=\"green\"> |    </strong>       desparte mai multe secvente de cautare in aceeasi expresie"
   ]
  },
  {
   "cell_type": "code",
   "execution_count": 7,
   "id": "cd2a6e53",
   "metadata": {},
   "outputs": [],
   "source": [
    "import re\n",
    "import os\n",
    "cale = \"C:/Users/paul/OneDrive/Documents/__PyThOn/\"\n",
    "fisier = open(cale + 'text1.txt')"
   ]
  },
  {
   "cell_type": "markdown",
   "id": "a0705263",
   "metadata": {},
   "source": [
    "### <span class=\"ita\"> <span class=\"green\"> - re.match() </span> - cauta potrivirea la inceputul sirului"
   ]
  },
  {
   "cell_type": "code",
   "execution_count": null,
   "id": "2001debe",
   "metadata": {},
   "outputs": [],
   "source": [
    "# Cauta toate liniile care incep cu From\n",
    "count = 0\n",
    "for line in fisier:\n",
    "    line = line.rstrip()\n",
    "    if re.match('^From: ', line):\n",
    "        count +=1\n",
    "        print(line)\n",
    "print(count)"
   ]
  },
  {
   "cell_type": "code",
   "execution_count": null,
   "id": "90ff0a28",
   "metadata": {},
   "outputs": [],
   "source": [
    "str1 = \"\"\"ana are mere 1. Ce are ana? ana are mere 1\"\"\"\n",
    "re.match('ana|.{0,}(ana)\\?', str1)"
   ]
  },
  {
   "cell_type": "markdown",
   "id": "76849901",
   "metadata": {},
   "source": [
    "### <span class=\"ita\"> <span class=\"green\"> - re.search() </span> - cauta prima potrivire"
   ]
  },
  {
   "cell_type": "code",
   "execution_count": null,
   "id": "9ba5b2e3",
   "metadata": {},
   "outputs": [],
   "source": [
    "s1 = re.search('ana', str1)\n",
    "s2 = re.search(' ana', str1)\n",
    "s3 = re.search('\\? ana', str1)\n",
    "print(s1)\n",
    "print(s2)\n",
    "print(s3)"
   ]
  },
  {
   "cell_type": "code",
   "execution_count": null,
   "id": "c5c30711",
   "metadata": {},
   "outputs": [],
   "source": [
    "# verifica nr tel\n",
    "def verifica_nr_tel(nr):\n",
    "    if re.search('^07[0-9]{8}$', nr):\n",
    "        print('Numar corect')\n",
    "    elif not nr.isdigit():\n",
    "        print('Trebuie sa contina doar cifre')\n",
    "    elif len(nr) != 10:\n",
    "        print(f'Trebuie sa aiba 10. Numarul tau are {len(nr)}')\n",
    "    elif not nr.startswith('07'):\n",
    "        print('Tre sa inceapa cu 07. Numarul tau incepe cu {0}'.format(nr[0:2]))\n",
    "\n",
    "print(verifica_nr_tel(\"0758196125\"))\n",
    "print(verifica_nr_tel(\"0958196125\"))\n",
    "print(verifica_nr_tel(\"075819612\"))\n",
    "print(verifica_nr_tel(\"075819612a\"))"
   ]
  },
  {
   "cell_type": "code",
   "execution_count": 66,
   "id": "d72f00f4",
   "metadata": {},
   "outputs": [],
   "source": [
    "# putem capta rezultatul unor comenzi de sistem (vezi pycharm Cap8_02_re_exemple.py linia 142)"
   ]
  },
  {
   "cell_type": "markdown",
   "id": "3dc410f9",
   "metadata": {},
   "source": [
    "### <span class=\"ita\"> <span class=\"green\"> - re.findall() </span> - returneaza o lista cu toate potrivirile "
   ]
  },
  {
   "cell_type": "code",
   "execution_count": null,
   "id": "52f427d5",
   "metadata": {},
   "outputs": [],
   "source": [
    "# Cauta toate liniile care incep cu From, dar ne intereseaza doar e-mail\n",
    "fisier.seek(0)\n",
    "lista_email = []\n",
    "email_patern1 = '^From: (\\S+@\\S+\\.{1}\\S{2,4}$)'\n",
    "for line in fisier:\n",
    "    line = line.rstrip()\n",
    "    email = re.findall(email_patern1, line)\n",
    "    if email:\n",
    "        lista_email += email\n",
    "print(lista_email)\n",
    "print(len(lista_email))"
   ]
  },
  {
   "cell_type": "code",
   "execution_count": null,
   "id": "b0efe345",
   "metadata": {},
   "outputs": [],
   "source": [
    "# cauta toate numerele (nu doar cifrele)\n",
    "a = '''Astazi sunt 22 grade celsius dimineata 32 la pranz si 30 seara. \n",
    "La noapte vor fi doar 20 grade.'''\n",
    "masurare = re.findall('[0-9]+', a)  # returneaza toate aparitiile intr-o lista\n",
    "moment = ['dim', 'pranz', 'seara', 'noaptea']\n",
    "temp = dict(zip(moment, masurare))\n",
    "print(temp)"
   ]
  },
  {
   "cell_type": "code",
   "execution_count": null,
   "id": "3b2f918b",
   "metadata": {},
   "outputs": [],
   "source": [
    "# extrage domeniu din e-mail\n",
    "c = 'Email: paul@infoacademy.net , paul@fratila.ro, Telefon: ...'\n",
    "patern_domeniu = '@([\\w]+\\.{1}[\\w]{2,})'\n",
    "e = re.findall(patern_domeniu, c)  # cauta toate caracterele dupa @ pana la spatiu, fara acesta\n",
    "\n",
    "for i in e:\n",
    "    print('https://www.' + i)"
   ]
  },
  {
   "cell_type": "code",
   "execution_count": null,
   "id": "e583f4da",
   "metadata": {},
   "outputs": [],
   "source": [
    "# extrage numere rationale cu escape character\n",
    "k = 'Avem de incasat $25.0, $3.258 de la clienti'\n",
    "patern_pret_usd = '\\$[0-9]+\\.{1}[0-9]*'\n",
    "l = re.findall(patern_pret_usd, k)  # \\$ - caracterul $ nu semnificatia acestuia din REGEX\n",
    "print(l)"
   ]
  },
  {
   "cell_type": "code",
   "execution_count": null,
   "id": "0ce91d42",
   "metadata": {},
   "outputs": [],
   "source": [
    "# Extrage pana la primul caracter \":\". Daca scoatem \"?\" - pana la ultimul\n",
    "x = 'From: Using the : character'\n",
    "print(re.findall('^F.+?:', x))\n",
    "print(re.findall('^F.+:', x))"
   ]
  },
  {
   "cell_type": "code",
   "execution_count": null,
   "id": "a19d88ed",
   "metadata": {},
   "outputs": [],
   "source": [
    "# cautare dupa codul caracterelor\n",
    "sir1 = \"Chineză: 我喜歡編程\"\n",
    "abc = re.findall(\"{0}|{1}\".format(str(chr(31243)), str(chr(25105))), sir1)\n",
    "print(abc)"
   ]
  },
  {
   "cell_type": "markdown",
   "id": "c69583b4",
   "metadata": {},
   "source": [
    "### <span class=\"ita\"> <span class=\"green\"> - re.split() </span> - split"
   ]
  },
  {
   "cell_type": "code",
   "execution_count": null,
   "id": "20c7a312",
   "metadata": {},
   "outputs": [],
   "source": [
    "y = \"cand ti-e sete bei bere\\\n",
    "cand ti-e foame mananci mere\\\n",
    "daca nu ai poti cere\\\n",
    "sau poti manca pere\\\n",
    "hai, la treaba vere\"\n",
    "l = re.split('[cbmpv]ere', y)\n",
    "print(l)"
   ]
  },
  {
   "cell_type": "markdown",
   "id": "a31bbce5",
   "metadata": {},
   "source": [
    "### <span class=\"ita\"> <span class=\"green\"> - re.sub() </span> - replace  "
   ]
  },
  {
   "cell_type": "code",
   "execution_count": null,
   "id": "102ff922",
   "metadata": {},
   "outputs": [],
   "source": [
    "x = re.sub('[a-z]ere', '?', y)\n",
    "print(x)"
   ]
  },
  {
   "cell_type": "markdown",
   "id": "21bdd218",
   "metadata": {},
   "source": [
    "### <span class=\"ita\"> <span class=\"green\"> - re.complile() </span> - creare obiect regex"
   ]
  },
  {
   "cell_type": "code",
   "execution_count": null,
   "id": "1766111f",
   "metadata": {},
   "outputs": [],
   "source": [
    "def validare(email):\n",
    "    # compilare expresie regex intr-un obiect regex\n",
    "    regex_object = re.compile(r'^\\S+@\\S+\\.[a-z]{2,4}$', re.IGNORECASE)\n",
    "    result = regex_object.search(email)\n",
    "    if result:\n",
    "        print(\"Email ok\")\n",
    "    else:\n",
    "        print(\"Email incorect\")\n",
    "\n",
    "e1 = 'aNa@a.ro'\n",
    "e2 = 'ana@a.r'\n",
    "e3 = 'ana.ana@Info.info'\n",
    "e4 = 'ana@info.Infor'\n",
    "\n",
    "print(validare(e1))\n",
    "print(validare(e2))\n",
    "print(validare(e3))\n",
    "print(validare(e4))"
   ]
  },
  {
   "cell_type": "markdown",
   "id": "922c106d",
   "metadata": {},
   "source": [
    "### <span class=\"ita\"> <span class=\"green\"> - Alte exemple </span> - "
   ]
  },
  {
   "cell_type": "code",
   "execution_count": null,
   "id": "7161d11d",
   "metadata": {},
   "outputs": [],
   "source": [
    "la = \"\"\"ala ana ama \n",
    "asa ada \n",
    "ela ema \n",
    "eba ena eva\"\"\"\n",
    "print(re.search('a.a', la))  # prima aparitie\n",
    "print(re.findall('a.a', la))  # toate aparitiile a orice caracter a\n",
    "print(re.findall('e.a',la))  # toate aparitiile e orice caracter e\n",
    "print(re.findall('e[blmnvx]a',la))  # toate aparitiile e [caractere alese] e\n",
    "print(re.findall('e[^aeiou]a',la))  # toate aparitiile e [cu exceptia caractere alese] e\n",
    "print(re.findall('e.a|a.a',la))  # toate aparitiile a orice caracter a si e orice caracter e\n",
    "print(re.findall('e.a | a.a',la))  # atentie, spatiul e tratat ca atare\n",
    "print(re.findall('e[blmnvx]a', 'ela, Ema, eVa, ebA', re.IGNORECASE)) \n",
    "print(re.findall('e[blmnvx]a', 'ela, Ema, eVa, ebA'))"
   ]
  },
  {
   "cell_type": "markdown",
   "id": "a51ce10b",
   "metadata": {},
   "source": [
    "## <span class=\"trcz\">8.2. ntplib <a href=\"http://support.ntp.org/bin/view/Servers/StratumOneTimeServers\">Click aici</a>"
   ]
  },
  {
   "cell_type": "markdown",
   "id": "46301dfe",
   "metadata": {},
   "source": [
    "### - NTP (Network Time Porotcol) este un serviciu de retea ce are ca scop sincronizarea ceasurilor dispozitivelor de retea. \n",
    "### - Python are un modul care face acest lucru.\n",
    "### - Cererea catre serverul NTP contine patru parametrii:\n",
    "### - <span class=\"green\"> host – reprezinta serverul ntp de la care solicitam informatia;</span>\n",
    "### - <span class=\"green\"> Versiunea – utilizam 2;</span>\n",
    "### - <span class=\"green\"> Port – NTP standard port este 123;</span>\n",
    "### - <span class=\"green\"> Timeout – utilizam  5 (numarul de secunde pentr timeout).</span>\n",
    "\n",
    "### - Daca serverul nu raspunde genereaza o eroare."
   ]
  },
  {
   "cell_type": "markdown",
   "id": "51f45cdb",
   "metadata": {},
   "source": [
    "### Servere ntp Romania: \n",
    "    0.ro.pool.ntp.org;\t\n",
    "    1.ro.pool.ntp.org;\t\n",
    "    2.ro.pool.ntp.org;\t\n",
    "    3.ro.pool.ntp.org;\n",
    "### <a href=http://support.ntp.org/bin/view/Servers/StratumOneTimeServers> Lista servere NTP din toata lumea (click pe campul ISO)</a>\n"
   ]
  },
  {
   "cell_type": "code",
   "execution_count": null,
   "id": "b4b5356c",
   "metadata": {},
   "outputs": [],
   "source": [
    "import ntplib\n",
    "\n",
    "# creare obiect ntplib\n",
    "ob = ntplib.NTPClient()\n",
    "host_ro = \"1.ro.pool.ntp.org\"\n",
    "host_fr = \"ntp-p1.obspm.fr\""
   ]
  },
  {
   "cell_type": "markdown",
   "id": "4e0cdd5a",
   "metadata": {},
   "source": [
    "### <span class=\"ita\"> <span class=\"green\"> - ntp_object.request() </span>"
   ]
  },
  {
   "cell_type": "code",
   "execution_count": null,
   "id": "3e85e722",
   "metadata": {},
   "outputs": [],
   "source": [
    "r = ob.request(host_ro, 2, 123, 5)  # Ex: server Romania\n",
    "time.ctime(r.tx_time)"
   ]
  },
  {
   "cell_type": "code",
   "execution_count": null,
   "id": "c384f405",
   "metadata": {},
   "outputs": [],
   "source": [
    "v = ob.request(host_fr, 2, 123, 5)  # Ex: server Franta\n",
    "time.ctime(v.tx_time)"
   ]
  },
  {
   "cell_type": "code",
   "execution_count": null,
   "id": "de248ce0",
   "metadata": {},
   "outputs": [],
   "source": [
    "if time.ctime(ob.request(host_fr, 2, 123, 5).tx_time) \n",
    "    == time.ctime(ob.request(host_ro, 2, 123, 5).tx_time):\n",
    "    print('Ceasuri sincronizate!')"
   ]
  },
  {
   "cell_type": "markdown",
   "id": "1fb295fc",
   "metadata": {},
   "source": [
    "## <span class=\"trcz\">8.3. telnetlib <a href=\"https://docs.python.org/3.7/library/telnetlib\">Click aici</a>"
   ]
  },
  {
   "cell_type": "markdown",
   "id": "16ef3c97",
   "metadata": {},
   "source": [
    "### Telnet este un serviciu de retea ce are ca scop conectarea la distanta cu diferite dispozitive de retea (unsecure).\n"
   ]
  },
  {
   "cell_type": "code",
   "execution_count": null,
   "id": "c6781ef1",
   "metadata": {},
   "outputs": [],
   "source": [
    "import telnetlib\n",
    "\n",
    "# creare obiect telnetlib\n",
    "host = 'route-views.wide.routeviews.org'\n",
    "obiect = telnetlib.Telnet(host)"
   ]
  },
  {
   "cell_type": "markdown",
   "id": "9a74e910",
   "metadata": {},
   "source": [
    "### <span class=\"ita\"> <span class=\"green\"> Autentificare </span>"
   ]
  },
  {
   "cell_type": "code",
   "execution_count": null,
   "id": "1829fe55",
   "metadata": {},
   "outputs": [],
   "source": [
    "obiect.read_until(b'Login: ', 2)\n",
    "obiect.read_until(b'Password: ', 2)"
   ]
  },
  {
   "cell_type": "markdown",
   "id": "7d82dc32",
   "metadata": {},
   "source": [
    "### <span class=\"ita\"> <span class=\"green\"> Accesare resurse router</span> "
   ]
  },
  {
   "cell_type": "code",
   "execution_count": null,
   "id": "e7a8e95b",
   "metadata": {},
   "outputs": [],
   "source": [
    "obiect.write('show ip bgp summary'.encode('utf-8') + b'\\r\\n')\n",
    "s = obiect.read_until(b'free', 2)\n",
    "for i in str(s).split(','):\n",
    "    print(i)\n",
    "print(i.split(\"\\\\r\\\\n\"))"
   ]
  },
  {
   "cell_type": "markdown",
   "id": "bb0aa829",
   "metadata": {},
   "source": [
    "### <span class=\"ita\"> <span class=\"green\"> Inchidere conexiune </span>"
   ]
  },
  {
   "cell_type": "code",
   "execution_count": null,
   "id": "6ca39bc5",
   "metadata": {},
   "outputs": [],
   "source": [
    "obiect.close()"
   ]
  },
  {
   "cell_type": "markdown",
   "id": "92d4af76",
   "metadata": {},
   "source": [
    "## <span class=\"trcz\">8.4. ftplib <a href=\"https://docs.python.org/3.7/library/ftplib\">Click aici</a>"
   ]
  },
  {
   "cell_type": "markdown",
   "id": "84dc5bc3",
   "metadata": {},
   "source": [
    "### FTP este un serviciu de retea ce are ca scop transferul de fisiere la distanta prin diferite dispozitive de retea.  "
   ]
  },
  {
   "cell_type": "markdown",
   "id": "3ea6c3d1",
   "metadata": {},
   "source": [
    "### <span class=\"ita\"> <span class=\"green\"> Creare obiect ftplib</span>"
   ]
  },
  {
   "cell_type": "code",
   "execution_count": null,
   "id": "7af48b34",
   "metadata": {},
   "outputs": [],
   "source": [
    "from ftplib import FTP\n",
    "\n",
    "ftp = FTP('ftp.ubuntu.com')\n",
    "ftp.login()"
   ]
  },
  {
   "cell_type": "markdown",
   "id": "6fba0d84",
   "metadata": {},
   "source": [
    "### <span class=\"ita\"> <span class=\"green\"> Metode utile </span> "
   ]
  },
  {
   "cell_type": "code",
   "execution_count": null,
   "id": "50675eb7",
   "metadata": {},
   "outputs": [],
   "source": [
    "# lista fisiere/directoare existente in directorul principal\n",
    "ftp.retrlines('LIST')\n",
    "\n",
    "# sterge directorul\n",
    "ftp.rmd('NumeDirector')\n",
    "\n",
    "# sterge fisierul\n",
    "ftp.delete('NumeFisier.extensie')\n",
    "\n",
    "# creaza directorul\n",
    "ftp.mkd('NumeDirector')\n",
    "\n",
    "# returneaza dir curent\n",
    "ftp.pwd()\n",
    "\n",
    "# schimba directorul\n",
    "ftp.cwd('extras')\n",
    "ftp.retrlines('LIST')\n",
    "ftp.cwd('/')           # directorul radacina\n",
    "ftp.cwd('ubuntu')"
   ]
  },
  {
   "cell_type": "markdown",
   "id": "3a6fd96f",
   "metadata": {},
   "source": [
    "### <span class=\"ita\"> <span class=\"green\"> Download fisier </span>"
   ]
  },
  {
   "cell_type": "code",
   "execution_count": null,
   "id": "b328569f",
   "metadata": {},
   "outputs": [],
   "source": [
    "# download fisier\n",
    "deschide = open(r\"C:\\Users\\paul\\OneDrive\\Documents\\__PyThOn\\WT\\fisier\", 'wb')\n",
    "ftp.retrbinary('RETR ' + 'ls-lR.gz', deschide.write )"
   ]
  },
  {
   "cell_type": "markdown",
   "id": "229f63b0",
   "metadata": {},
   "source": [
    "### <span class=\"ita\"> <span class=\"green\"> Upload fisier </span>"
   ]
  },
  {
   "cell_type": "code",
   "execution_count": null,
   "id": "302929b8",
   "metadata": {},
   "outputs": [],
   "source": [
    "# upload fisier\n",
    "filename_local = 'text1.txt'\n",
    "filename_server = 'text1001.txt'\n",
    "ftp.storbinary('STOR ' + filename_server, open(filename_local, 'rb'))"
   ]
  },
  {
   "cell_type": "markdown",
   "id": "59cf0397",
   "metadata": {},
   "source": [
    "### <span class=\"ita\"> <span class=\"green\">Inchidere conexiune </span>"
   ]
  },
  {
   "cell_type": "code",
   "execution_count": null,
   "id": "b8d83f95",
   "metadata": {},
   "outputs": [],
   "source": [
    "ftp.quit()"
   ]
  },
  {
   "cell_type": "markdown",
   "id": "339c181c",
   "metadata": {},
   "source": [
    "## <span class=\"trcz\">8.5. requests <a href=\"https://docs.python-requests.org/en/master/\">Accesare pagini web</a>"
   ]
  },
  {
   "cell_type": "markdown",
   "id": "88263d0c",
   "metadata": {},
   "source": [
    "### <span class=\"ita\"> <span class=\"green\"> - requests.get() </span> - accesare resursa web "
   ]
  },
  {
   "cell_type": "code",
   "execution_count": null,
   "id": "a9d18e1d",
   "metadata": {},
   "outputs": [],
   "source": [
    "import requests\n",
    "\n",
    "# extragem continut pagina\n",
    "conect = requests.get('https://www.infoacademy.net/cursuri')\n",
    "print(\"Type result\", type(conect))\n",
    "print(\"Status code:\", r.status_code)"
   ]
  },
  {
   "cell_type": "code",
   "execution_count": null,
   "id": "50c00211",
   "metadata": {},
   "outputs": [],
   "source": [
    "# vizualizam continutul html\n",
    "print(conect.text)"
   ]
  },
  {
   "cell_type": "code",
   "execution_count": null,
   "id": "59ee841e",
   "metadata": {},
   "outputs": [],
   "source": [
    "# metoda GET\n",
    "payload = {'key1': 'value1', 'key2': 'value2'}\n",
    "r = requests.get('http://httpbin.org/get', params=payload)\n",
    "r.json()\n",
    "print(r.text)"
   ]
  },
  {
   "cell_type": "markdown",
   "id": "19f9ab5c",
   "metadata": {},
   "source": [
    "### <span class=\"ita\"> <span class=\"green\"> - requests.post() </span> - preluare date dintr-un formular"
   ]
  },
  {
   "cell_type": "code",
   "execution_count": null,
   "id": "81ccb43f",
   "metadata": {},
   "outputs": [],
   "source": [
    "# metoda POST\n",
    "payload = dict(key1='value1', key2='value2')\n",
    "r = requests.post('http://httpbin.org/post', data = payload)\n",
    "print(r.text)\n",
    "r.headers.values ()"
   ]
  },
  {
   "cell_type": "markdown",
   "id": "e1080912",
   "metadata": {},
   "source": [
    "### <span class=\"ita\"> <span class=\"green\"> Mesaje posibile </span> "
   ]
  },
  {
   "cell_type": "markdown",
   "id": "62afb0ed",
   "metadata": {},
   "source": [
    "### 200 – Pagina a fost incarcata cu success.\n",
    "### 301 – MOVED_PERMANENTLY\n",
    "### 307 – Pagina a fost temporar redirectata (temporary_redirect)\n",
    "### 403 – Accesul este interzis (FORBIDDEN)\n",
    "### 404 – Fisierul nu a fost gasit\n",
    "### 408 – Cererea a expirat (request timeout)\n",
    "### 500 – INTERNAL_SERVER_ERROR"
   ]
  },
  {
   "cell_type": "markdown",
   "id": "d064ab10",
   "metadata": {},
   "source": [
    "## <span class=\"trcz\">8.6. smtplib <a href=\"https://docs.python.org/3.7/library/smtplib.html#module-smtplib\">Trimite e-mail</a>"
   ]
  },
  {
   "cell_type": "markdown",
   "id": "0378f0f5",
   "metadata": {},
   "source": [
    "### <span class=\"ita\"> <span class=\"green\"> Import modul, credentiale, mesaj </span> "
   ]
  },
  {
   "cell_type": "code",
   "execution_count": null,
   "id": "b01496be",
   "metadata": {},
   "outputs": [],
   "source": [
    "import smtplib\n",
    "\n",
    "# resurse personale\n",
    "import sys\n",
    "sys.path.append(r\"C:\\Users\\paul\\OneDrive\\Documents\\__PyThOn\\0 PyP\\_module\")    # pt pftp\n",
    "import pftp"
   ]
  },
  {
   "cell_type": "code",
   "execution_count": null,
   "id": "2e95e7b9",
   "metadata": {},
   "outputs": [],
   "source": [
    "expeditor = 'info@infoacademy.eu'\n",
    "destinatar = 'paul@fratila.eu'\n",
    "username = 'info@infoacademy.eu'\n",
    "subiect = 'Email test'\n",
    "continut = \"\"\"<html>\n",
    "Salut Gabriel,\n",
    "    <head>\n",
    "        <title></title>\n",
    "            <meta http-equiv=\"Content-Type\" content=\"text/html; charset=iso-8859-1\" />\n",
    "            <link href=\"../../../default.css\" rel=\"stylesheet\" type=\"text/css\" />\n",
    "    </head>\n",
    "    <body style=\"background:none;margin:0px\">\n",
    "        <h1 class=jobstitle>Bine ai venit la SMTP!</h1>\n",
    "    </body>\n",
    "</html>\"\"\"\n",
    "mesaj = \"\"\"From: {0}\n",
    "To: {1}\n",
    "Subject: {2}\n",
    "Content-type: text/html\n",
    "\"\"\".format(expeditor, destinatar, subiect) + continut"
   ]
  },
  {
   "cell_type": "markdown",
   "id": "61ab1d79",
   "metadata": {},
   "source": [
    "### <span class=\"ita\"> <span class=\"green\"> Transmite mesaj </span> "
   ]
  },
  {
   "cell_type": "code",
   "execution_count": null,
   "id": "9b43da70",
   "metadata": {},
   "outputs": [],
   "source": [
    "try:\n",
    "    # creare obiect SMTP\n",
    "    smtp_ob = smtplib.SMTP('mail.infoacademy.eu', '2525')\n",
    "    # smtp_ob.starttls ( )            # protocol criptare\n",
    "    # login\n",
    "    smtp_ob.login(username, pftp.parola)\n",
    "    smtp_ob.sendmail(expeditor, destinatar, mesaj)\n",
    "    print(f'Mesaj to {destinatar} expediat cu succes!')\n",
    "    smtp_ob.close()\n",
    "\n",
    "except:\n",
    "    print('Mesajul nu a putut fi expediat!')"
   ]
  },
  {
   "cell_type": "markdown",
   "id": "e7bf9c44",
   "metadata": {},
   "source": [
    "## <span class=\"trcz\">8.7. pygal <a href=\"http://www.pygal.org/en/stable/documentation/output.html#png\">Grafice</a> si     <a href=\"http://www.pygal.org/en/stable/documentation/types/maps/pygal_maps_world.html\">Maps</a>"
   ]
  },
  {
   "cell_type": "code",
   "execution_count": null,
   "id": "8de2553c",
   "metadata": {},
   "outputs": [],
   "source": [
    "# import modul\n",
    "import pygal\n",
    "import os"
   ]
  },
  {
   "cell_type": "markdown",
   "id": "55ed045a",
   "metadata": {},
   "source": [
    "### <span class=\"ita\"> <span class=\"green\"> Grafice cu bare verticale</span>  "
   ]
  },
  {
   "cell_type": "code",
   "execution_count": null,
   "id": "6321c694",
   "metadata": {},
   "outputs": [],
   "source": [
    "# exemplu  pygal.Bar\n",
    "ob_chart = pygal.Bar()  # creare obiect - grafic cu bare verticale alaturate\n",
    "ob_chart.add('Grafic', (1, 33, 17, 15, 31, 86))  # adaugare date\n",
    "ob_chart.render_to_file('grafic.svg')  # salvare fisier grafic\n",
    "os.system('grafic.svg')  # deschide fisierul"
   ]
  },
  {
   "cell_type": "code",
   "execution_count": null,
   "id": "dad2f6eb",
   "metadata": {},
   "outputs": [],
   "source": [
    "# se pot adauga alte seturi de date\n",
    "ob_chart.add('Grafic_1', [10, 20, 18, 29, 14, 23, 39]).render_to_file('grafic.svg') \n",
    "os.system('grafic.svg')  # deschide fisierul"
   ]
  },
  {
   "cell_type": "markdown",
   "id": "07e5d1f0",
   "metadata": {},
   "source": [
    "### <span class=\"ita\"> <span class=\"green\"> Grafice cu linii </span>  "
   ]
  },
  {
   "cell_type": "code",
   "execution_count": null,
   "id": "76417b0d",
   "metadata": {},
   "outputs": [],
   "source": [
    "# exemplu  pygal.Line\n",
    "ob_c1 = pygal.Line(title='Note Python',\n",
    "                   x_title='Capitol',\n",
    "                   y_title='Nota',\n",
    "                   title_font_size=55,)\n",
    "ob_c1.add('Catalog', [91, 95, 87, 99, 100, 79, 100, 98])\n",
    "ob_c1.x_labels = ['C1', 'C2', 'C3', 'C4', 'C5', 'C6', 'C7', 'C8', 'C9', 'CA']\n",
    "ob_c1.render_to_file('catalog.svg')\n",
    "os.system('catalog.svg')"
   ]
  },
  {
   "cell_type": "markdown",
   "id": "9d204a66",
   "metadata": {},
   "source": [
    "### <span class=\"ita\"> <span class=\"green\"> Grafic cu bare suprapuse </span> "
   ]
  },
  {
   "cell_type": "code",
   "execution_count": null,
   "id": "755017a8",
   "metadata": {},
   "outputs": [],
   "source": [
    "# exemplu  pygal.StackedBar\n",
    "lista_v = [1, 3, 2, 4, 3, 5, 15]\n",
    "lista_i = (10, 2, 3, 4, 5, 6, 7)\n",
    "ob_c2 = pygal.StackedBar()  # bare verticale una peste alta\n",
    "ob_c2.add('Vanzari', lista_v)\n",
    "ob_c2.add('Incasari', lista_i)\n",
    "# punem etichete valorilor pe axa x\n",
    "ob_c2.x_labels = ['Lu', 'Ma', 'Mi', 'Jo', 'Vi', 'Sa', 'Du']\n",
    "ob_c2.render_to_file('vanzari.svg')\n",
    "os.system('vanzari.svg')"
   ]
  },
  {
   "cell_type": "markdown",
   "id": "78984c04",
   "metadata": {},
   "source": [
    "### <span class=\"ita\"> <span class=\"green\"> Grafice cu tari </span>"
   ]
  },
  {
   "cell_type": "code",
   "execution_count": null,
   "id": "1836576f",
   "metadata": {},
   "outputs": [],
   "source": [
    "from pygal_maps_world import maps\n",
    "\n",
    "# tari\n",
    "worldmap_chart = maps.World()\n",
    "worldmap_chart.title = 'Tari alese'\n",
    "worldmap_chart.add('Romania', ['ro'])\n",
    "worldmap_chart.add('Moldova', ['md'])\n",
    "worldmap_chart.add('Franta', ['fr'])\n",
    "worldmap_chart.add('UK', ['gb'])\n",
    "worldmap_chart.add('USA', ['us'])\n",
    "worldmap_chart.render_to_file('tari.svg')\n",
    "\n",
    "os.system('tari.svg')  # deschide fisierul"
   ]
  },
  {
   "cell_type": "markdown",
   "id": "384909bb",
   "metadata": {},
   "source": [
    "### <span class=\"ita\"> <span class=\"green\"> Grafice cu continente </span>"
   ]
  },
  {
   "cell_type": "code",
   "execution_count": null,
   "id": "91e337f4",
   "metadata": {},
   "outputs": [],
   "source": [
    "# continente\n",
    "supra = maps.SupranationalWorld()\n",
    "supra.add('Sediul central', [('europe', 1)])\n",
    "supra.add('Sediul financiar', [('north_america', 2)])\n",
    "supra.add('Sediu recuperare', [('oceania', 3)])\n",
    "supra.render_to_file('continente.svg')\n",
    "\n",
    "os.system('continente.svg')  # deschide fisierul"
   ]
  },
  {
   "cell_type": "markdown",
   "id": "2a6b81d8",
   "metadata": {},
   "source": [
    "## <span class=\"trcz\">8.8. pyinstaller <a href=\"https://pyinstaller.readthedocs.io/en/v3.5/\">Modul pentru crearea unui executabil</a>"
   ]
  },
  {
   "cell_type": "markdown",
   "id": "32d82fe5",
   "metadata": {},
   "source": [
    "###   1.     pyinstaller myscript.py                                   - creaza un director \"dist\" cu fisierele\n",
    "###   2.     pyinstaller \"C:\\\\Documents and Settings\\\\project\\\\myscript.py\"\n",
    "###   3.     pyinstaller --onefile myscript.py                         - creaza un singur fisier .exe"
   ]
  },
  {
   "cell_type": "markdown",
   "id": "46c1e1fb",
   "metadata": {},
   "source": [
    "## <span class=\"trcz\">8.9. csv <a href=\"https://docs.python.org/3.10/library/csv.html\">Prelucrare fisiere .csv</a>"
   ]
  },
  {
   "cell_type": "code",
   "execution_count": null,
   "id": "bcdd17bc",
   "metadata": {},
   "outputs": [],
   "source": [
    "# import modul\n",
    "import csv\n",
    "\n",
    "cale =r\"C:\\Users\\paul\\OneDrive\\Documents\\__PyThOn\\\""
   ]
  },
  {
   "cell_type": "markdown",
   "id": "f17ac2ee",
   "metadata": {},
   "source": [
    "### <span class=\"ita\"> <span class=\"green\"> - csv.reader() </span> - Accesare date din fisier .csv "
   ]
  },
  {
   "cell_type": "code",
   "execution_count": null,
   "id": "925ceded",
   "metadata": {},
   "outputs": [],
   "source": [
    "# listeaza fiecare rand cu separatorul \";\" intre valorile campurilor\n",
    "with open(cale + 'medici.csv') as csvfile:\n",
    "    medici_reader = csv.reader(csvfile)\n",
    "    for row in medici_reader:\n",
    "        print('; '.join(row))\n",
    "    print(type(medici_reader))"
   ]
  },
  {
   "cell_type": "code",
   "execution_count": null,
   "id": "3d16dbf3",
   "metadata": {},
   "outputs": [],
   "source": [
    "# listeaza pentru fiecare rand o lista cu valorile campurilor\n",
    "with open(cale + 'medici.csv') as csvfile:\n",
    "    medici_reader = csv.reader(csvfile)\n",
    "    for row in medici_reader:\n",
    "        print(row)"
   ]
  },
  {
   "cell_type": "code",
   "execution_count": null,
   "id": "17f23261",
   "metadata": {},
   "outputs": [],
   "source": [
    "# Prelucreaza informatiile pentru fiecare rand\n",
    "with open(cale + 'medici.csv') as csvfile:\n",
    "    medici_reader = csv.reader(csvfile)\n",
    "    for row in medici_reader:\n",
    "        print('Nume: '.ljust(14), row[0])\n",
    "        print('Prenume: '.ljust(14), row[1])\n",
    "        print('Tip: '.ljust(14), row[2])\n",
    "        print('Specialitate: '.ljust(14), row[3])\n",
    "        print('Fullname: '.ljust(14), row[0] + ' ' + row[1])\n",
    "        print('*' * 35)"
   ]
  },
  {
   "cell_type": "markdown",
   "id": "3ef9d8a2",
   "metadata": {},
   "source": [
    "### <span class=\"ita\"> <span class=\"green\"> - csv.writer() </span> - Scriere in fisier .csv "
   ]
  },
  {
   "cell_type": "code",
   "execution_count": 67,
   "id": "052f9cba",
   "metadata": {},
   "outputs": [],
   "source": [
    "with open('scrie_fisier.txt', 'w+', newline='') as handle:\n",
    "    scrie = csv.writer(handle)\n",
    "    scrie.writerow(['Corina','Popescu','1987-02-05'])\n",
    "    scrie.writerow(['Ion','Coman','1989-05-05'])\n",
    "    handle.seek(0)\n",
    "    print(handle.readlines())"
   ]
  },
  {
   "cell_type": "markdown",
   "id": "22186aa1",
   "metadata": {},
   "source": [
    "## <span class=\"trcz\">8.10. openpyxl <a href=\"https://openpyxl.readthedocs.io/en/stable\">Accesare si prelucrare fisiere .xlsx</a>"
   ]
  },
  {
   "cell_type": "markdown",
   "id": "80f8ef6e",
   "metadata": {},
   "source": [
    "### <span class=\"ita\"> <span class=\"green\"> Creare Workbook nou </span>"
   ]
  },
  {
   "cell_type": "code",
   "execution_count": null,
   "id": "986532ae",
   "metadata": {},
   "outputs": [],
   "source": [
    "# import modul\n",
    "from openpyxl import Workbook\n",
    "import datetime\n",
    "import os"
   ]
  },
  {
   "cell_type": "code",
   "execution_count": null,
   "id": "8bc67008",
   "metadata": {},
   "outputs": [],
   "source": [
    "# creare workbook obiect si pagini\n",
    "wb = Workbook()  # Creeaza obiectul care permite lucrul excel in memoria RAM\n",
    "ws = wb.active   # Lucreaza in worksheet-ul curent (ws) - il creeaza daca nu exista\n",
    "ws.title = 'Lucru'  # atribuie titlu\n",
    "ws1 = wb.create_sheet()  # Daca nu specificam numele implicit sheet, sheet1, etc\n",
    "ws2 = wb.create_sheet('Paul', 1)  # Atribuie numele si pozitia in workbook\n",
    "ws1.title = 'Ioana'  # Schimba numele sheet-ului\n",
    "\n",
    "print(wb.sheetnames)"
   ]
  },
  {
   "cell_type": "code",
   "execution_count": null,
   "id": "57d24703",
   "metadata": {},
   "outputs": [],
   "source": [
    "# populare celule\n",
    "ws['A1'] = 555  # Populare camp direct. Daca exista il rescrie\n",
    "print(ws['a1'].value)  # acceseaza valoarea\n",
    "\n",
    "ws.append((7, 8, 9))  # Adaugare pe primele n (3) coloane primul rand complet liber\n",
    "\n",
    "for i in ['a', 'b', 'c']:\n",
    "    print(ws[i + '2'].value)"
   ]
  },
  {
   "cell_type": "code",
   "execution_count": null,
   "id": "7ab72edb",
   "metadata": {},
   "outputs": [],
   "source": [
    "# lucru cu variabile\n",
    "var = ws['C1']  # atribuie o variabila corespunzatoare campului\n",
    "print(var.value)\n",
    "\n",
    "var1 = ws.cell(row=6, column=4, value=133)   # Variabila corespunzatoare campului cu asignare\n",
    "print(var1.value)\n",
    "print(ws['D6'].value)\n",
    "\n",
    "var.value = 101  # Modificare/atribuire valoare camp\n",
    "print(var.value)  # printeaza valoarea celulei"
   ]
  },
  {
   "cell_type": "code",
   "execution_count": null,
   "id": "d44f440f",
   "metadata": {},
   "outputs": [],
   "source": [
    "# append lista, primele n coloane\n",
    "ws.append([\"17\", 28, 39, 45])\n",
    "\n",
    "for i in ['a', 'b', 'c', 'd']:\n",
    "    print(ws[i + '7'].value)\n",
    "\n",
    "# append dictionar, permite selectarea coloanelor   \n",
    "ws.append({\"b\":'a', 3:'x', 6:'alina', 11: 'Feb, 6 2020'})\n",
    "\n",
    "for i in ['k', 'b', 'c', 'f']:\n",
    "    print(ws[i + '8'].value)"
   ]
  },
  {
   "cell_type": "code",
   "execution_count": null,
   "id": "35537b17",
   "metadata": {},
   "outputs": [],
   "source": [
    "# date temporale\n",
    "ws['h1'] = datetime.datetime.now()  # Populeaza data si ora, transforma automat in formatul excel\n",
    "ws['h2'] = datetime.datetime.now().strftime('%d.%m.%Y')"
   ]
  },
  {
   "cell_type": "code",
   "execution_count": null,
   "id": "2b699e41",
   "metadata": {},
   "outputs": [],
   "source": [
    "# salvare fisier\n",
    "wb.save(cale + \"sample.xlsx\")\n",
    "# accesare fisier\n",
    "os.system(cale + \"sample.xlsx\")"
   ]
  },
  {
   "cell_type": "code",
   "execution_count": null,
   "id": "bdff6934",
   "metadata": {},
   "outputs": [],
   "source": [
    "# lucru cu formule\n",
    "ws['a18'] = 302\n",
    "ws['a17'] = 417\n",
    "\n",
    "ws[\"A21\"] = \"=SUM(a17:a19)\"     \n",
    "var1.value = 1101\n",
    "ws['A6'] = \"=SUM({0},{1})\".format(var.value, var1.value)\n",
    "ws['A24'] = \"=CONCATENATE(b8,c8)\"\n",
    "\n",
    "wb.save(\"sample.xlsx\")\n",
    "os.system(cale + \"sample.xlsx\")"
   ]
  },
  {
   "cell_type": "markdown",
   "id": "f8bdbb28",
   "metadata": {},
   "source": [
    "### <span class=\"ita\"> <span class=\"green\"> Accesare si prelucrare fisier existent </span> "
   ]
  },
  {
   "cell_type": "code",
   "execution_count": null,
   "id": "922d3ec9",
   "metadata": {},
   "outputs": [],
   "source": [
    "# import modul\n",
    "from openpyxl import load_workbook\n",
    "import datetime\n",
    "import os"
   ]
  },
  {
   "cell_type": "code",
   "execution_count": null,
   "id": "d7aa0ba6",
   "metadata": {},
   "outputs": [],
   "source": [
    "# deschidem un fisier existent\n",
    "wb1 = load_workbook(cale + 'sample1.xlsx')    "
   ]
  },
  {
   "cell_type": "code",
   "execution_count": null,
   "id": "a1e3dfcf",
   "metadata": {},
   "outputs": [],
   "source": [
    "# accesare si schimbare denumire ws\n",
    "ws1 = wb1.active\n",
    "print(\"titlu inainte:\", ws1.title)\n",
    "ws1.title = 'Maricica'\n",
    "print(\"titlu dupa:\", ws1.title)"
   ]
  },
  {
   "cell_type": "code",
   "execution_count": null,
   "id": "24f2e931",
   "metadata": {},
   "outputs": [],
   "source": [
    "# prelucrare informatii\n",
    "for i in range(2,109):\n",
    "    for j in range(1,5):\n",
    "        print(ws1.cell(row=i, column=j).value)\n",
    "    print('*' * 20)"
   ]
  },
  {
   "cell_type": "code",
   "execution_count": null,
   "id": "6712108b",
   "metadata": {},
   "outputs": [],
   "source": [
    "# accesare si modificare valoare camp\n",
    "print(\"nume inainte:\", ws1['A2'].value)\n",
    "ws1['A2'] = 'Marinescu'\n",
    "print(\"nume dupa:\", ws1['A2'].value)"
   ]
  },
  {
   "cell_type": "code",
   "execution_count": null,
   "id": "4c8a7714",
   "metadata": {},
   "outputs": [],
   "source": [
    "# adaugare date\n",
    "ws1['h1'] = datetime.datetime.now().strftime('%d/%m/%y')\n",
    "\n",
    "for i in range(2, 100):\n",
    "    ws1[ 'g' + str(i)] = \"=CONCATENATE(\" + 'a' + str(i) + ',' + '\" \"' + ',' + 'b' + str(i) + \")\""
   ]
  },
  {
   "cell_type": "code",
   "execution_count": null,
   "id": "5002ce2e",
   "metadata": {},
   "outputs": [],
   "source": [
    "# salvare modificari\n",
    "wb1.save(cale + 'sample1.xlsx')\n",
    "# inchidere obiect\n",
    "wb1.close()\n",
    "# accesare\n",
    "os.system(cale + 'sample1.xlsx')"
   ]
  },
  {
   "cell_type": "markdown",
   "id": "0fb8a938",
   "metadata": {},
   "source": [
    "### <span class=\"ita\"> <span class=\"green\"> Excel + csv </span>"
   ]
  },
  {
   "cell_type": "code",
   "execution_count": null,
   "id": "5445993a",
   "metadata": {},
   "outputs": [],
   "source": [
    "# import module\n",
    "from openpyxl import Workbook\n",
    "import csv\n",
    "import datetime\n",
    "import os"
   ]
  },
  {
   "cell_type": "code",
   "execution_count": null,
   "id": "2efe463e",
   "metadata": {},
   "outputs": [],
   "source": [
    "# creaza workbook\n",
    "wb = Workbook()  # Creeaza obiectul care sustine fisierul excel\n",
    "ws = wb.active   # Lucreaza in worksheet-ul curent (ws) - il creeaza daca nu exista"
   ]
  },
  {
   "cell_type": "code",
   "execution_count": null,
   "id": "674a7778",
   "metadata": {},
   "outputs": [],
   "source": [
    "# un rand din csv populeaza un rand din excel (primele coloane, corespunzator numarului de campuri din csv)\n",
    "with open(cale + 'medici.csv') as csvfile:\n",
    "    medici_reader = csv.reader(csvfile)\n",
    "    for rand in medici_reader:\n",
    "        ws.append(rand)\n",
    "wb.save(cale + \"sample1.xlsx\")\n",
    "os.system(cale + \"sample1.xlsx\")"
   ]
  },
  {
   "cell_type": "code",
   "execution_count": null,
   "id": "eef64b06",
   "metadata": {},
   "outputs": [],
   "source": [
    "# un rand din csv populeaza un rand din excel (plus inxed prima coloana, plus fullname, plus data\n",
    "with open(cale + 'medici.csv') as csvfile:\n",
    "    medici_reader = csv.reader(csvfile)\n",
    "    indx = 0\n",
    "    for rand in medici_reader:\n",
    "        ws.append([indx] + rand + [rand[1]+ ' ' + rand[0]] \n",
    "                  + [datetime.datetime.now().strftime('%b %d, %Y')])\n",
    "        indx += 1\n",
    "wb.save(cale + \"sample1.xlsx\")\n",
    "os.system(cale + \"sample1.xlsx\")"
   ]
  },
  {
   "cell_type": "code",
   "execution_count": null,
   "id": "e796b77d",
   "metadata": {},
   "outputs": [],
   "source": [
    "# idem doar pentru chirurgie\n",
    "with open(cale + 'medici.csv') as csvfile:\n",
    "    medici_reader = csv.reader(csvfile)\n",
    "    indx = 0\n",
    "    for rand in medici_reader:\n",
    "        if rand[3] == 'o.r.l.':\n",
    "            ws.append([indx] + rand)\n",
    "        indx += 1\n",
    "wb.save(cale + \"sample1.xlsx\")\n",
    "os.system(cale + \"sample1.xlsx\")\n",
    "\n",
    "# inchidere conexiune\n",
    "# wb.close()"
   ]
  },
  {
   "cell_type": "markdown",
   "id": "3e81e793",
   "metadata": {},
   "source": [
    "## <span class=\"trcz\">8.11. pymysql - lucru cu baze de date"
   ]
  },
  {
   "cell_type": "code",
   "execution_count": null,
   "id": "3bc4355e",
   "metadata": {},
   "outputs": [],
   "source": [
    "# import modul\n",
    "import pymysql as mdb\n",
    "import sys"
   ]
  },
  {
   "cell_type": "markdown",
   "id": "fa38110c",
   "metadata": {},
   "source": [
    "### <span class=\"ita\"> <span class=\"green\"> Creare obiect connector si cursor </span> "
   ]
  },
  {
   "cell_type": "code",
   "execution_count": null,
   "id": "8f57f3e8",
   "metadata": {},
   "outputs": [],
   "source": [
    "# Credentiale conectare\n",
    "host = \"localhost\"           # 127.0.0.1\n",
    "passwd = \"paul;Paul\"\n",
    "port = 3308                  # normal portul e 3306. Daca e diferit trebuie mentionat acela\n",
    "user = \"paul\"\n",
    "dbname = \"test_python\"\n",
    "\n",
    "# creare connector\n",
    "con = mdb.connect(host = host, port = port, user = user, passwd = passwd)\n",
    "\n",
    "# creare cursor\n",
    "cursor = con.cursor()"
   ]
  },
  {
   "cell_type": "markdown",
   "id": "d7019fe6",
   "metadata": {},
   "source": [
    "### <span class=\"ita\"> <span class=\"green\"> Operatiuni DDL </span> - crearea si modificarea structurii bazei de date "
   ]
  },
  {
   "cell_type": "code",
   "execution_count": null,
   "id": "4319ee00",
   "metadata": {},
   "outputs": [],
   "source": [
    "# sterge bd\n",
    "cursor.execute(f'DROP DATABASE IF EXISTS {dbname}')\n",
    "# creaza bd\n",
    "cursor.execute('CREATE DATABASE IF NOT EXISTS test_python')\n",
    "# selecteaza bd\n",
    "cursor.execute('USE test_python')\n",
    "# creaza tabela autor\n",
    "cursor.execute(\"CREATE TABLE autor(Id INT PRIMARY KEY AUTO_INCREMENT, Name VARCHAR(25))\")"
   ]
  },
  {
   "cell_type": "markdown",
   "id": "88463544",
   "metadata": {},
   "source": [
    "### <span class=\"ita\"> <span class=\"green\"> Extragere informatii </span> - SELECT"
   ]
  },
  {
   "cell_type": "code",
   "execution_count": null,
   "id": "adbe77e1",
   "metadata": {},
   "outputs": [],
   "source": [
    "# SELECT\n",
    "# interogare select\n",
    "autor = 'select * from autor'\n",
    "# executa instructiunea\n",
    "cursor.execute(autor)\n",
    "# obtine un tuplu cu rezultatul\n",
    "rezultat = cursor.fetchall()\n",
    "print(list(rezultat))\n",
    "\n",
    "def select(statement):\n",
    "    cursor.execute(statement)\n",
    "    result = cursor.fetchall()\n",
    "    return list(result)\n",
    "\n",
    "print(select(autor))"
   ]
  },
  {
   "cell_type": "code",
   "execution_count": null,
   "id": "e04bd98a",
   "metadata": {},
   "outputs": [],
   "source": [
    "# obtine lista cu numele de coloane din tabela\n",
    "descr = cursor.description\n",
    "coloane = [descr[0][0], descr[1][0]]"
   ]
  },
  {
   "cell_type": "code",
   "execution_count": null,
   "id": "7627ddd7",
   "metadata": {},
   "outputs": [],
   "source": [
    "# prelucreaza rezultatele\n",
    "print (coloane[0], coloane[1])\n",
    "result = select(autor)\n",
    "for row in result:\n",
    "    print (str(row[0]), row[1])"
   ]
  },
  {
   "cell_type": "markdown",
   "id": "bddf5ded",
   "metadata": {},
   "source": [
    "### <span class=\"ita\"> <span class=\"green\"> Introducere inregistrari noi </span> - INSERT  "
   ]
  },
  {
   "cell_type": "code",
   "execution_count": null,
   "id": "8181960e",
   "metadata": {},
   "outputs": [],
   "source": [
    "# insert unul sau mai multe randuri\n",
    "cursor.execute(\"INSERT INTO autor(Name) VALUES('Marin Sorescu'), ('Nichita Stanescu')\")\n",
    "cursor.execute(\"INSERT INTO autor(Name) VALUES('Lucian Blaga')\")\n",
    "cursor.execute(\"INSERT INTO autor(Name) VALUES('George Toparceanu')\")\n",
    "\n",
    "# utilizare variabile si formatare\n",
    "a = \"'Mircea Cartarescu'\"\n",
    "y = \"INSERT INTO Autor(Name) VALUES({0})\".format(a)\n",
    "cursor.execute(y)\n",
    "\n",
    "x = \"INSERT INTO Autor(Name) VALUES({0})\".format('\"Mihai Eminescu\"')\n",
    "cursor.execute(x)\n",
    "\n",
    "# testare rezultate\n",
    "print(select(autor))"
   ]
  },
  {
   "cell_type": "code",
   "execution_count": null,
   "id": "ff246969",
   "metadata": {},
   "outputs": [],
   "source": [
    "# confirmare operatiuni in BD\n",
    "con.commit()"
   ]
  },
  {
   "cell_type": "markdown",
   "id": "ce18c0f3",
   "metadata": {},
   "source": [
    "### <span class=\"ita\"> <span class=\"green\"> Modificare inregistrari existente </span> -  UPDATE"
   ]
  },
  {
   "cell_type": "code",
   "execution_count": null,
   "id": "a8a16e1c",
   "metadata": {},
   "outputs": [],
   "source": [
    "# UPDATE\n",
    "cursor.execute(\"UPDATE Autor SET Name = %s WHERE Id = %s\", (\"Tudor Arghezi\", '4'))"
   ]
  },
  {
   "cell_type": "code",
   "execution_count": null,
   "id": "177e2c2c",
   "metadata": {},
   "outputs": [],
   "source": [
    "# confirmare operatiuni in BD\n",
    "con.commit()"
   ]
  },
  {
   "cell_type": "markdown",
   "id": "64cb6f0d",
   "metadata": {},
   "source": [
    "### <span class=\"ita\"> <span class=\"green\"> Stergere inregistrari </span> - DELETE "
   ]
  },
  {
   "cell_type": "code",
   "execution_count": null,
   "id": "398d1fab",
   "metadata": {},
   "outputs": [],
   "source": [
    "# DELETE\n",
    "cursor.execute(\"Delete from autor where id = 1\")"
   ]
  },
  {
   "cell_type": "code",
   "execution_count": null,
   "id": "3135118c",
   "metadata": {},
   "outputs": [],
   "source": [
    "# confirmare operatiuni in BD\n",
    "con.commit()"
   ]
  },
  {
   "cell_type": "markdown",
   "id": "36f8213f",
   "metadata": {},
   "source": [
    "### <span class=\"ita\"> <span class=\"green\"> Creare si utilizare VIEW </span>   "
   ]
  },
  {
   "cell_type": "code",
   "execution_count": null,
   "id": "983250ea",
   "metadata": {},
   "outputs": [],
   "source": [
    "# selectare baza de date\n",
    "cursor.execute(\"use orase\")\n",
    "# creare view\n",
    "cursor.execute(\"\"\"CREATE OR REPLACE VIEW OraseRomanesti AS\n",
    "    SELECT CityID, City\n",
    "    FROM cities JOIN countries USING(countryid)\n",
    "    WHERE admin_code != 'SUB' AND country = 'Romania'\"\"\")"
   ]
  },
  {
   "cell_type": "code",
   "execution_count": null,
   "id": "ebf687f3",
   "metadata": {},
   "outputs": [],
   "source": [
    "# utilizare\n",
    "cursor.execute('SELECT * FROM oraseromanesti ORDER BY 2')\n",
    "\n",
    "rezultat = cursor.fetchall()\n",
    "\n",
    "'''afisare'''\n",
    "print('{:<20}'.format('id'), '{0}'.format('loc').ljust(20))\n",
    "print('*'*35)\n",
    "for row in rezultat:\n",
    "    idl = row[0]\n",
    "    loc = row[1]\n",
    "    print('{:<20}'.format(idl), '{0}'.format(loc).ljust(20))\n",
    "print('*'*35)"
   ]
  },
  {
   "cell_type": "markdown",
   "id": "0a20fe77",
   "metadata": {},
   "source": [
    "### <span class=\"ita\"> <span class=\"green\"> Database OOP </span>   "
   ]
  },
  {
   "cell_type": "code",
   "execution_count": null,
   "id": "6f6b028e",
   "metadata": {},
   "outputs": [],
   "source": [
    "class Db:\n",
    "\n",
    "    def select(self, baza_de_date, select_var='show tables'):\n",
    "        '''Functia select primeste ca parametri:\n",
    "            - baza de date\n",
    "            - instructiunea select (poate primi si instructiuni SHOW...)\n",
    "        si returneaza result set-ul corespunzator'''  #\n",
    "        cursor.execute('Use ' + baza_de_date)\n",
    "        cursor.execute(select_var)\n",
    "        result = cursor.fetchall()\n",
    "        return result\n",
    "\n",
    "    def query(self, baza_de_date, interogare):\n",
    "        '''Functia delete primeste ca parametri:\n",
    "            - baza de date\n",
    "            - instructiunea insert, update sau delete'''  #\n",
    "        cursor.execute('Use ' + baza_de_date)\n",
    "        cursor.execute(interogare)\n",
    "        connect.commit()"
   ]
  },
  {
   "cell_type": "code",
   "execution_count": null,
   "id": "684c2b66",
   "metadata": {},
   "outputs": [],
   "source": [
    "# creare obiect\n",
    "db_obj = Db()"
   ]
  },
  {
   "cell_type": "code",
   "execution_count": null,
   "id": "ef6bf34f",
   "metadata": {},
   "outputs": [],
   "source": [
    "# insert\n",
    "insert = \"INSERT INTO autor(Name) VALUES('Nicolae Iorga')\"\n",
    "db_obj.query(dbname, insert)  # dbname e definita mai sus"
   ]
  },
  {
   "cell_type": "code",
   "execution_count": null,
   "id": "cf5c139f",
   "metadata": {},
   "outputs": [],
   "source": [
    "# select\n",
    "select = \"SELECT * FROM autor\"\n",
    "db_obj.select(dbname, select)"
   ]
  },
  {
   "cell_type": "markdown",
   "id": "8bde3196",
   "metadata": {},
   "source": [
    "### <span class=\"ita\"> <span class=\"green\"> MySQL - pymysql - errors </span> "
   ]
  },
  {
   "cell_type": "code",
   "execution_count": null,
   "id": "d51f37f3",
   "metadata": {},
   "outputs": [],
   "source": [
    "try:\n",
    "    con = mdb.connect(host, user, passwd, dbname, port)\n",
    "    cur = con.cursor()\n",
    "    nr_rd = cur.execute(\"SELECT name FROM city WHERE countrycode = 'ROM'\")\n",
    "    output = cur.fetchall()\n",
    "\n",
    "except mdb.Error as e:\n",
    "    print(str(sys.exc_info()))\n",
    "    print(\"Error {0}: {1}\".format(e.args[0], e.args[1]))\n",
    "\n",
    "else:\n",
    "    print(nr_rd)\n",
    "    print(\"Output : {0}\".format(output))\n",
    "\n",
    "finally:\n",
    "    if output:\n",
    "        for i in output:\n",
    "            print(i[0])"
   ]
  },
  {
   "cell_type": "markdown",
   "id": "f98d2f8b",
   "metadata": {},
   "source": [
    "## <span class=\"trcz\">8.12. tkinter <a href=\"https://docs.python.org/3.10/library/tkinter.html#module-tkinter\">Click aici</a>"
   ]
  },
  {
   "cell_type": "code",
   "execution_count": null,
   "id": "4476a2d2",
   "metadata": {},
   "outputs": [],
   "source": [
    "# import module\n",
    "import tkinter as tk\n",
    "from tkinter import ttk\n",
    "from datetime import datetime\n",
    "import os\n",
    "import sys\n",
    "import csv\n",
    "\n",
    "sys.path.extend([r\"C:\\Users\\paul\\OneDrive\\Documents\\__PyThOn\\08_PyP\"])\n",
    "from Cap8_28_pymysql_oop import Db"
   ]
  },
  {
   "cell_type": "code",
   "execution_count": 3,
   "id": "2ecb2936",
   "metadata": {},
   "outputs": [],
   "source": [
    "# clasa labels\n",
    "class LabelInput(tk.Frame):\n",
    "    \"\"\"A widget containing a label and input together.\"\"\"\n",
    "\n",
    "    def __init__(self, parent,               # all widgets take this argument\n",
    "                 label='',                   # text for the label part of the witget\n",
    "                 input_class=ttk.Entry, # the class of the widget we want to create or ttk.Entry default\n",
    "                 input_var=None,             # tk var to assign to the input (optional)\n",
    "                 input_args=None,       # opt dict with arg for the input constructor (optional)\n",
    "                 label_args=None,       # opt dict with arg for the label constructor (optional)\n",
    "                 **kwargs):                  # any other for the frame constructor\n",
    "        super().__init__(parent, **kwargs)\n",
    "        input_args = input_args or {}\n",
    "        label_args = label_args or {}\n",
    "        self.variable = input_var\n",
    "\n",
    "        if input_class in (ttk.Checkbutton, ttk.Button, ttk.Radiobutton):\n",
    "            input_args[\"text\"] = label\n",
    "            input_args[\"variable\"] = input_var\n",
    "        else:\n",
    "            self.label = ttk.Label(self, text=label, **label_args)\n",
    "            self.label.grid(row=0, column=0, sticky=(tk.W + tk.E))\n",
    "            input_args[\"textvariable\"] = input_var\n",
    "\n",
    "        self.input = input_class(self, **input_args)\n",
    "        self.input.grid(row=1, column=0, sticky=(tk.W + tk.E))\n",
    "        self.columnconfigure(0, weight=1)\n",
    "\n",
    "    def grid(self, sticky=(tk.E + tk.W), **kwargs):\n",
    "        super().grid(sticky=sticky, **kwargs)  # suprascrie metoda grid\n",
    "\n",
    "    def get(self):\n",
    "        if self.variable:\n",
    "            return self.variable.get()\n",
    "        elif type(self.input) == tk.Text:\n",
    "            return self.input.get('1.0', tk.END)\n",
    "        else:\n",
    "            return self.input.get()\n",
    "\n",
    "    def set(self, value, *args, **kwargs):\n",
    "        if type(self.variable) == tk.BooleanVar:\n",
    "                self.variable.set(bool(value))\n",
    "        elif self.variable:\n",
    "                self.variable.set(value, *args, **kwargs)\n",
    "        elif type(self.input).__name__.endswith('button'):\n",
    "            if value:\n",
    "                self.input.select()\n",
    "            else:\n",
    "                self.input.deselect()\n",
    "        elif type(self.input) == tk.Text:\n",
    "            self.input.delete('1.0', tk.END)\n",
    "            self.input.insert('1.0', value)\n",
    "        else:\n",
    "            self.input.delete(0, tk.END)\n",
    "            self.input.insert(0, value)\n"
   ]
  },
  {
   "cell_type": "code",
   "execution_count": null,
   "id": "dbf3fcd3",
   "metadata": {},
   "outputs": [],
   "source": [
    "# clasa formular\n",
    "class Command_form(tk.Frame, Db):\n",
    "    \"\"\"The input form for our widgets\"\"\"\n",
    "\n",
    "    def __init__(self, parent, *args, **kwargs):\n",
    "        super().__init__(parent, *args, **kwargs)\n",
    "            # A dict to keep track of input widgets\n",
    "        self.inputs = {}\n",
    "\n",
    "        persoane = tk.LabelFrame(self, text=\"Persoane\")\n",
    "\n",
    "        # line 1\n",
    "        self.inputs['Nume'] = LabelInput(\n",
    "            persoane, \"Nume\",\n",
    "            input_var = tk.StringVar()\n",
    "        )\n",
    "        self.inputs['Nume'].grid(row=0, column=0)\n",
    "\n",
    "        self.inputs['Prenume'] = LabelInput(\n",
    "            persoane, \"Prenume\",\n",
    "            input_var=tk.StringVar()\n",
    "        )\n",
    "        self.inputs['Prenume'].grid(row=0, column=1)\n",
    "\n",
    "        self.inputs['DataN'] = LabelInput(\n",
    "            persoane, \"DataN\",\n",
    "            input_class=ttk.Combobox,\n",
    "            input_var=tk.StringVar(),\n",
    "            input_args={\"values\": datetime.strftime(datetime.today(), '%Y-%m-%d')}\n",
    "            )\n",
    "        self.inputs['DataN'].grid(row=0, column=2)\n",
    "\n",
    "        # line 2\n",
    "        self.inputs['Inaltime'] = LabelInput(\n",
    "            persoane, \"Inaltime\",\n",
    "            input_class=tk.Spinbox,\n",
    "            input_var=tk.IntVar(),\n",
    "            input_args={\"from_\": 150, \"to\": 250, \"increment\": 1}\n",
    "            )\n",
    "        self.inputs['Inaltime'].grid(row=1, column=0)\n",
    "\n",
    "        self.inputs['Greutate'] = LabelInput(\n",
    "            persoane, \"Greutate\",\n",
    "            input_class=tk.Spinbox,\n",
    "            input_var=tk.IntVar(),\n",
    "            input_args={\"from_\": 50, \"to\": 100, \"increment\": 1}\n",
    "        )\n",
    "        self.inputs['Greutate'].grid(row=1, column=1)\n",
    "\n",
    "        persoane.grid(row=0, column=0, sticky=(tk.W + tk.E))      # close the first group\n",
    "        # default the form\n",
    "        self.reset()\n",
    "\n",
    "    def get(self):\n",
    "        \"\"\"Retrieve data from form as a dict\"\"\"\n",
    "\n",
    "        # We need to retrieve the data from Tkinter variables\n",
    "        # and place it in regular Python objects\n",
    "\n",
    "        data = {}\n",
    "        for key, widget in self.inputs.items():\n",
    "            data[key] = widget.get()\n",
    "        return data\n",
    "\n",
    "    def reset(self):\n",
    "        \"\"\"Resets the form entries\"\"\"\n",
    "\n",
    "        # clear all values\n",
    "        for widget in self.inputs.values():\n",
    "            widget.set('')\n"
   ]
  },
  {
   "cell_type": "code",
   "execution_count": 5,
   "id": "c39a41ed",
   "metadata": {},
   "outputs": [
    {
     "ename": "NameError",
     "evalue": "name 'Db' is not defined",
     "output_type": "error",
     "traceback": [
      "\u001b[1;31m---------------------------------------------------------------------------\u001b[0m",
      "\u001b[1;31mNameError\u001b[0m                                 Traceback (most recent call last)",
      "\u001b[1;32m~\\AppData\\Local\\Temp/ipykernel_21040/1183322653.py\u001b[0m in \u001b[0;36m<module>\u001b[1;34m\u001b[0m\n\u001b[0;32m      1\u001b[0m \u001b[1;31m# clasa aplicatie\u001b[0m\u001b[1;33m\u001b[0m\u001b[1;33m\u001b[0m\u001b[0m\n\u001b[1;32m----> 2\u001b[1;33m \u001b[1;32mclass\u001b[0m \u001b[0mApplication\u001b[0m\u001b[1;33m(\u001b[0m\u001b[0mtk\u001b[0m\u001b[1;33m.\u001b[0m\u001b[0mTk\u001b[0m\u001b[1;33m,\u001b[0m \u001b[0mDb\u001b[0m\u001b[1;33m)\u001b[0m\u001b[1;33m:\u001b[0m\u001b[1;33m\u001b[0m\u001b[1;33m\u001b[0m\u001b[0m\n\u001b[0m\u001b[0;32m      3\u001b[0m     \u001b[1;34m\"\"\"Application root window\"\"\"\u001b[0m\u001b[1;33m\u001b[0m\u001b[1;33m\u001b[0m\u001b[0m\n\u001b[0;32m      4\u001b[0m \u001b[1;33m\u001b[0m\u001b[0m\n\u001b[0;32m      5\u001b[0m     \u001b[1;32mdef\u001b[0m \u001b[0m__init__\u001b[0m\u001b[1;33m(\u001b[0m\u001b[0mself\u001b[0m\u001b[1;33m,\u001b[0m \u001b[1;33m*\u001b[0m\u001b[0margs\u001b[0m\u001b[1;33m,\u001b[0m \u001b[1;33m**\u001b[0m\u001b[0mkwargs\u001b[0m\u001b[1;33m)\u001b[0m\u001b[1;33m:\u001b[0m\u001b[1;33m\u001b[0m\u001b[1;33m\u001b[0m\u001b[0m\n",
      "\u001b[1;31mNameError\u001b[0m: name 'Db' is not defined"
     ]
    }
   ],
   "source": [
    "# clasa aplicatie\n",
    "class Application(tk.Tk, Db):\n",
    "    \"\"\"Application root window\"\"\"\n",
    "\n",
    "    def __init__(self, *args, **kwargs):\n",
    "        super().__init__(*args, **kwargs)\n",
    "\n",
    "        self.title(\"Insert persoane\")\n",
    "        self.resizable(width=True, height=True)\n",
    "\n",
    "        ttk.Label(\n",
    "            self,\n",
    "            text=\"Ne jucam cu Tk\",\n",
    "            font=(\"TkDefaultFont\", 16)\n",
    "        ).grid(row=0)\n",
    "\n",
    "        self.recordform = Command_form(self)\n",
    "        self.recordform.grid(row=1, padx=10)    # padx adauga margini stanga, dreapta\n",
    "\n",
    "        self.savebutton = ttk.Button(self, text=\"Save\", command=self.on_save)\n",
    "        self.savebutton.grid(sticky=tk.E, row=2, padx=10)\n",
    "\n",
    "        \"\"\"When writing methods or functions to be callbacks for a GUI event, \n",
    "        it's conventional to use the format on_EVENTNAME, where EVENTNAME is a string \n",
    "        describing the event triggering it. We could also name this method \n",
    "        on_save_button_click(), but for now on_save() is adequate.\n",
    "        \"\"\"\n",
    "\n",
    "        # status bar\n",
    "        self.status = tk.StringVar()\n",
    "        self.statusbar = ttk.Label(self, textvariable=self.status)\n",
    "        self.statusbar.grid(sticky=(tk.W + tk.E), row=3, padx=10)\n",
    "        \"\"\"\n",
    "        We start by creating a string variable called self.status and use this as textvariable \n",
    "        for ttk.Label. All our application will need to do to update the status is call \n",
    "        self.status.set() anywhere inside the class. Our GUI is completed by adding the status bar \n",
    "        to the bottom of the application widget.\n",
    "        \"\"\"\n",
    "        self.records_saved = 0\n",
    "\n",
    "    def on_save(self):\n",
    "        \"\"\"Handles save button clicks\"\"\"\n",
    "\n",
    "        # For now, we save to a hardcoded filename with a datestring.\n",
    "        # If it doesnt' exist, create it,\n",
    "        # otherwise just append to the existing file\n",
    "        datestring = datetime.today().strftime(\"%Y-%m-%d\")\n",
    "        filename = \"command{}.csv\".format(datestring)\n",
    "        newfile = not os.path.exists(filename)\n",
    "\n",
    "        data = self.recordform.get()\n",
    "        var_insert = \"insert into ppl(nume, prenume, datan, inaltime, greutate) \\\n",
    "            values({0},{1},{2},{3},{4})\".format(\n",
    "            \"'\" + data['Nume'] + \"'\",\n",
    "            \"'\" + data['Prenume'] + \"'\",\n",
    "            \"'\" + data['DataN'] + \"'\",\n",
    "            data['Inaltime'],\n",
    "            data['Greutate'])\n",
    "\n",
    "        self.query(\"test_python\", var_insert)\n",
    "\n",
    "        with open(filename, 'a') as fh:\n",
    "            csvwriter = csv.DictWriter(fh, fieldnames=data.keys())\n",
    "            if newfile:\n",
    "                csvwriter.writeheader()\n",
    "            csvwriter.writerow(data)\n",
    "\n",
    "        self.records_saved += 1\n",
    "        self.status.set(\n",
    "            \"{0} records saved this session\".format(self.records_saved))\n",
    "        self.recordform.reset()"
   ]
  },
  {
   "cell_type": "code",
   "execution_count": null,
   "id": "a477bb4b",
   "metadata": {},
   "outputs": [],
   "source": [
    "# rulare aplicatie\n",
    "app = Application()\n",
    "app.mainloop()"
   ]
  }
 ],
 "metadata": {
  "kernelspec": {
   "display_name": "Python 3 (ipykernel)",
   "language": "python",
   "name": "python3"
  },
  "language_info": {
   "codemirror_mode": {
    "name": "ipython",
    "version": 3
   },
   "file_extension": ".py",
   "mimetype": "text/x-python",
   "name": "python",
   "nbconvert_exporter": "python",
   "pygments_lexer": "ipython3",
   "version": "3.9.7"
  }
 },
 "nbformat": 4,
 "nbformat_minor": 5
}
