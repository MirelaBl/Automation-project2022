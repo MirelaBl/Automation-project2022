{
 "cells": [
  {
   "cell_type": "code",
   "execution_count": 1,
   "id": "3969ceae",
   "metadata": {},
   "outputs": [
    {
     "data": {
      "text/html": [
       "\n",
       "<style>\n",
       "     .blue {\n",
       "         color: blue;\n",
       "     }\n",
       "     \n",
       "    .orange {\n",
       "         color: orange;\n",
       "     }\n",
       "     \n",
       "     .red {\n",
       "         color: red;\n",
       "     }\n",
       "\n",
       "     .trcz {\n",
       "         color:#48CAE4;\n",
       "     }\n",
       "\n",
       "     .trcz a {\n",
       "         color: inherit;\n",
       "     }\n",
       "\n",
       "     .green {\n",
       "         color: green;\n",
       "     }\n",
       "\n",
       "     .ita {\n",
       "         font-style: italic;\n",
       "     }\n",
       "     \n",
       "     .vio {\n",
       "        font-style: violet;\n",
       "     }\n",
       "\n",
       "    .table_std {\n",
       "        border-collapse: collapse;      \n",
       "    }\n",
       "    \n",
       "    .table_std,\n",
       "    .table_std td,\n",
       "    .table_std th {\n",
       "        border: solid 2px #70C5D7;\n",
       "    }\n",
       "    \n",
       "    .table_std tr:nth-child(even) {\n",
       "        background-color: #C4F3FD;\n",
       "    }\n",
       "    \n",
       "    .table_std tr:nth-child(odd) {\n",
       "        background-color: #70C5D7;\n",
       "    }\n",
       "    \n",
       "    .table_std td {\n",
       "        font: bold 20px sans-serif;\n",
       "        text-align: left;\n",
       "        text-indent: 10px;\n",
       "    }\n",
       "    \n",
       "    .table_std th {\n",
       "        font: bold 20px sans-serif;\n",
       "        text-align: center;\n",
       "    }\n",
       "\n",
       "\n",
       "\n",
       "\n",
       "</style>\n"
      ],
      "text/plain": [
       "<IPython.core.display.HTML object>"
      ]
     },
     "execution_count": 1,
     "metadata": {},
     "output_type": "execute_result"
    }
   ],
   "source": [
    "from ipythoncss import HTML, STILURI\n",
    "HTML(STILURI)"
   ]
  },
  {
   "cell_type": "code",
   "execution_count": null,
   "id": "47a85b6b",
   "metadata": {},
   "outputs": [],
   "source": [
    "import sys\n",
    "sys.path\n",
    "sys.path.extend(['C:\\\\Users\\\\paul\\\\OneDrive\\\\Documents\\\\__PyThOn'\n",
    "            'C:\\\\Users\\\\paul\\\\OneDrive\\\\Documents\\\\__PyThOn\\\\0 PyP\\\\_module',\n",
    "            'C:\\\\Users\\\\paul\\\\OneDrive\\\\Documents\\\\__PyThOn\\\\venv\\\\Lib\\\\site-packages'])"
   ]
  },
  {
   "cell_type": "markdown",
   "id": "058bac7d",
   "metadata": {},
   "source": [
    "# <span class=\"blue\">7.1. Module I"
   ]
  },
  {
   "cell_type": "markdown",
   "id": "dbf6b913",
   "metadata": {},
   "source": [
    "## <span class=\"trcz\">7.1.1. Ce este un modul?"
   ]
  },
  {
   "cell_type": "markdown",
   "id": "535d8dc3",
   "metadata": {},
   "source": [
    "### Un modul este un un program care este conceput pentru a fi reutilizat;\n",
    "\n",
    "### Accesarea resurselor din modul se realizeaza prin cuvantul cheie import;\n",
    "\n",
    "### Clasele, functiile sau constantele modulului importat sunt disponibile/utilizabile imediat dupa import;\n",
    "\n",
    "### Exista module standard, care sunt in librarii existente inca de la instalarea Python si module non standard, care necesita instalare. \n"
   ]
  },
  {
   "cell_type": "markdown",
   "id": "975a2e48",
   "metadata": {},
   "source": [
    "## <span class=\"trcz\">7.1.2. Module standard"
   ]
  },
  {
   "cell_type": "markdown",
   "id": "eaa08a7e",
   "metadata": {},
   "source": [
    "### Un modul standard are avantajul ca este disponibil imediat dupa instalarea python, fara sa fie nevoie de alte actiuni;\n",
    "\n",
    "### Un alt avantaj al modulelor standard este ca au documentatie si exemple chiar pe pagina oficiala python;\n",
    "\n",
    "### Documentatie module standard: <a href=\"https://docs.python.org/3.10/py-modindex.html\">Click aici</a>  \n",
    "\n",
    "### Exemple module standard: time, csv, random, math, os, etc.\n",
    " "
   ]
  },
  {
   "cell_type": "markdown",
   "id": "3ef56583",
   "metadata": {},
   "source": [
    "## <span class=\"trcz\">7.1.3. Module non standard"
   ]
  },
  {
   "cell_type": "markdown",
   "id": "8bfc20f9",
   "metadata": {},
   "source": [
    "### Module non standard : <a href=\"https://pypi.org\">Click aici</a> - 363 k+\n",
    "\n",
    "### Modulele non standard necesita instalare inainte de utilizare\n",
    "\n",
    "### Pentru instalare, avem mai multe posibilitati:\n",
    "### <span class=\"green\">- python setup.py install(din shell, directorul proiectului)\n",
    "### <span class=\"green\">- pip[3] install nume_modul (din shell) \t\n",
    "### <span class=\"green\">- copierea modulului intr-un director specific librariilor python sau in directorul radacina al proiectului\n",
    " "
   ]
  },
  {
   "cell_type": "markdown",
   "id": "3fc12cee",
   "metadata": {},
   "source": [
    "## <span class=\"trcz\">7.1.4. Crearea unui modul"
   ]
  },
  {
   "cell_type": "markdown",
   "id": "ce046819",
   "metadata": {},
   "source": [
    "### Vom crea un fisier .py cu numele ales pentru modul. Fisierul va continue constante, functii, clase. Alegeti cu grija numele pentru a nu intra in conflict cu numele altor module\n",
    "\n",
    "### Ultima instructiune din fisier va fi:\n",
    "\t\tif __name__ == \"__main__\":\n",
    "\t\t\tbloc de instructiuni\n",
    "\n",
    "### Fisierul va fi salvat/copiat in subdirectorul ‘Lib’ din directorul unde este instalat Python sau in directorul Radacina al proiectului;\n",
    "\n",
    "### Exercitiul: Cap7_01_creare_modul.py"
   ]
  },
  {
   "cell_type": "markdown",
   "id": "53caf3d2",
   "metadata": {},
   "source": [
    "## <span class=\"trcz\">7.1.5. Accesarea resurselor unui modul"
   ]
  },
  {
   "cell_type": "markdown",
   "id": "87f5d32b",
   "metadata": {},
   "source": [
    "### <span class=\"ita\"> - Importul intregului modul"
   ]
  },
  {
   "cell_type": "code",
   "execution_count": null,
   "id": "476c3899",
   "metadata": {},
   "outputs": [],
   "source": [
    "import nume_modul [as alias ][, alt_modul]"
   ]
  },
  {
   "cell_type": "code",
   "execution_count": null,
   "id": "f6d8dc15",
   "metadata": {},
   "outputs": [],
   "source": []
  },
  {
   "cell_type": "markdown",
   "id": "b3352281",
   "metadata": {},
   "source": [
    "### <span class=\"ita\"> - Apelare:"
   ]
  },
  {
   "cell_type": "code",
   "execution_count": null,
   "id": "34a54f67",
   "metadata": {},
   "outputs": [],
   "source": [
    "nume_modul.nume_functie() \n",
    "alias.nume_functie"
   ]
  },
  {
   "cell_type": "code",
   "execution_count": null,
   "id": "26f95575",
   "metadata": {},
   "outputs": [],
   "source": []
  },
  {
   "cell_type": "markdown",
   "id": "294107ff",
   "metadata": {},
   "source": [
    "### <span class=\"ita\"> - Importul unor resurse din modul"
   ]
  },
  {
   "cell_type": "code",
   "execution_count": null,
   "id": "f2223a0d",
   "metadata": {},
   "outputs": [],
   "source": [
    "from nume_modul import nume_functie [as alias ] "
   ]
  },
  {
   "cell_type": "code",
   "execution_count": null,
   "id": "a392f7bb",
   "metadata": {},
   "outputs": [],
   "source": []
  },
  {
   "cell_type": "markdown",
   "id": "644eb8f1",
   "metadata": {},
   "source": [
    "### <span class=\"ita\"> - Apelare:"
   ]
  },
  {
   "cell_type": "code",
   "execution_count": null,
   "id": "77334d02",
   "metadata": {},
   "outputs": [],
   "source": [
    "nume_functie()"
   ]
  },
  {
   "cell_type": "code",
   "execution_count": null,
   "id": "ef28f411",
   "metadata": {},
   "outputs": [],
   "source": []
  },
  {
   "cell_type": "markdown",
   "id": "efba33f7",
   "metadata": {},
   "source": [
    "## <span class=\"trcz\">7.1.6. Crearea unui package"
   ]
  },
  {
   "cell_type": "markdown",
   "id": "72426c54",
   "metadata": {},
   "source": [
    "### O colectie de module se numeste package;\n",
    "\n",
    "### Pentru a crea un package urmam cativa pasi simpli:\n",
    "### <span class=\"green\">1. Cream un director cu numele package-ului (lower case);\n",
    "### <span class=\"green\">2. Punem modulele in in fisiere separate .py in acest \t\t\t    director;\n",
    "### <span class=\"green\">3. Cream un fisier cu numele __init__.py in acelasi \t\t\t\t    director. Fisierul va fi gol sau va contine un docstring;\n",
    "### <span class=\"green\">4. Directorul package-ului se muta/copiaza intr-unul din \t\t    directoarele cu librarii Python sau in directorul principal \t\t    al aplicatiei (proiectului)."
   ]
  },
  {
   "cell_type": "markdown",
   "id": "9e6aa5fe",
   "metadata": {},
   "source": [
    "## <span class=\"trcz\">7.1.7. Accesarea resurselor unui package"
   ]
  },
  {
   "cell_type": "code",
   "execution_count": null,
   "id": "a37c8b74",
   "metadata": {},
   "outputs": [],
   "source": [
    "import nume_pkg.nume_modul \n",
    "nume_ pkg.nume_modul.nume_ functie()"
   ]
  },
  {
   "cell_type": "code",
   "execution_count": null,
   "id": "7dfd30cb",
   "metadata": {},
   "outputs": [],
   "source": []
  },
  {
   "cell_type": "code",
   "execution_count": null,
   "id": "ce5da03d",
   "metadata": {},
   "outputs": [],
   "source": [
    "from nume_pkg.nume_modul import nume_functie\n",
    "nume_functie()"
   ]
  },
  {
   "cell_type": "code",
   "execution_count": null,
   "id": "2869fc85",
   "metadata": {},
   "outputs": [],
   "source": []
  },
  {
   "cell_type": "code",
   "execution_count": null,
   "id": "04c39a20",
   "metadata": {},
   "outputs": [],
   "source": [
    "from nume_ pkg.nume_modul import nume_functie as alias\n",
    "alias()"
   ]
  },
  {
   "cell_type": "code",
   "execution_count": null,
   "id": "9e575e79",
   "metadata": {},
   "outputs": [],
   "source": []
  },
  {
   "cell_type": "markdown",
   "id": "a43e2a6e",
   "metadata": {},
   "source": [
    "# <span class=\"blue\">7.2. Module utile"
   ]
  },
  {
   "cell_type": "markdown",
   "id": "ae428e1f",
   "metadata": {},
   "source": [
    "## <span class=\"trcz\">7.2.1. platform - modul standard <a href=\"https://docs.python.org/3.10/library/platform.html#module-platform\">Click aici</a>"
   ]
  },
  {
   "cell_type": "markdown",
   "id": "9dce340a",
   "metadata": {},
   "source": [
    "### <span class=\"ita\"> <span class=\"green\"> - platform.machine() </span> - arhitectura hardware a computerului"
   ]
  },
  {
   "cell_type": "code",
   "execution_count": null,
   "id": "184e8aeb",
   "metadata": {},
   "outputs": [],
   "source": [
    "import platform\n",
    "print(platform.machine())"
   ]
  },
  {
   "cell_type": "markdown",
   "id": "26c0c9a8",
   "metadata": {},
   "source": [
    "### <span class=\"ita\"> <span class=\"green\"> platform.system() </span> - tipul sistemului de operare"
   ]
  },
  {
   "cell_type": "code",
   "execution_count": null,
   "id": "8576668b",
   "metadata": {},
   "outputs": [],
   "source": [
    "print(platform.system())"
   ]
  },
  {
   "cell_type": "markdown",
   "id": "88f77949",
   "metadata": {},
   "source": [
    "### <span class=\"ita\"> <span class=\"green\"> platform.win32_ver() </span> - versiunea de windows si alte informatii"
   ]
  },
  {
   "cell_type": "code",
   "execution_count": null,
   "id": "bdb90302",
   "metadata": {},
   "outputs": [],
   "source": [
    "print(platform.win32_ver())\n",
    "platform.mac_ver()  # pentru mac"
   ]
  },
  {
   "cell_type": "markdown",
   "id": "b5eab181",
   "metadata": {},
   "source": [
    "### <span class=\"ita\"> <span class=\"green\"> platform.node() </span> - numele dispozitivului in retea"
   ]
  },
  {
   "cell_type": "code",
   "execution_count": null,
   "id": "9b36915c",
   "metadata": {},
   "outputs": [],
   "source": [
    "print(platform.node())"
   ]
  },
  {
   "cell_type": "markdown",
   "id": "2f48e792",
   "metadata": {},
   "source": [
    "###  <span class=\"ita\"> <span class=\"green\"> platform.version_tuple() </span> - versiunea de python (tuplu)"
   ]
  },
  {
   "cell_type": "code",
   "execution_count": null,
   "id": "6877f5e7",
   "metadata": {},
   "outputs": [],
   "source": [
    "print(platform.puthon_version_tuple())"
   ]
  },
  {
   "cell_type": "markdown",
   "id": "a127846e",
   "metadata": {},
   "source": [
    "### <span class=\"ita\"> <span class=\"green\"> platform.processor() </span> - informatii despre procesor"
   ]
  },
  {
   "cell_type": "code",
   "execution_count": null,
   "id": "1881f972",
   "metadata": {},
   "outputs": [],
   "source": [
    "print(platform.processor())"
   ]
  },
  {
   "cell_type": "markdown",
   "id": "4e265d1b",
   "metadata": {},
   "source": [
    "## <span class=\"trcz\">7.2.2. sys - modul standard <a href=\"https://docs.python.org/3.10/library/sys.html#module-sys\">Click aici</a>"
   ]
  },
  {
   "cell_type": "markdown",
   "id": "74d3b939",
   "metadata": {},
   "source": [
    "### <span class=\"ita\"> <span class=\"green\"> sys.version </span> - versiunea de Python instalata"
   ]
  },
  {
   "cell_type": "code",
   "execution_count": null,
   "id": "bc93e3d9",
   "metadata": {},
   "outputs": [],
   "source": [
    "import sys\n",
    "print(sys.version)"
   ]
  },
  {
   "cell_type": "markdown",
   "id": "53246a1c",
   "metadata": {},
   "source": [
    "### <span class=\"ita\"> <span class=\"green\"> sys.platform </span> - info sistem de operare (win32, linux, darwin)"
   ]
  },
  {
   "cell_type": "code",
   "execution_count": null,
   "id": "5f8f01ab",
   "metadata": {},
   "outputs": [],
   "source": [
    "print(sys.platform)"
   ]
  },
  {
   "cell_type": "markdown",
   "id": "84f7c66d",
   "metadata": {},
   "source": [
    "### <span class=\"ita\"> <span class=\"green\"> sys.executable </span> - calea catre executabilul python"
   ]
  },
  {
   "cell_type": "code",
   "execution_count": null,
   "id": "5e4313e7",
   "metadata": {},
   "outputs": [],
   "source": [
    "print(sys.executable)"
   ]
  },
  {
   "cell_type": "markdown",
   "id": "6a191a22",
   "metadata": {},
   "source": [
    "### <span class=\"ita\"> <span class=\"green\"> sys.path </span> - caile unde cauta module. Se pot adauga alte cai"
   ]
  },
  {
   "cell_type": "code",
   "execution_count": null,
   "id": "0424ae54",
   "metadata": {},
   "outputs": [],
   "source": [
    "sys.path.append(r\"C:\\Users\\paul\\OneDrive\\Documents\\__PyThOn\")\n",
    "lp(sys.path)\n",
    "from modululmeu import lp\n",
    "sys.path"
   ]
  },
  {
   "cell_type": "markdown",
   "id": "1e605c18",
   "metadata": {},
   "source": [
    "### <span class=\"ita\"> <span class=\"green\"> sys.exit() </span> - iesire controlata din aplicatie"
   ]
  },
  {
   "cell_type": "code",
   "execution_count": null,
   "id": "21b95fad",
   "metadata": {},
   "outputs": [],
   "source": [
    "sys.exit()"
   ]
  },
  {
   "cell_type": "markdown",
   "id": "83bae801",
   "metadata": {},
   "source": [
    "## <span class=\"trcz\">7.2.3. os - modul standard <a href=\"https://docs.python.org/3.10/library/sys.html#module-sys\">Click aici</a>"
   ]
  },
  {
   "cell_type": "markdown",
   "id": "f8fc380e",
   "metadata": {},
   "source": [
    "### <span class=\"ita\"> <span class=\"green\"> os.getcwd(), os.chdir(cale) </span> - afisare/schimbare directorul curent"
   ]
  },
  {
   "cell_type": "code",
   "execution_count": null,
   "id": "13969f6a",
   "metadata": {},
   "outputs": [],
   "source": [
    "import os\n",
    "print('Inainte', os.getcwd())\n",
    "os.chdir(\"C:/aae\")\n",
    "print('Dupa', os.getcwd())\n",
    "os.chdir(\"C:\\\\Users\\\\paul\\\\OneDrive\\\\Documents\\\\__PyThOn\")"
   ]
  },
  {
   "cell_type": "markdown",
   "id": "7746d910",
   "metadata": {},
   "source": [
    "### <span class=\"ita\"> <span class=\"green\"> os.system(command) </span> - comenzi de system"
   ]
  },
  {
   "cell_type": "code",
   "execution_count": null,
   "id": "7f7e91e9",
   "metadata": {},
   "outputs": [],
   "source": [
    "result = os.system('ping 8.8.8.8')\n",
    "print(result, \"\\n\", \"-\" * 25)\n",
    "print(os.system('nslookup infoacademy.net'))"
   ]
  },
  {
   "cell_type": "markdown",
   "id": "adba6ef4",
   "metadata": {},
   "source": [
    "### <span class=\"ita\"> <span class=\"green\"> os.listdir(director) </span> - lista cu fisierele din director"
   ]
  },
  {
   "cell_type": "code",
   "execution_count": null,
   "id": "76000791",
   "metadata": {},
   "outputs": [],
   "source": [
    "os.listdir('C:\\\\Users\\\\paul\\\\OneDrive\\\\Documents\\\\__PyThOn\\\\07_PyP') "
   ]
  },
  {
   "cell_type": "code",
   "execution_count": null,
   "id": "1515e967",
   "metadata": {},
   "outputs": [],
   "source": [
    "for i in os.listdir(r'C:\\\\Users\\\\paul\\\\OneDrive\\\\Documents\\\\__PyThOn\\\\pkg'):  # cautare fisier  \n",
    "    if i == 'cub.py':\n",
    "        from pkg.cub import cub\n",
    "        print(cub(int(input('introduceti numarul'))))"
   ]
  },
  {
   "cell_type": "markdown",
   "id": "df1df113",
   "metadata": {},
   "source": [
    "### <span class=\"ita\"> <span class=\"green\"> os.mkdir(), os.rmdir() </span> - creaza/sterge directorul/fisierul"
   ]
  },
  {
   "cell_type": "code",
   "execution_count": null,
   "id": "3e01e281",
   "metadata": {},
   "outputs": [],
   "source": [
    "os.mkdir(\"c:/test\")   # creaza directorul\n",
    "# os.remove('c:/test/test003.py')  # sterge fisierul\n",
    "os.rmdir('c:/test')   # sterge directorul, DACA NU ARE FISIERE"
   ]
  },
  {
   "cell_type": "markdown",
   "id": "bedd56ee",
   "metadata": {},
   "source": [
    "### <span class=\"ita\"> <span class=\"green\"> os.stat() </span> - statistici fisiere"
   ]
  },
  {
   "cell_type": "code",
   "execution_count": null,
   "id": "6040d079",
   "metadata": {},
   "outputs": [],
   "source": [
    "print(os.stat(\"C:\\\\Users\\\\paul\\\\OneDrive\\\\Documents\\\\__PyThOn\\\\guta.txt\"))\n",
    "print(os.path.getsize(\"C:\\\\Users\\\\paul\\\\OneDrive\\\\Documents\\\\__PyThOn\\\\guta.txt\"))"
   ]
  },
  {
   "cell_type": "markdown",
   "id": "15ee4d9a",
   "metadata": {},
   "source": [
    "### <span class=\"ita\"> <span class=\"green\"> os.path.split(cale), os.path.splitext(fisier) </span> - split director/fisier si split nume/extensie"
   ]
  },
  {
   "cell_type": "code",
   "execution_count": null,
   "id": "b5c176d1",
   "metadata": {},
   "outputs": [],
   "source": [
    "split_director_fisier = os.path.split('C:\\\\Users\\\\paul\\\\OneDrive\\\\Documents\\\\__PyThOn\\\\guta.txt')\n",
    "print(split_director_fisier)\n",
    "split_nume_extensie = os.path.splitext(split_director_fisier[1])\n",
    "print(split_nume_extensie)\n",
    "\n",
    "for i in os.listdir('C:\\\\Users\\\\paul\\\\OneDrive\\\\Documents\\\\__PyThOn\\\\07_PyP'):\n",
    "    if os.path.splitext(i)[1] == '.pptx':\n",
    "        print(i)"
   ]
  },
  {
   "cell_type": "markdown",
   "id": "8bddd732",
   "metadata": {},
   "source": [
    "## <span class=\"trcz\">7.2.4. random - modul standard <a href=\"https://docs.python.org/3.10/library/random.html#module-random\">Click aici</a>"
   ]
  },
  {
   "cell_type": "markdown",
   "id": "2b0b201e",
   "metadata": {},
   "source": [
    "### <span class=\"ita\"> <span class=\"green\"> random.choice(data) </span> - alege un element aleatoriu"
   ]
  },
  {
   "cell_type": "code",
   "execution_count": null,
   "id": "8d44c477",
   "metadata": {},
   "outputs": [],
   "source": [
    "import random\n",
    "random.choice('Astazi e ziua ta')"
   ]
  },
  {
   "cell_type": "code",
   "execution_count": null,
   "id": "1b4d12bc",
   "metadata": {},
   "outputs": [],
   "source": [
    "random.choice(['alina', 'danseaza', 'cu', 'tine', 'sau', 'cu', 'cine', 'vrea', 'ea'])"
   ]
  },
  {
   "cell_type": "code",
   "execution_count": null,
   "id": "adc1981e",
   "metadata": {},
   "outputs": [],
   "source": [
    "d = dict(enumerate(['alina', 'danseaza', 'cu', 'tine', 'sau', 'cu', 'cine', 'vrea', 'ea'], start= 1))\n",
    "random.choice(d)"
   ]
  },
  {
   "cell_type": "markdown",
   "id": "9cc6b80f",
   "metadata": {},
   "source": [
    "### <span class=\"ita\"> <span class=\"green\"> random.randrange([start,] end [, step]) </span> - alege un numar intreg aleatoriu  "
   ]
  },
  {
   "cell_type": "code",
   "execution_count": null,
   "id": "4fa97501",
   "metadata": {},
   "outputs": [],
   "source": [
    "start, end, step = 3, 30, 5\n",
    "print(random.randrange(end))                 # intre [0 - end)\n",
    "print(random.randrange(start, end))          # intre [start-end)\n",
    "print(random.randrange(start, end, step))    # intre [start-end cu pass)"
   ]
  },
  {
   "cell_type": "markdown",
   "id": "7d64fd35",
   "metadata": {},
   "source": [
    "### <span class=\"ita\"> <span class=\"green\"> random.random() </span> - numar aleator intre [0.0-1.0)"
   ]
  },
  {
   "cell_type": "code",
   "execution_count": null,
   "id": "f9f2965d",
   "metadata": {},
   "outputs": [],
   "source": [
    "random.random()"
   ]
  },
  {
   "cell_type": "markdown",
   "id": "e62de134",
   "metadata": {},
   "source": [
    "### <span class=\"ita\"> <span class=\"green\"> random.randint() </span> - numar aleator intre [n-m], capetele incluse"
   ]
  },
  {
   "cell_type": "code",
   "execution_count": null,
   "id": "43fb05bc",
   "metadata": {},
   "outputs": [],
   "source": [
    "random.randint(999, 1000)"
   ]
  },
  {
   "cell_type": "markdown",
   "id": "b8f101d9",
   "metadata": {},
   "source": [
    "## <span class=\"trcz\">7.2.5. tempfile - modul standard <a href=\"https://docs.python.org/3.10/library/tempfile.html#module-tempfile\">Click aici</a>"
   ]
  },
  {
   "cell_type": "markdown",
   "id": "ba1e9154",
   "metadata": {},
   "source": [
    "### <span class=\"ita\"> <span class=\"green\"> tempfile.TemporaryFile() </span> - creaza un fisier temporar"
   ]
  },
  {
   "cell_type": "code",
   "execution_count": null,
   "id": "1e26058c",
   "metadata": {},
   "outputs": [],
   "source": [
    "import tempfile\n",
    "t1 = tempfile.TemporaryFile()      # creaza un fisier temporar care va fi sters automat la inchiderea aplicatiei\n",
    "print(t1.__dict__[\"name\"])\n",
    "\n",
    "t1.write(b'ana are cirese')\n",
    "t1.seek(0)\n",
    "t1.read()"
   ]
  },
  {
   "cell_type": "markdown",
   "id": "c1ff9a5d",
   "metadata": {},
   "source": [
    "### <span class=\"ita\"> <span class=\"green\"> tempfile.TemporaryDirectory() </span> - creaza un director temporar "
   ]
  },
  {
   "cell_type": "code",
   "execution_count": null,
   "id": "f7fa6509",
   "metadata": {},
   "outputs": [],
   "source": [
    "d1 = tempfile.TemporaryDirectory()\n",
    "d1.__dict__['name']"
   ]
  },
  {
   "cell_type": "markdown",
   "id": "cc9b1d46",
   "metadata": {},
   "source": [
    "### <span class=\"ita\"> <span class=\"green\"> tempfile.gettempdir(), tempfile.tempdir </span> - returneaza/schimba directorul unde se afle fisierele temporare "
   ]
  },
  {
   "cell_type": "code",
   "execution_count": null,
   "id": "c600c32a",
   "metadata": {},
   "outputs": [],
   "source": [
    "tempfile.gettempdir()\n",
    "tempfile.tempdir = r'C:\\Users\\paul\\AppData\\Local\\Temp'"
   ]
  },
  {
   "cell_type": "markdown",
   "id": "ee2b3564",
   "metadata": {},
   "source": [
    "### <span class=\"ita\"> <span class=\"green\"> tempfile.mkstemp()  </span> - creaza un fisier care nu va fi sters automat "
   ]
  },
  {
   "cell_type": "code",
   "execution_count": null,
   "id": "2f457ee7",
   "metadata": {},
   "outputs": [],
   "source": [
    "temp = tempfile.mkstemp()         # cream fisierul. Variabila temp stocheaza calea. Trebuie sters manual\n",
    "print(temp)\n",
    "\n",
    "fisier = open(temp[1], 'w+')\n",
    "fisier.write('''Astazi e ziua ta,\\n\\tZi frumoasa ca tine''')\n",
    "\n",
    "fisier = open(temp[1], 'r+')\n",
    "fisier.seek(0)\n",
    "fisier.read()\n",
    "fisier.close()"
   ]
  },
  {
   "cell_type": "markdown",
   "id": "a90f2390",
   "metadata": {},
   "source": [
    "## <span class=\"trcz\">7.2.6. pickle - modul standard <a href=\"https://docs.python.org/3.10/library/pickle.html#module-pickle\">Click aici</a>"
   ]
  },
  {
   "cell_type": "markdown",
   "id": "77518519",
   "metadata": {},
   "source": [
    "### pickle transforma diferite obiecte in byte stream si invers (pickling, serializare);\n",
    "\n",
    "### tipuri de date utilizabile cu pickle: string, tuple, list, set, dict, obiecte, etc.\n",
    " "
   ]
  },
  {
   "cell_type": "code",
   "execution_count": null,
   "id": "83a2c081",
   "metadata": {},
   "outputs": [],
   "source": [
    "import pickle\n",
    "\n",
    "var1 = {1: \"Gina\", 2: \"Dragos\", 3: \"Alina\", 4: \"Marian\"}\n",
    "var2 = [\"Popa\", \"Miulescu\", \"Vasile\", \"Coman\"]\n",
    "var3 = 100\n",
    "var4 = 'string'"
   ]
  },
  {
   "cell_type": "markdown",
   "id": "63c250b4",
   "metadata": {},
   "source": [
    "### <span class=\"ita\"> <span class=\"green\"> pickle.dump(variable, handle) </span> - serializare - stocare date"
   ]
  },
  {
   "cell_type": "code",
   "execution_count": null,
   "id": "8114f9f9",
   "metadata": {},
   "outputs": [],
   "source": [
    "fisier = open(\"pickle.db\", \"wb\")\n",
    "# dump data\n",
    "pickle.dump(var1, fisier)\n",
    "pickle.dump(var2, fisier)\n",
    "pickle.dump(var3, fisier)\n",
    "pickle.dump(var4, fisier)"
   ]
  },
  {
   "cell_type": "markdown",
   "id": "0a9a2c2b",
   "metadata": {},
   "source": [
    "###  <span class=\"ita\"> <span class=\"green\"> pickle.load(handle) </span> - deserializare - accesare date"
   ]
  },
  {
   "cell_type": "code",
   "execution_count": null,
   "id": "9fd7a95f",
   "metadata": {},
   "outputs": [],
   "source": [
    "accesare = open(\"pickle.db\", \"rb\")\n",
    "# load data\n",
    "copy_var1 = pickle.load(accesare)\n",
    "copy_var2 = pickle.load(accesare)\n",
    "copy_var3 = pickle.load(accesare)\n",
    "copy_var4 = pickle.load(accesare)\n",
    "\n",
    "if var1 == copy_var1 and var2 == copy_var2 and var3 == copy_var3 and var4 == copy_var4:\n",
    "    print('Operatiune reusita!')"
   ]
  },
  {
   "cell_type": "code",
   "execution_count": null,
   "id": "5c7a5d38",
   "metadata": {},
   "outputs": [],
   "source": [
    "# datele sunt accesibile repetat ca si intr-o baza de date sau intr-un fisier text\n",
    "accesare.seek(0)\n",
    "for i in range(1, 5):\n",
    "    print(pickle.load(accesare))"
   ]
  },
  {
   "cell_type": "markdown",
   "id": "74acb688",
   "metadata": {},
   "source": [
    "## <span class=\"trcz\">7.2.7. collections - modul standard <a href=\"https://docs.python.org/3.10/library/collections.html#module-collections\">Click aici</a>"
   ]
  },
  {
   "cell_type": "code",
   "execution_count": null,
   "id": "ccd82b1f",
   "metadata": {},
   "outputs": [],
   "source": [
    "from collections import ChainMap, namedtuple, Counter\n",
    "\n",
    "lista = [1, 2, 2, 3, 3, 3, 4, 4, 4, 4, 7, 7, 7]\n",
    "dictionar = {\"rosii\": 5, \"castraveti\": 3, \"piersici\": 7}"
   ]
  },
  {
   "cell_type": "markdown",
   "id": "aecda227",
   "metadata": {},
   "source": [
    "### <span class=\"ita\"> <span class=\"green\"> - Counter </span>  - numara aparitiile elementelor intr-o lista"
   ]
  },
  {
   "cell_type": "code",
   "execution_count": null,
   "id": "0ae858cf",
   "metadata": {},
   "outputs": [],
   "source": [
    "print(Counter(lista))\n",
    "print(Counter(dictionar))"
   ]
  },
  {
   "cell_type": "markdown",
   "id": "c62a5868",
   "metadata": {},
   "source": [
    "### <span class=\"ita\"> <span class=\"green\"> - ChainMap </span>  - prelucrare dictionare "
   ]
  },
  {
   "cell_type": "code",
   "execution_count": null,
   "id": "3d5a01a8",
   "metadata": {},
   "outputs": [],
   "source": [
    "dict1 = {1: 'Ana', 2: 'Ema'}\n",
    "dict2 = {3: 'Cris', 4: 'Ben'}\n",
    "dict3 = {5: 'Vio', 6: 'Lia'}\n",
    "# ChainMap\n",
    "colectie = ChainMap(dict1, dict2)  # creaza o colectie de dictionare\n",
    "\n",
    "print(colectie)\n",
    "print(list(colectie.keys()))\n",
    "print(list(colectie.values()))\n",
    "print(list(colectie.maps))\n",
    "\n",
    "x = colectie.new_child(dict3)  # adauga dictionarul nou inaintea celorlate. Nu modifica colectia initiala\n",
    "print(x)"
   ]
  },
  {
   "cell_type": "markdown",
   "id": "5e005db0",
   "metadata": {},
   "source": [
    "### <span class=\"ita\"> <span class=\"green\"> - nametuple </span>  - o alta abordare a tuplurilor"
   ]
  },
  {
   "cell_type": "code",
   "execution_count": null,
   "id": "12fe80bf",
   "metadata": {},
   "outputs": [],
   "source": [
    "# definim un model numetuple\n",
    "Persoana = namedtuple('Persoana', ['nume', 'prenume', 'sex'])\n",
    "\n",
    "# definim un obiect persoana\n",
    "persoana1 = Persoana('Popa', 'Victor', 'm')\n",
    "\n",
    "print(persoana1.nume)\n",
    "print(persoana1.prenume)\n",
    "print(persoana1[2])\n",
    "print(persoana1.sex)\n",
    "type(persoana1)"
   ]
  },
  {
   "cell_type": "markdown",
   "id": "b1633391",
   "metadata": {},
   "source": [
    "## <span class=\"trcz\">7.2.8. math - modul standard <a href=\"https://docs.python.org/3.10/library/math.html#module-math\">Click aici</a>"
   ]
  },
  {
   "cell_type": "markdown",
   "id": "0dd3c999",
   "metadata": {},
   "source": [
    "### <span class=\"ita\"> <span class=\"green\"> math.pi </span> - constanta \"pi\""
   ]
  },
  {
   "cell_type": "code",
   "execution_count": null,
   "id": "1cd8aee7",
   "metadata": {},
   "outputs": [],
   "source": [
    "import math\n",
    "print(math.pi)"
   ]
  },
  {
   "cell_type": "markdown",
   "id": "2f86de71",
   "metadata": {},
   "source": [
    "### <span class=\"ita\"> <span class=\"green\"> math.e </span> - constanta \"e\""
   ]
  },
  {
   "cell_type": "code",
   "execution_count": null,
   "id": "1f747c5a",
   "metadata": {},
   "outputs": [],
   "source": [
    "print(math.e)"
   ]
  },
  {
   "cell_type": "markdown",
   "id": "f02bf74c",
   "metadata": {},
   "source": [
    "### <span class=\"ita\"> <span class=\"green\"> math.sqrt(numeric_expression) </span> - extrage radacina patrata"
   ]
  },
  {
   "cell_type": "code",
   "execution_count": null,
   "id": "ba9c5c31",
   "metadata": {},
   "outputs": [],
   "source": [
    "print(math.sqrt(144))"
   ]
  },
  {
   "cell_type": "markdown",
   "id": "54b8ba8a",
   "metadata": {},
   "source": [
    "### <span class=\"ita\"> <span class=\"green\"> math.pow(base, exponent) </span> - ridicare la putere"
   ]
  },
  {
   "cell_type": "code",
   "execution_count": null,
   "id": "8e6842c6",
   "metadata": {},
   "outputs": [],
   "source": [
    "print(math.pow(2, 10))"
   ]
  },
  {
   "cell_type": "markdown",
   "id": "b4b35285",
   "metadata": {},
   "source": [
    "### <span class=\"ita\"> <span class=\"green\"> math.ceil(numeric_expression) </span> - rotunjire in plus"
   ]
  },
  {
   "cell_type": "code",
   "execution_count": null,
   "id": "3642b2ae",
   "metadata": {},
   "outputs": [],
   "source": [
    "print(math.ceil(19.00001))"
   ]
  },
  {
   "cell_type": "markdown",
   "id": "1a73aac9",
   "metadata": {},
   "source": [
    "### <span class=\"ita\"> <span class=\"green\"> math.floor(numeric_expression)  </span> - rotunjire in minus"
   ]
  },
  {
   "cell_type": "code",
   "execution_count": null,
   "id": "91938788",
   "metadata": {},
   "outputs": [],
   "source": [
    "print(math.floor(20.99999))"
   ]
  },
  {
   "cell_type": "markdown",
   "id": "d1fe8941",
   "metadata": {},
   "source": [
    "## <span class=\"trcz\">7.2.9. time - modul standard <a href=\"https://docs.python.org/3.10/library/time.html#module-time\">Click aici</a>"
   ]
  },
  {
   "cell_type": "markdown",
   "id": "302cd99c",
   "metadata": {},
   "source": [
    "### Referinta: 00:00:01 am ,1 Ianuarie 1970 (epoch time);\n",
    "\n",
    "### struct_time - un tuplu cu 9 valori <a href=\"https://docs.python.org/3.10/library/time.html#time.struct_time\">Click struct_time</a>\n",
    "\n",
    "### <a href=\"https://docs.python.org/3.10/library/time.html#time.strftime\">Metacaractere utilizate</a>"
   ]
  },
  {
   "cell_type": "markdown",
   "id": "ec1ac99c",
   "metadata": {},
   "source": [
    "###   <span class=\"ita\"> <span class=\"green\"> time.localtime() </span> - returneaza local struct_time"
   ]
  },
  {
   "cell_type": "code",
   "execution_count": null,
   "id": "da0895ef",
   "metadata": {},
   "outputs": [],
   "source": [
    "import time\n",
    "print(time.localtime())"
   ]
  },
  {
   "cell_type": "markdown",
   "id": "6e14689d",
   "metadata": {},
   "source": [
    "###    <span class=\"ita\"> <span class=\"green\"> time.gmtime() </span> - returneaza GMT struct_time "
   ]
  },
  {
   "cell_type": "code",
   "execution_count": null,
   "id": "7a3dad92",
   "metadata": {},
   "outputs": [],
   "source": [
    "print(time.gmtime())"
   ]
  },
  {
   "cell_type": "markdown",
   "id": "09f853ea",
   "metadata": {},
   "source": [
    "### <span class=\"ita\"> <span class=\"green\"> time.asctime() </span> - returneaza un string de forma: 'Wed Mar 16 14:25:56 2022' "
   ]
  },
  {
   "cell_type": "code",
   "execution_count": null,
   "id": "28272928",
   "metadata": {},
   "outputs": [],
   "source": [
    "print(time.asctime())               # implicit local time\n",
    "print(time.asctime(time.gmtime()))"
   ]
  },
  {
   "cell_type": "markdown",
   "id": "8a010c2a",
   "metadata": {},
   "source": [
    "###  <span class=\"ita\"> <span class=\"green\"> time.strftime(patern [,struct_time]) </span> - setarea unui format dorit"
   ]
  },
  {
   "cell_type": "code",
   "execution_count": null,
   "id": "24e76b06",
   "metadata": {},
   "outputs": [],
   "source": [
    "# format standard: \"YYYY-mm-dd HH:MM:SS\"\n",
    "# format dorit: \"dd.mm.YYYY HH:MM:SS\"\n",
    "patern = ''\n",
    "time.strftime(patern)"
   ]
  },
  {
   "cell_type": "code",
   "execution_count": null,
   "id": "e9cad257",
   "metadata": {},
   "outputs": [],
   "source": [
    "# format dorit: \"Miercuri 30 Mar 2022 15:45\", din gmt time\n",
    "patern = ''\n",
    "time.strftime(patern, time.gmtime())"
   ]
  },
  {
   "cell_type": "markdown",
   "id": "aa518dee",
   "metadata": {},
   "source": [
    "###  <span class=\"ita\"> <span class=\"green\"> time.strptime(string, patern) </span> - crearea unui struct_time pornind de la un format diferit (string)"
   ]
  },
  {
   "cell_type": "code",
   "execution_count": null,
   "id": "a3c13ab1",
   "metadata": {},
   "outputs": [],
   "source": [
    "string = 'Jan-1970 01 14.53.25'\n",
    "patern = ''\n",
    "result = time.strptime(string, patern)\n",
    "print(result)"
   ]
  },
  {
   "cell_type": "code",
   "execution_count": null,
   "id": "f98f7fba",
   "metadata": {},
   "outputs": [],
   "source": [
    "string = \"30 11.00\"\n",
    "patern = ''\n",
    "print(time.strptime(string, patern))"
   ]
  },
  {
   "cell_type": "markdown",
   "id": "f6ef0dfd",
   "metadata": {},
   "source": [
    "###  <span class=\"ita\"> <span class=\"green\"> time.sleep(second) </span> - suspenda executia (secunde)"
   ]
  },
  {
   "cell_type": "code",
   "execution_count": null,
   "id": "8999cfca",
   "metadata": {},
   "outputs": [],
   "source": [
    "# ... ia o pauza\n",
    "time.sleep(5)\n",
    "print('Pauza s-a sfarsit, apuca-te de treaba :)')  # suspenda executia timp de 5 secunde"
   ]
  },
  {
   "cell_type": "markdown",
   "id": "5933d393",
   "metadata": {},
   "source": [
    "###  <span class=\"ita\"> <span class=\"green\"> deltatime </span> - diferenta dintre doua momente de timp"
   ]
  },
  {
   "cell_type": "code",
   "execution_count": null,
   "id": "78aef238",
   "metadata": {},
   "outputs": [],
   "source": [
    "# Diferenta dintre doua date(datetime)\n",
    "a = time.time()           # current time in second (nr de secunde scurse de la 01.01.1970 00:00:01)\n",
    "b = time.mktime((2000+21, 3+5, 2, 9, 54, 59, 3, 171, 1))  # acelasi lucru din cele 9 elemente componente\n",
    "\n",
    "dif = float('{:f}'.format(a - b))  # cu 6 zecimale la secunda\n",
    "print(dif) \n",
    "print('{:.0f}'.format(dif))"
   ]
  },
  {
   "cell_type": "code",
   "execution_count": null,
   "id": "21db4d8d",
   "metadata": {},
   "outputs": [],
   "source": [
    "def sec_to_time(time_in_second):\n",
    "    ore = int(time_in_second // 3600)\n",
    "    dif = int(time_in_second % 3600)\n",
    "    min = int(dif // 60)\n",
    "    sec = int(dif % 60)\n",
    "    zile = int(ore // 24)\n",
    "    rest_ore = int(ore % 24)\n",
    "    return {\"zile\": zile, \"ore\": rest_ore, \"minute\": min, \"secunde\": sec}\n",
    "\n",
    "print(sec_to_time(dif))"
   ]
  },
  {
   "cell_type": "markdown",
   "id": "92f76daf",
   "metadata": {},
   "source": [
    "### <span class=\"ita\"> <span class=\"green\"> time.ctime(second), time.gmtime(second), time.localtime(second)  </span> - alte metode utile"
   ]
  },
  {
   "cell_type": "code",
   "execution_count": null,
   "id": "95bd7413",
   "metadata": {},
   "outputs": [],
   "source": [
    "# alte functii\n",
    "print(time.ctime(a))  # transforma din secunde Epoch in string\n",
    "print(time.gmtime(b))  # transforma din secunde Epoch in struct_time GMT\n",
    "print(time.localtime(a))  # idem LOCAL"
   ]
  },
  {
   "cell_type": "markdown",
   "id": "ea73466a",
   "metadata": {},
   "source": [
    "## <span class=\"trcz\">7.2.10. calendar - modul standard <a href=\"https://docs.python.org/3.10/library/calendar.html#module-calendar\">Click aici</a>"
   ]
  },
  {
   "cell_type": "markdown",
   "id": "7afbe574",
   "metadata": {},
   "source": [
    "### <span class=\"ita\"> - <span class=\"green\"> calendar.weekday(an, luna, zi)</span> - returneaza numarul zilei (0-6)"
   ]
  },
  {
   "cell_type": "code",
   "execution_count": null,
   "id": "427ecc38",
   "metadata": {},
   "outputs": [],
   "source": [
    "import calendar\n",
    "an, luna, zi = 2022, 3, 16\n",
    "print(calendar.weekday(an, luna, zi))"
   ]
  },
  {
   "cell_type": "markdown",
   "id": "c18d56cf",
   "metadata": {},
   "source": [
    "###  <span class=\"ita\"> - <span class=\"green\">calendar.isleap(an)</span> - testeaza daca e an bisect"
   ]
  },
  {
   "cell_type": "code",
   "execution_count": null,
   "id": "27d4890d",
   "metadata": {},
   "outputs": [],
   "source": [
    "print(calendar.isleap(an))"
   ]
  },
  {
   "cell_type": "markdown",
   "id": "a4f44d91",
   "metadata": {},
   "source": [
    "### <span class=\"ita\"> - <span class=\"green\">calendar.mdays</span> - lista cu numarul zilelor lunilor"
   ]
  },
  {
   "cell_type": "code",
   "execution_count": null,
   "id": "7fac2377",
   "metadata": {},
   "outputs": [],
   "source": [
    "print(calendar.mdays)"
   ]
  },
  {
   "cell_type": "markdown",
   "id": "37a7fc1b",
   "metadata": {},
   "source": [
    "### <span class=\"ita\"> <span class=\"green\"> - calendar.day_name[nr_weekday] </span>- numele zilei din saptamana\n",
    "### <span class=\"ita\"> <span class=\"green\"> - calendar.day_abbr[nr_weekday] </span>- numele zilei din saptamana"
   ]
  },
  {
   "cell_type": "code",
   "execution_count": null,
   "id": "46d3056a",
   "metadata": {},
   "outputs": [],
   "source": [
    "nr_weekday = 2 \n",
    "print(calendar.day_name[nr_weekday] )\n",
    "print(calendar.day_abbr[nr_weekday])"
   ]
  },
  {
   "cell_type": "markdown",
   "id": "c1410da6",
   "metadata": {},
   "source": [
    "### <span class=\"ita\"> <span class=\"green\">- calendar.month_name[luna] </span>- numele lunii\n",
    "### <span class=\"ita\"> <span class=\"green\">- calendar.month_abbr[luna] </span>- numele lunii"
   ]
  },
  {
   "cell_type": "code",
   "execution_count": null,
   "id": "8a09ac2b",
   "metadata": {},
   "outputs": [],
   "source": [
    "print(calendar.month_name[luna])\n",
    "print(calendar.month_abbr[luna])"
   ]
  },
  {
   "cell_type": "markdown",
   "id": "166bfcd9",
   "metadata": {},
   "source": [
    "### <span class=\"ita\"> <span class=\"green\">- calendar.monthcalendar(an, luna) </span>- zilele lunii in liste de saptamani"
   ]
  },
  {
   "cell_type": "code",
   "execution_count": null,
   "id": "579ca25e",
   "metadata": {},
   "outputs": [],
   "source": [
    "print(calendar.monthcalendar(an, luna))"
   ]
  },
  {
   "cell_type": "markdown",
   "id": "68265c3d",
   "metadata": {},
   "source": [
    "### <span class=\"ita\"> <span class=\"green\">- calendar.month(an, luna) </span>- string cu calendarul desfasurat al lunii"
   ]
  },
  {
   "cell_type": "code",
   "execution_count": null,
   "id": "50818cbb",
   "metadata": {},
   "outputs": [],
   "source": [
    "print(calendar.month(an, luna))"
   ]
  },
  {
   "cell_type": "markdown",
   "id": "e464ff45",
   "metadata": {},
   "source": [
    "### <span class=\"ita\"> <span class=\"green\">- calendar.prcal(an, luna) </span>- string cu calendarul desfasurat al anului"
   ]
  },
  {
   "cell_type": "code",
   "execution_count": null,
   "id": "366edef2",
   "metadata": {},
   "outputs": [],
   "source": [
    "print(calendar.prcal(an, luna))"
   ]
  },
  {
   "cell_type": "markdown",
   "id": "8114b2da",
   "metadata": {},
   "source": [
    "### <span class=\"ita\"> <span class=\"green\">calendar.setfirstweekday(nr_weekday) </span>- seteaza prima zi din saptamana"
   ]
  },
  {
   "cell_type": "code",
   "execution_count": null,
   "id": "01bd0cb8",
   "metadata": {},
   "outputs": [],
   "source": [
    "calendar.setfirstweekday(nr_weekday)\n",
    "print(calendar.month(an, luna))\n",
    "calendar.setfirstweekday(0)\n",
    "print(calendar.month(an, luna))"
   ]
  },
  {
   "cell_type": "markdown",
   "id": "4cfff9df",
   "metadata": {},
   "source": [
    "## <span class=\"trcz\">7.2.11. datetime - modul standard <a href=\"https://docs.python.org/3.10/library/datetime.html#module-datetime\">Click aici</a>"
   ]
  },
  {
   "cell_type": "markdown",
   "id": "49c208b9",
   "metadata": {},
   "source": [
    "### Are o structura cu 7 elemente (an, luna, zi, ora, minut, secunda, fs)\n",
    "\n",
    "### Putem extrage momentul de timp curent;\n",
    "\n",
    "### Putem extrage fiecare componenta din momentul de timp current;\n",
    "\n",
    "### Putem formata data si/sau ora in diferite formate, diferite de cel standard Python;\n",
    "\n",
    "### Putem transforma un string, care are in componenta elementele datetime in format acceptat de Python;\n"
   ]
  },
  {
   "cell_type": "markdown",
   "id": "846c5f66",
   "metadata": {},
   "source": [
    "### <span class=\"ita\"> <span class=\"green\"> - datetime.now() </span> - returneaza momentul de timp curent "
   ]
  },
  {
   "cell_type": "code",
   "execution_count": null,
   "id": "849ae998",
   "metadata": {},
   "outputs": [],
   "source": [
    "from datetime import datetime\n",
    "now = datetime.now()\n",
    "\n",
    "print(\"Date and time in ISO format = {0}\".format(now.isoformat()))\n",
    "# extragem diferite componente din datetime\n",
    "print(\"Current year = {0}\".format(now.year))\n",
    "print(\"Current month = {0}\".format(now.month))\n",
    "print(\"Current date (day) =  {0}\".format(now.day))"
   ]
  },
  {
   "cell_type": "code",
   "execution_count": null,
   "id": "2750311a",
   "metadata": {},
   "outputs": [],
   "source": [
    "now_gmt = datetime.utcnow()\n",
    "print(now_gmt)"
   ]
  },
  {
   "cell_type": "markdown",
   "id": "97ab3f03",
   "metadata": {},
   "source": [
    "### <span class=\"ita\"> <span class=\"green\"> - datetime.strftime(datetime_object, format) </span> - transforma in formatul dorit"
   ]
  },
  {
   "cell_type": "code",
   "execution_count": null,
   "id": "5d25daf2",
   "metadata": {},
   "outputs": [],
   "source": [
    "format = '%A %B %d %Y'\n",
    "print(datetime.strftime(now, format))\n",
    "# alternativ\n",
    "print(now.strftime(format))"
   ]
  },
  {
   "cell_type": "markdown",
   "id": "d10de01e",
   "metadata": {},
   "source": [
    "### <span class=\"ita\"> <span class=\"green\"> - datetime.strptime(string, patern) </span> - transforma din string in datetime"
   ]
  },
  {
   "cell_type": "code",
   "execution_count": null,
   "id": "a3e48449",
   "metadata": {},
   "outputs": [],
   "source": [
    "string = '27-05/2021T11.59.59 PM'\n",
    "patern = ''\n",
    "result = datetime.strptime(string, patern)\n",
    "print(result)"
   ]
  },
  {
   "cell_type": "markdown",
   "id": "45a2a9fe",
   "metadata": {},
   "source": [
    "### <span class=\"ita\"> <span class=\"green\"> - deltatime </span> - diferenta dintre doua obiecte datetime  "
   ]
  },
  {
   "cell_type": "code",
   "execution_count": null,
   "id": "373e8f00",
   "metadata": {},
   "outputs": [],
   "source": [
    "b = datetime.utcnow()\n",
    "a = datetime.now()\n",
    "print(a - b)"
   ]
  },
  {
   "cell_type": "code",
   "execution_count": null,
   "id": "479a88b6",
   "metadata": {},
   "outputs": [],
   "source": [
    "x = datetime(2000+22,3,16, 18, 59, 59, 1)      # parametrii an, luna, zi, ora, min, secunda, microsecunda\n",
    "y = datetime(2021,12,12, 23, 59, 59, 999999)   # parametrii sunt numere intregi, pot fi calculati cu expresii\n",
    "print(x - y)"
   ]
  },
  {
   "cell_type": "markdown",
   "id": "94bce183",
   "metadata": {},
   "source": [
    "### <span class=\"ita\"> <span class=\"green\"> - date.today() </span> - extrage data curenta (doar an, luna, zi)"
   ]
  },
  {
   "cell_type": "code",
   "execution_count": null,
   "id": "f5ce342a",
   "metadata": {},
   "outputs": [],
   "source": [
    "import datetime\n",
    "today = datetime.date.today()\n",
    "print(today)\n",
    "print(today.year)"
   ]
  },
  {
   "cell_type": "markdown",
   "id": "9d0ef8c3",
   "metadata": {},
   "source": [
    "## <span class=\"trcz\">7.2.12. zipfile - modul standard <a href=\"https://docs.python.org/3.10/library/zipfile.html#module-zipfile\">Click aici</a>"
   ]
  },
  {
   "cell_type": "markdown",
   "id": "5a408998",
   "metadata": {},
   "source": [
    "    Nume_obj = zipfile.ZipFile(\"cale/nume_fisier.zip\", \"r\")\n",
    "\n",
    "### Putem obtine lista fisierelor care compun arhiva si informatii despre fisierele care compun arhiva;\n",
    "\t\t\t\t\t \n",
    "### Putem citi fisiere arhivate si putem scrie in fisiere arhivate; \n",
    "\n",
    "### Putem extrage toate fisierele sau doar cel specificat;\t\n",
    "\n",
    "### Putem crea o arhiva noua, comprimata sau necomprimata.\n"
   ]
  },
  {
   "cell_type": "code",
   "execution_count": null,
   "id": "a5ce4bc0",
   "metadata": {},
   "outputs": [],
   "source": [
    "from datetime import datetime\n",
    "import zipfile\n",
    "cale = \"C:\\\\Users\\\\paul\\\\OneDrive\\\\Documents\\\\__PyThOn\\\\\""
   ]
  },
  {
   "cell_type": "markdown",
   "id": "e711ad31",
   "metadata": {},
   "source": [
    "### <span class=\"ita\"> <span class=\"green\"> - zipfile.ZipFile(fisier, \"w\") </span> -  creaza o arhiva noua\n",
    "### <span class=\"ita\"> <span class=\"green\"> - arhiva.write() </span> -  adauga fisier in arhiva\n",
    "### <span class=\"ita\"> <span class=\"green\"> - arhiva.writestr() </span> -  scrie text intr-un fisier din arhiva\n",
    "### <span class=\"ita\"> <span class=\"green\"> - arhiva.read() </span> -  citeste un fisier din arhiva"
   ]
  },
  {
   "cell_type": "code",
   "execution_count": null,
   "id": "cfbacadf",
   "metadata": {},
   "outputs": [],
   "source": [
    "arhiva = zipfile.ZipFile(cale + \"arhiva.zip\", \"w\", compression=zipfile.ZIP_DEFLATED)\n",
    "\n",
    "arhiva.write('medici.txt', 'm.txt')  # adaugam fisier in arhiva\n",
    "arhiva.write('guta.txt', 'guta')\n",
    "print(arhiva.read('guta'))           # citim continutul fisierului\n",
    "\n",
    "arhiva.writestr('scrie.txt', \"\\nAm scris in fisierul din arhiva astazi {0}\".format(datetime.today()))"
   ]
  },
  {
   "cell_type": "markdown",
   "id": "5c20d977",
   "metadata": {},
   "source": [
    "### <span class=\"ita\"> <span class=\"green\"> - zipfile.ZipFile(fisier, \"r\") </span> -  acceseaza arhiva\n",
    "### <span class=\"ita\"> <span class=\"green\"> - arhiva.namelist() </span> - afiseaza numele fisierelor din arhiva\n",
    "### <span class=\"ita\"> <span class=\"green\"> - arhiva.printdir() </span> - afiseaza numele fisierelor din arhiva\n",
    "### <span class=\"ita\"> <span class=\"green\"> - arhiva.infolist() </span> - ofera informatii despre fisierele din arhiva"
   ]
  },
  {
   "cell_type": "code",
   "execution_count": null,
   "id": "814097b4",
   "metadata": {},
   "outputs": [],
   "source": [
    "# deschide arhiva\n",
    "arhiva = zipfile.ZipFile(cale + \"arhiva.zip\", \"r\")"
   ]
  },
  {
   "cell_type": "code",
   "execution_count": null,
   "id": "dbd2c8d9",
   "metadata": {},
   "outputs": [],
   "source": [
    "# listeaza numele fisierelor din arhiva\n",
    "count = 1\n",
    "for nume in arhiva.namelist():\n",
    "    print(\"Fisier {0}:\".format(count), nume)\n",
    "    count += 1\n",
    "\n",
    "print(\"-\" * 25)\n",
    "print(arhiva.printdir())"
   ]
  },
  {
   "cell_type": "code",
   "execution_count": null,
   "id": "7773dcf5",
   "metadata": {},
   "outputs": [],
   "source": [
    "# lista cu informatii despre fisiere\n",
    "for info in arhiva.infolist():\n",
    "    print(type(info))\n",
    "    print('\\n', info.filename)\n",
    "    print('\\tComment:\\t', info.comment)\n",
    "    print('\\tSystem:\\t\\t', info.create_system, '(0 = Windows, 3 = Unix)')\n",
    "    print('\\tZIP version:\\t', info.create_version)\n",
    "    print('\\tCompressed:\\t', info.compress_size, 'bytes')\n",
    "    print('\\tUncompressed:\\t', info.file_size, 'bytes')\n",
    "    if info.file_size - info.compress_size > 0:\n",
    "        print('Comprimat')\n",
    "    else:\n",
    "        print('Necomprimat')"
   ]
  },
  {
   "cell_type": "markdown",
   "id": "c0311fe8",
   "metadata": {},
   "source": [
    "### <span class=\"ita\"> <span class=\"green\"> - arhiva.extract() </span> - extrage un fisier din arhiva"
   ]
  },
  {
   "cell_type": "code",
   "execution_count": null,
   "id": "77f638e3",
   "metadata": {},
   "outputs": [],
   "source": [
    "# extrage un singur fisier (fisier extras, calea)\n",
    "arhiva.extract('scrie.txt', cale + 'test')"
   ]
  },
  {
   "cell_type": "markdown",
   "id": "d8207e29",
   "metadata": {},
   "source": [
    "### <span class=\"ita\"> <span class=\"green\"> - arhiva.extractall() </span> - extrage toate fisierele din arhiva"
   ]
  },
  {
   "cell_type": "code",
   "execution_count": null,
   "id": "7754b7f8",
   "metadata": {},
   "outputs": [],
   "source": [
    "# extrage toate fisierele\n",
    "arhiva.extractall(cale + 'test')"
   ]
  },
  {
   "cell_type": "markdown",
   "id": "66808a81",
   "metadata": {},
   "source": [
    "## <span class=\"trcz\">7.2.13. json - modul standard <a href=\"https://docs.python.org/3.10/library/json.html#module-json\">Click aici</a>"
   ]
  },
  {
   "cell_type": "markdown",
   "id": "3ec6a6c3",
   "metadata": {},
   "source": [
    "### doar ghilimelele sunt acceptate pentru stringuri\n",
    "\n",
    "### corespondente tipuri de date\n",
    "###   JSON        -    Python\n",
    "###   object      -    dict\n",
    "###   array       -    list\n",
    "###   string     -     str\n",
    "###   number(int)  -   int\n",
    "###   number(real)   - float\n",
    "###   true        -    True\n",
    "###   false      -     False\n",
    "###   null        -    None"
   ]
  },
  {
   "cell_type": "code",
   "execution_count": null,
   "id": "bc232895",
   "metadata": {},
   "outputs": [],
   "source": [
    "import json\n",
    "\n",
    "# creare fisier\n",
    "filename = 'preferinte.json'\n",
    "# informatii de serializat\n",
    "preferinte_maria = [\"maria\", {\"muzica\": \"folk\", \"sport\": \"ski\", \"culoare\": \"albastru\"}]\n",
    "preferinte_victor = [\"victor\", {\"muzica\": \"rock\", \"sport\": \"box\", \"culoare\": \"verde\"}]"
   ]
  },
  {
   "cell_type": "markdown",
   "id": "473f23c6",
   "metadata": {},
   "source": [
    "### <span class=\"ita\"> <span class=\"green\"> - json.dump(data, handle) </span> - crearea si popularea fisierului JSON"
   ]
  },
  {
   "cell_type": "code",
   "execution_count": null,
   "id": "bbfcddf6",
   "metadata": {},
   "outputs": [],
   "source": [
    "# stocarea datelor in fisier\n",
    "with open(filename, \"w\") as handle:            # handle = open(filename, \"w\")\n",
    "    json.dump(preferinte_maria, handle)\n",
    "    json.dump(preferinte_victor, handle)"
   ]
  },
  {
   "cell_type": "code",
   "execution_count": null,
   "id": "4d92c811",
   "metadata": {},
   "outputs": [],
   "source": [
    "# stocarea datelor - alt exemplu\n",
    "with open(filename, \"w\") as handle:\n",
    "    json.dump([preferinte_maria, preferinte_victor], handle)"
   ]
  },
  {
   "cell_type": "markdown",
   "id": "a2e14abd",
   "metadata": {},
   "source": [
    "### <span class=\"ita\"> <span class=\"green\"> - json.load(handle) </span> - accesarea datelor din fisierul JSON"
   ]
  },
  {
   "cell_type": "code",
   "execution_count": null,
   "id": "05a69a30",
   "metadata": {},
   "outputs": [],
   "source": [
    "# accesarea datelor\n",
    "with open(filename) as handle:\n",
    "    info_preferinte = json.load(handle)\n",
    "print(info_preferinte)"
   ]
  },
  {
   "cell_type": "markdown",
   "id": "825820b7",
   "metadata": {},
   "source": [
    "### <span class=\"ita\"> - Exemplu"
   ]
  },
  {
   "cell_type": "code",
   "execution_count": null,
   "id": "c2078e37",
   "metadata": {},
   "outputs": [],
   "source": [
    "# fisierele accesate\n",
    "cities = cale + 'cities.json'\n",
    "countries = cale + 'countries.json'\n",
    "regions = cale + 'regions.json'"
   ]
  },
  {
   "cell_type": "code",
   "execution_count": null,
   "id": "3a806ee3",
   "metadata": {},
   "outputs": [],
   "source": [
    "# deschide fisiere pentru citire\n",
    "oras = open(cities)\n",
    "tara = open(countries)\n",
    "regiune = open(regions)"
   ]
  },
  {
   "cell_type": "code",
   "execution_count": null,
   "id": "228b4487",
   "metadata": {},
   "outputs": [],
   "source": [
    "# accesare date cu json.load()\n",
    "orase = json.load(oras)\n",
    "tari = json.load(tara)\n",
    "regiuni = json.load(regiune)"
   ]
  },
  {
   "cell_type": "code",
   "execution_count": null,
   "id": "7729cbba",
   "metadata": {},
   "outputs": [],
   "source": [
    "# afisare date\n",
    "print(orase[0])\n",
    "print(regiuni[0])\n",
    "print(tari)"
   ]
  },
  {
   "cell_type": "code",
   "execution_count": null,
   "id": "87fb7e54",
   "metadata": {},
   "outputs": [],
   "source": [
    "# localitati din Romania\n",
    "for i in orase:\n",
    "    if i['CountryID'] == 202:\n",
    "        print(i['City'])"
   ]
  },
  {
   "cell_type": "code",
   "execution_count": null,
   "id": "bb3828f3",
   "metadata": {},
   "outputs": [],
   "source": [
    "# obtinere diferite informatii\n",
    "regiune_dorita = 'Cluj'\n",
    "\n",
    "for j in regiuni:\n",
    "    regiuni_alese = []\n",
    "    if j['Region'] == regiune_dorita:\n",
    "        regiuni_alese.append(j[\"_id\"])\n",
    "    for i in orase:\n",
    "        if i[\"RegionID\"] in regiuni_alese:\n",
    "            print(\"Oras:\", i[\"City\"], \"IdReg:\", i[\"RegionID\"], \"Judet:\", regiune_dorita, \"IdTara:\", i[\"CountryID\"])"
   ]
  },
  {
   "cell_type": "markdown",
   "id": "1f2d943e",
   "metadata": {},
   "source": [
    "### <span class=\"ita\"> <span class=\"green\">  </span> "
   ]
  }
 ],
 "metadata": {
  "kernelspec": {
   "display_name": "Python 3 (ipykernel)",
   "language": "python",
   "name": "python3"
  },
  "language_info": {
   "codemirror_mode": {
    "name": "ipython",
    "version": 3
   },
   "file_extension": ".py",
   "mimetype": "text/x-python",
   "name": "python",
   "nbconvert_exporter": "python",
   "pygments_lexer": "ipython3",
   "version": "3.9.7"
  }
 },
 "nbformat": 4,
 "nbformat_minor": 5
}
